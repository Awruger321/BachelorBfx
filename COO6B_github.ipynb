{
 "cells": [
  {
   "cell_type": "markdown",
   "metadata": {},
   "source": [
    "![github](http://www.molecularecologist.com/wp-content/uploads/2013/11/github-logo.jpg)\n",
    "GitHub is a web-based version control repository. It offers all of the version control and source code management functionality of Git as well as adding its own features. It provides access control and several collaboration features such as bug tracking, feature requests, task management, and wikis for every project. The goal of this COO is to submit your own pipeline to github and make changes/improvements by collaborating. \n",
    "\n",
    "### 1 - Submit your pipeline to github\n",
    "- Create an account and login -> https://github.com/join\n",
    "- Create a repository\n",
    " - Make sure to initialize this repository with a README!\n",
    "- Create a new file\n",
    " - Filename: your_pipeline_name.sh\n",
    " - Copy/paste your pipeline code and commit the file.\n",
    " \n",
    "### 2 - Use the pipeline from your neighbour\n",
    "- Ask for the url of your neighbour's pipeline.\n",
    "- Copy/paste your neighbour's pipeline code into this notebook.\n",
    "- Run the code, does it work?\n",
    " - Compare the results with your pipeline.\n",
    " - Can you change parameters, for example the output folder?\n",
    " \n"
   ]
  },
  {
   "cell_type": "code",
   "execution_count": null,
   "metadata": {
    "collapsed": true
   },
   "outputs": [],
   "source": [
    "# Add pipeline from your neighbour here."
   ]
  },
  {
   "cell_type": "markdown",
   "metadata": {},
   "source": [
    "### 3 - Collaborate and improve pipelines\n",
    "- Submit an issue for your neighbour's pipeline and describe the problem or enhancement.\n",
    "- Check the issues of your own pipeline and try to solve them.\n",
    "- Commit the changes to your own pipeline on github."
   ]
  },
  {
   "cell_type": "code",
   "execution_count": null,
   "metadata": {
    "collapsed": true
   },
   "outputs": [],
   "source": [
    "# Add your own improved pipeline here."
   ]
  }
 ],
 "metadata": {
  "kernelspec": {
   "display_name": "Bash",
   "language": "bash",
   "name": "bash"
  },
  "language_info": {
   "codemirror_mode": "shell",
   "file_extension": ".sh",
   "mimetype": "text/x-sh",
   "name": "bash"
  }
 },
 "nbformat": 4,
 "nbformat_minor": 2
}
