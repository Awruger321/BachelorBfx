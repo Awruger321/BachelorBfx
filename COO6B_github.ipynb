{
 "cells": [
  {
   "cell_type": "markdown",
   "metadata": {
    "deletable": true,
    "editable": true
   },
   "source": [
    "![github](http://www.molecularecologist.com/wp-content/uploads/2013/11/github-logo.jpg)\n",
    "GitHub is a web-based version control repository. It offers all of the version control and source code management functionality of Git as well as adding its own features. It provides access control and several collaboration features such as bug tracking, feature requests, task management, and wikis for every project. The goal of this COO is to submit your own pipeline to github and make changes/improvements by collaborating. \n"
   ]
  },
  {
   "cell_type": "markdown",
   "metadata": {},
   "source": [
    "----\n",
    "To get an idea for the things you can do follow the git tutorial:\n",
    "https://try.github.io/\n",
    "Be sure to get at least to 1.12\n",
    "\n",
    "----"
   ]
  },
  {
   "cell_type": "markdown",
   "metadata": {
    "deletable": true,
    "editable": true
   },
   "source": [
    "### 1 - Get the 'WES pipeline'\n",
    "- Create a GitHub account and login -> https://github.com/join\n",
    "- Go to course repository\n",
    " - https://github.com/UMCUGenetics/BachelorBfx\n",
    "- Fork this folder to your personal account\n",
    " - ![fork](https://upload.wikimedia.org/wikipedia/commons/3/38/GitHub_Fork_Button.png)\n",
    "\n",
    " \n",
    "### 2 - Get your own version of the pipeline into your notebook\n",
    "- Go to your personal account\n",
    "- Find the BachelorBfx folder\n",
    "- Clone this repository to your notebook\n",
    " - ![clone](https://help.github.com/assets/images/help/repository/https-url-clone.png)"
   ]
  },
  {
   "cell_type": "code",
   "execution_count": null,
   "metadata": {
    "collapsed": true,
    "deletable": true,
    "editable": true
   },
   "outputs": [],
   "source": [
    "git clone \"https://github.com/ youraccount /BachelorBfx\""
   ]
  },
  {
   "cell_type": "markdown",
   "metadata": {},
   "source": [
    "### 3 - Run the pipeline script\n",
    "- Go into the BachelorBfx folder\n",
    "- Execute the pipeline"
   ]
  },
  {
   "cell_type": "code",
   "execution_count": null,
   "metadata": {
    "collapsed": true
   },
   "outputs": [],
   "source": [
    "cd BachelorBfx\n",
    "bash WES_analysis_pipeline.sh"
   ]
  },
  {
   "cell_type": "markdown",
   "metadata": {},
   "source": [
    "- You probably got some errors\n",
    "- Try to figure out what causes them and fix them in the script\n",
    "- You can use the editor on GitHub\n",
    " - ![edit](https://help.github.com/assets/images/help/repository/edit-file-edit-button.png)\n",
    " "
   ]
  },
  {
   "cell_type": "markdown",
   "metadata": {},
   "source": [
    "- After you have made and saved the edits we need to get the code into your notebook again\n",
    "- Run the command below in the BachelorBfx folder"
   ]
  },
  {
   "cell_type": "code",
   "execution_count": null,
   "metadata": {
    "collapsed": true
   },
   "outputs": [],
   "source": [
    "git pull"
   ]
  },
  {
   "cell_type": "markdown",
   "metadata": {},
   "source": [
    "- Now go back to step 3 until you have a working script"
   ]
  },
  {
   "cell_type": "markdown",
   "metadata": {},
   "source": [
    "### 4.1 - Collaborate and improve pipelines by PULL REQUESTS\n",
    "- We clearly had some errors in our script\n",
    "- Go to our repository and suggest how to fix it\n",
    "- You can do this by making a pull request:\n",
    " - ![pull](https://guides.github.com/activities/hello-world/create-pr.png)\n",
    "- Link this pull request to your working pipeline so we can easily fix it\n"
   ]
  },
  {
   "cell_type": "markdown",
   "metadata": {
    "deletable": true,
    "editable": true
   },
   "source": [
    "### 4.2 - Collaborate and improve pipelines by RAISING ISSUES\n",
    "- Sometimes you don't have a fix for a problem but do know there is a problem\n",
    "- Go to the Github of your neighbour's pipeline and raise an issue\n",
    " - describe the problem or enhancement you propose\n",
    " - ![issue](https://help.github.com/assets/images/help/issues/new_issues_button.png)\n",
    "\n",
    "- Check any issues on your own pipeline and try to solve them\n",
    "- Commit the changes to your own pipeline on GitHub"
   ]
  },
  {
   "cell_type": "markdown",
   "metadata": {},
   "source": [
    "----\n",
    "## BONUS\n",
    "- If you feel like making an even better pipline include some safety checks\n",
    "- Look at the example code at the bottom of the pipeline script \n",
    "- Maybe you can check if a file is there before using it\n",
    " - For super pro skills use a 'development' branch to add these features\n",
    " - ![branch](https://guides.github.com/activities/hello-world/branching.png)"
   ]
  },
  {
   "cell_type": "code",
   "execution_count": null,
   "metadata": {
    "collapsed": true,
    "deletable": true,
    "editable": true
   },
   "outputs": [],
   "source": []
  }
 ],
 "metadata": {
  "kernelspec": {
   "display_name": "Bash",
   "language": "bash",
   "name": "bash"
  },
  "language_info": {
   "codemirror_mode": "shell",
   "file_extension": ".sh",
   "mimetype": "text/x-sh",
   "name": "bash"
  }
 },
 "nbformat": 4,
 "nbformat_minor": 2
}
