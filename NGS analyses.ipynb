{
 "cells": [
  {
   "cell_type": "code",
   "execution_count": 2,
   "metadata": {
    "collapsed": false
   },
   "outputs": [
    {
     "name": "stdout",
     "output_type": "stream",
     "text": [
      "[M::bwa_idx_load_from_disk] read 0 ALT contigs\n",
      "[M::process] read 66234 sequences (10000279 bp)...\n",
      "[M::process] read 1956 sequences (295356 bp)...\n",
      "[M::mem_pestat] # candidate unique pairs for (FF, FR, RF, RR): (0, 32219, 0, 2)\n",
      "[M::mem_pestat] skip orientation FF as there are not enough pairs\n",
      "[M::mem_pestat] analyzing insert size distribution for orientation FR...\n",
      "[M::mem_pestat] (25, 50, 75) percentile: (270, 318, 376)\n",
      "[M::mem_pestat] low and high boundaries for computing mean and std.dev: (58, 588)\n",
      "[M::mem_pestat] mean and std.dev: (325.46, 78.13)\n",
      "[M::mem_pestat] low and high boundaries for proper pairs: (1, 694)\n",
      "[M::mem_pestat] skip orientation RF as there are not enough pairs\n",
      "[M::mem_pestat] skip orientation RR as there are not enough pairs\n",
      "[M::mem_process_seqs] Processed 66234 reads in 14.104 CPU sec, 14.109 real sec\n",
      "[M::mem_pestat] # candidate unique pairs for (FF, FR, RF, RR): (0, 956, 0, 0)\n",
      "[M::mem_pestat] skip orientation FF as there are not enough pairs\n",
      "[M::mem_pestat] analyzing insert size distribution for orientation FR...\n",
      "[M::mem_pestat] (25, 50, 75) percentile: (267, 314, 373)\n",
      "[M::mem_pestat] low and high boundaries for computing mean and std.dev: (55, 585)\n",
      "[M::mem_pestat] mean and std.dev: (322.30, 78.78)\n",
      "[M::mem_pestat] low and high boundaries for proper pairs: (1, 691)\n",
      "[M::mem_pestat] skip orientation RF as there are not enough pairs\n",
      "[M::mem_pestat] skip orientation RR as there are not enough pairs\n",
      "[M::mem_process_seqs] Processed 1956 reads in 0.452 CPU sec, 0.414 real sec\n",
      "[main] Version: 0.7.12-r1039\n",
      "[main] CMD: bwa mem Homo_sapiens.GRCh37.GATK.illumina/Homo_sapiens.GRCh37.GATK.illumina.fasta datafiles/na12878_wes_brcagenes-1.fastq datafiles/na12878_wes_brcagenes-2.fastq\n",
      "[main] Real time: 39.943 sec; CPU: 20.300 sec\n"
     ]
    }
   ],
   "source": [
    "bwa mem \\\n",
    "Homo_sapiens.GRCh37.GATK.illumina/Homo_sapiens.GRCh37.GATK.illumina.fasta \\\n",
    "datafiles/na12878_wes_brcagenes-1.fastq \\\n",
    "datafiles/na12878_wes_brcagenes-2.fastq \\\n",
    "> na12878_wes_brca.sam"
   ]
  },
  {
   "cell_type": "code",
   "execution_count": 7,
   "metadata": {
    "collapsed": false
   },
   "outputs": [],
   "source": [
    "sambamba view -S -f bam na12878_wes_brca.sam > na12878_wes_brca.bam"
   ]
  },
  {
   "cell_type": "code",
   "execution_count": 1,
   "metadata": {
    "collapsed": false
   },
   "outputs": [],
   "source": [
    "sambamba sort na12878_wes_brca.bam"
   ]
  },
  {
   "cell_type": "code",
   "execution_count": 1,
   "metadata": {
    "collapsed": false
   },
   "outputs": [
    {
     "name": "stdout",
     "output_type": "stream",
     "text": [
      "[M::bwa_idx_load_from_disk] read 0 ALT contigs\n",
      "[M::process] read 66264 sequences (10000151 bp)...\n",
      "[M::process] read 42436 sequences (6403568 bp)...\n",
      "[M::mem_pestat] # candidate unique pairs for (FF, FR, RF, RR): (5, 31322, 0, 1)\n",
      "[M::mem_pestat] skip orientation FF as there are not enough pairs\n",
      "[M::mem_pestat] analyzing insert size distribution for orientation FR...\n",
      "[M::mem_pestat] (25, 50, 75) percentile: (326, 387, 458)\n",
      "[M::mem_pestat] low and high boundaries for computing mean and std.dev: (62, 722)\n",
      "[M::mem_pestat] mean and std.dev: (393.09, 103.86)\n",
      "[M::mem_pestat] low and high boundaries for proper pairs: (1, 854)\n",
      "[M::mem_pestat] skip orientation RF as there are not enough pairs\n",
      "[M::mem_pestat] skip orientation RR as there are not enough pairs\n",
      "[M::mem_process_seqs] Processed 66264 reads in 23.248 CPU sec, 23.232 real sec\n",
      "[M::mem_pestat] # candidate unique pairs for (FF, FR, RF, RR): (5, 20049, 0, 0)\n",
      "[M::mem_pestat] skip orientation FF as there are not enough pairs\n",
      "[M::mem_pestat] analyzing insert size distribution for orientation FR...\n",
      "[M::mem_pestat] (25, 50, 75) percentile: (326, 387, 458)\n",
      "[M::mem_pestat] low and high boundaries for computing mean and std.dev: (62, 722)\n",
      "[M::mem_pestat] mean and std.dev: (392.97, 103.72)\n",
      "[M::mem_pestat] low and high boundaries for proper pairs: (1, 854)\n",
      "[M::mem_pestat] skip orientation RF as there are not enough pairs\n",
      "[M::mem_pestat] skip orientation RR as there are not enough pairs\n",
      "[M::mem_process_seqs] Processed 42436 reads in 14.696 CPU sec, 14.656 real sec\n",
      "[main] Version: 0.7.12-r1039\n",
      "[main] CMD: bwa mem Homo_sapiens.GRCh37.GATK.illumina/Homo_sapiens.GRCh37.GATK.illumina.fasta datafiles/na12878_wgs_brcagenes-1.fastq datafiles/na12878_wgs_brcagenes-2.fastq\n",
      "[main] Real time: 79.594 sec; CPU: 41.504 sec\n"
     ]
    }
   ],
   "source": [
    "bwa mem Homo_sapiens.GRCh37.GATK.illumina/Homo_sapiens.GRCh37.GATK.illumina.fasta datafiles/na12878_wgs_brcagenes-1.fastq datafiles/na12878_wgs_brcagenes-2.fastq > na12878_wgs_brca.sam"
   ]
  },
  {
   "cell_type": "code",
   "execution_count": 2,
   "metadata": {
    "collapsed": true
   },
   "outputs": [],
   "source": [
    "sambamba view -S -f bam na12878_wgs_brca.sam > na12878_wgs_brca.bam"
   ]
  },
  {
   "cell_type": "code",
   "execution_count": 3,
   "metadata": {
    "collapsed": true
   },
   "outputs": [],
   "source": [
    "sambamba sort na12878_wgs_brca.bam"
   ]
  },
  {
   "cell_type": "code",
   "execution_count": 5,
   "metadata": {
    "collapsed": false
   },
   "outputs": [
    {
     "name": "stdout",
     "output_type": "stream",
     "text": [
      "total 105M\n",
      "drwxrwxr-x  3 ubuntu ubuntu 4.0K Mar 24 08:32 \u001b[0m\u001b[01;34m.\u001b[0m/\n",
      "drwxr-xr-x 13 ubuntu ubuntu 4.0K Mar 24 07:37 \u001b[01;34m..\u001b[0m/\n",
      "lrwxrwxrwx  1 ubuntu ubuntu   31 Mar 23 17:04 \u001b[01;36mdatafiles\u001b[0m -> \u001b[01;34m/home/ubuntu/external/datafiles\u001b[0m/\n",
      "lrwxrwxrwx  1 ubuntu ubuntu   62 Mar 23 17:04 \u001b[01;36mHomo_sapiens.GRCh37.GATK.illumina\u001b[0m -> \u001b[01;34m/home/ubuntu/external/GENOME/Homo_sapiens.GRCh37.GATK.illumina\u001b[0m\u001b[K/\n",
      "drwxr-xr-x  2 ubuntu ubuntu 4.0K Mar 23 17:08 \u001b[01;34m.ipynb_checkpoints\u001b[0m/\n",
      "-rw-rw-r--  1 ubuntu ubuntu 7.1M Mar 23 17:12 na12878_wes_brca.bam\n",
      "-rw-rw-r--  1 ubuntu ubuntu  16K Mar 23 17:13 na12878_wes_brca.bam.bai\n",
      "-rw-rw-r--  1 ubuntu ubuntu  28M Mar 23 17:07 na12878_wes_brca.sam\n",
      "-rw-rw-r--  1 ubuntu ubuntu 4.6M Mar 23 17:13 na12878_wes_brca.sorted.bam\n",
      "-rw-rw-r--  1 ubuntu ubuntu 1.1M Mar 23 17:13 na12878_wes_brca.sorted.bam.bai\n",
      "-rw-rw-r--  1 ubuntu ubuntu  12M Mar 24 08:32 na12878_wgs_brca.bam\n",
      "-rw-rw-r--  1 ubuntu ubuntu  44M Mar 24 08:00 na12878_wgs_brca.sam\n",
      "-rw-rw-r--  1 ubuntu ubuntu 7.7M Mar 24 08:32 na12878_wgs_brca.sorted.bam\n",
      "-rw-rw-r--  1 ubuntu ubuntu 1.4M Mar 24 08:32 na12878_wgs_brca.sorted.bam.bai\n",
      "-rw-rw-r--  1 ubuntu ubuntu 5.7K Mar 24 08:02 NGS analyses.ipynb\n",
      "-rw-rw-r--  1 ubuntu ubuntu  871 Mar 23 15:39 Untitled1.ipynb\n"
     ]
    }
   ],
   "source": [
    "ll -h"
   ]
  },
  {
   "cell_type": "code",
   "execution_count": 14,
   "metadata": {
    "collapsed": false
   },
   "outputs": [
    {
     "name": "stdout",
     "output_type": "stream",
     "text": [
      "finding positions of the duplicate reads in the file...\n",
      "  sorted 33933 end pairs\n",
      "     and 162 single ends (among them 0 unmatched pairs)\n",
      "  collecting indices of duplicate reads...   done in 6 ms\n",
      "  found 9815 duplicates\n",
      "collected list of positions in 0 min 0 sec\n",
      "marking duplicates...\n",
      "total time elapsed: 0 min 3 sec\n"
     ]
    }
   ],
   "source": [
    "sambamba markdup na12878_wes_brca.bam na12878_wes_brca_dedup.bam"
   ]
  },
  {
   "cell_type": "code",
   "execution_count": 15,
   "metadata": {
    "collapsed": true
   },
   "outputs": [],
   "source": [
    "sambamba sort na12878_wes_brca_dedup.bam"
   ]
  },
  {
   "cell_type": "code",
   "execution_count": 16,
   "metadata": {
    "collapsed": false
   },
   "outputs": [
    {
     "name": "stdout",
     "output_type": "stream",
     "text": [
      "finding positions of the duplicate reads in the file...\n",
      "  sorted 53995 end pairs\n",
      "     and 355 single ends (among them 0 unmatched pairs)\n",
      "  collecting indices of duplicate reads...   done in 9 ms\n",
      "  found 14823 duplicates\n",
      "collected list of positions in 0 min 0 sec\n",
      "marking duplicates...\n",
      "total time elapsed: 0 min 4 sec\n"
     ]
    }
   ],
   "source": [
    "sambamba markdup na12878_wgs_brca.bam na12878_wgs_brca_dedup.bam"
   ]
  },
  {
   "cell_type": "code",
   "execution_count": 17,
   "metadata": {
    "collapsed": true
   },
   "outputs": [],
   "source": [
    "sambamba sort na12878_wgs_brca_dedup.bam"
   ]
  },
  {
   "cell_type": "code",
   "execution_count": 4,
   "metadata": {
    "collapsed": false
   },
   "outputs": [
    {
     "name": "stdout",
     "output_type": "stream",
     "text": [
      "[Fri Mar 24 10:25:47 UTC 2017] picard.sam.AddOrReplaceReadGroups INPUT=na12878_wes_brca_dedup.sorted.bam OUTPUT=na12878_wes_brca_dedup.sorted_RG.bam RGLB=na12878 RGPL=illumina RGPU=wes RGSM=na12878    RGID=1 VERBOSITY=INFO QUIET=false VALIDATION_STRINGENCY=STRICT COMPRESSION_LEVEL=5 MAX_RECORDS_IN_RAM=500000 CREATE_INDEX=false CREATE_MD5_FILE=false GA4GH_CLIENT_SECRETS=client_secrets.json\n",
      "[Fri Mar 24 10:25:47 UTC 2017] Executing as ubuntu@ip-172-31-10-66 on Linux 4.4.0-64-generic amd64; OpenJDK 64-Bit Server VM 1.8.0_121-8u121-b13-0ubuntu1.16.04.2-b13; Picard version: 2.9.0-1-gf5b9f50-SNAPSHOT\n",
      "INFO\t2017-03-24 10:25:47\tAddOrReplaceReadGroups\tCreated read group ID=1 PL=illumina LB=na12878 SM=na12878\n",
      "\n",
      "[Fri Mar 24 10:25:49 UTC 2017] picard.sam.AddOrReplaceReadGroups done. Elapsed time: 0.03 minutes.\n",
      "Runtime.totalMemory()=160432128\n"
     ]
    }
   ],
   "source": [
    "java -jar $PICARD AddOrReplaceReadGroups \\\n",
    "I=na12878_wes_brca_dedup.sorted.bam \\\n",
    "O=na12878_wes_brca_dedup.sorted_RG.bam \\\n",
    "RGLB=na12878 \\\n",
    "RGPL=illumina \\\n",
    "RGPU=wes \\\n",
    "RGSM=na12878"
   ]
  },
  {
   "cell_type": "code",
   "execution_count": 1,
   "metadata": {
    "collapsed": false
   },
   "outputs": [
    {
     "name": "stdout",
     "output_type": "stream",
     "text": [
      "[Wed Apr 12 12:11:46 UTC 2017] picard.sam.AddOrReplaceReadGroups INPUT=na12878_wgs_brca_dedup.sorted.bam OUTPUT=na12878_wgs_brca_dedup.sorted_RG.bam RGLB=na12878 RGPL=illumina RGPU=wgs RGSM=na12878    RGID=1 VERBOSITY=INFO QUIET=false VALIDATION_STRINGENCY=STRICT COMPRESSION_LEVEL=5 MAX_RECORDS_IN_RAM=500000 CREATE_INDEX=false CREATE_MD5_FILE=false GA4GH_CLIENT_SECRETS=client_secrets.json\n",
      "[Wed Apr 12 12:11:46 UTC 2017] Executing as ubuntu@ip-172-31-10-66 on Linux 4.4.0-71-generic amd64; OpenJDK 64-Bit Server VM 1.8.0_121-8u121-b13-0ubuntu1.16.04.2-b13; Picard version: 2.9.0-1-gf5b9f50-SNAPSHOT\n",
      "INFO\t2017-04-12 12:11:46\tAddOrReplaceReadGroups\tCreated read group ID=1 PL=illumina LB=na12878 SM=na12878\n",
      "\n",
      "[Wed Apr 12 12:11:48 UTC 2017] picard.sam.AddOrReplaceReadGroups done. Elapsed time: 0.03 minutes.\n",
      "Runtime.totalMemory()=126877696\n"
     ]
    }
   ],
   "source": [
    "java -jar $PICARD AddOrReplaceReadGroups \\\n",
    "I=na12878_wgs_brca_dedup.sorted.bam \\\n",
    "O=na12878_wgs_brca_dedup.sorted_RG.bam \\\n",
    "RGLB=na12878 \\\n",
    "RGPL=illumina \\\n",
    "RGPU=wgs \\\n",
    "RGSM=na12878"
   ]
  },
  {
   "cell_type": "code",
   "execution_count": 7,
   "metadata": {
    "collapsed": true
   },
   "outputs": [],
   "source": [
    "sambamba index na12878_wes_brca_dedup.sorted_RG.bam"
   ]
  },
  {
   "cell_type": "code",
   "execution_count": 8,
   "metadata": {
    "collapsed": true
   },
   "outputs": [],
   "source": [
    "sambamba index na12878_wgs_brca_dedup.sorted_RG.bam"
   ]
  },
  {
   "cell_type": "code",
   "execution_count": 9,
   "metadata": {
    "collapsed": false
   },
   "outputs": [
    {
     "name": "stdout",
     "output_type": "stream",
     "text": [
      "INFO  10:28:00,205 HelpFormatter - -------------------------------------------------------------------------------- \n",
      "INFO  10:28:00,207 HelpFormatter - The Genome Analysis Toolkit (GATK) v3.7-0-gcfedb67, Compiled 2016/12/12 11:21:18 \n",
      "INFO  10:28:00,207 HelpFormatter - Copyright (c) 2010-2016 The Broad Institute \n",
      "INFO  10:28:00,207 HelpFormatter - For support and documentation go to https://software.broadinstitute.org/gatk \n",
      "INFO  10:28:00,210 HelpFormatter - [Fri Mar 24 10:28:00 UTC 2017] Executing on Linux 4.4.0-64-generic amd64 \n",
      "INFO  10:28:00,210 HelpFormatter - OpenJDK 64-Bit Server VM 1.8.0_121-8u121-b13-0ubuntu1.16.04.2-b13 \n",
      "INFO  10:28:00,216 HelpFormatter - Program Args: -T HaplotypeCaller -R Homo_sapiens.GRCh37.GATK.illumina/Homo_sapiens.GRCh37.GATK.illumina.fasta -I na12878_wes_brca_dedup.sorted_RG.bam -o na12878_wes_brca_dedup.sorted_RG.vcf \n",
      "INFO  10:28:00,238 HelpFormatter - Executing as ubuntu@ip-172-31-10-66 on Linux 4.4.0-64-generic amd64; OpenJDK 64-Bit Server VM 1.8.0_121-8u121-b13-0ubuntu1.16.04.2-b13. \n",
      "INFO  10:28:00,238 HelpFormatter - Date/Time: 2017/03/24 10:28:00 \n",
      "INFO  10:28:00,238 HelpFormatter - -------------------------------------------------------------------------------- \n",
      "INFO  10:28:00,240 HelpFormatter - -------------------------------------------------------------------------------- \n",
      "INFO  10:28:00,258 GenomeAnalysisEngine - Strictness is SILENT \n",
      "INFO  10:28:00,328 GenomeAnalysisEngine - Downsampling Settings: Method: BY_SAMPLE, Target Coverage: 500 \n",
      "INFO  10:28:00,334 SAMDataSource$SAMReaders - Initializing SAMRecords in serial \n",
      "INFO  10:28:00,351 SAMDataSource$SAMReaders - Done initializing BAM readers: total time 0.02 \n",
      "INFO  10:28:00,360 HCMappingQualityFilter - Filtering out reads with MAPQ < 20 \n",
      "INFO  10:28:00,465 GenomeAnalysisEngine - Preparing for traversal over 1 BAM files \n",
      "INFO  10:28:00,558 GenomeAnalysisEngine - Done preparing for traversal \n",
      "INFO  10:28:00,558 ProgressMeter - [INITIALIZATION COMPLETE; STARTING PROCESSING] \n",
      "INFO  10:28:00,558 ProgressMeter -                 |      processed |    time |         per 1M |           |   total | remaining \n",
      "INFO  10:28:00,558 ProgressMeter -        Location | active regions | elapsed | active regions | completed | runtime |   runtime \n",
      "INFO  10:28:00,561 HaplotypeCaller - Disabling physical phasing, which is supported only for reference-model confidence output \n",
      "INFO  10:28:00,637 StrandBiasTest - SAM/BAM data was found. Attempting to use read data to calculate strand bias annotations values. \n",
      "WARN  10:28:00,638 InbreedingCoeff - Annotation will not be calculated. InbreedingCoeff requires at least 10 unrelated samples. \n",
      "INFO  10:28:00,638 StrandBiasTest - SAM/BAM data was found. Attempting to use read data to calculate strand bias annotations values. \n",
      "INFO  10:28:00,717 HaplotypeCaller - Using global mismapping rate of 45 => -4.5 in log10 likelihood units \n",
      "INFO  10:28:30,572 ProgressMeter -     1:127888000              0.0    30.0 s           49.6 w        4.1%    12.1 m      11.6 m \n",
      "INFO  10:29:00,573 ProgressMeter -       2:9590372     2.49250621E8    60.0 s            0.0 s        8.4%    12.0 m      11.0 m \n",
      "INFO  10:29:30,574 ProgressMeter -     2:141928302     2.49250621E8    90.0 s            0.0 s       12.6%    11.9 m      10.4 m \n",
      "INFO  10:30:00,575 ProgressMeter -      3:26148240     4.92449994E8   120.0 s            0.0 s       16.8%    11.9 m       9.9 m \n",
      "INFO  10:30:30,577 ProgressMeter -     3:159924700     4.92449994E8     2.5 m            0.0 s       21.1%    11.9 m       9.4 m \n",
      "INFO  10:31:00,578 ProgressMeter -      4:88131125     6.90472424E8     3.0 m            0.0 s       25.2%    11.9 m       8.9 m \n",
      "INFO  10:31:30,579 ProgressMeter -      5:23385080       8.816267E8     3.5 m            0.0 s       29.2%    12.0 m       8.5 m \n",
      "INFO  10:32:00,581 ProgressMeter -     5:155768983       8.816267E8     4.0 m            0.0 s       33.5%    11.9 m       7.9 m \n",
      "INFO  10:32:30,583 ProgressMeter -     6:102479268     1.06254196E9     4.5 m            0.0 s       37.6%    12.0 m       7.5 m \n",
      "INFO  10:33:00,584 ProgressMeter -      7:59946542    1.233657027E9     5.0 m            0.0 s       41.8%    12.0 m       7.0 m \n",
      "INFO  10:33:30,585 ProgressMeter -      8:28922833     1.39279569E9     5.5 m            0.0 s       45.9%    12.0 m       6.5 m \n",
      "INFO  10:34:00,586 ProgressMeter -      9:10862746    1.539159712E9     6.0 m            0.0 s       50.1%    12.0 m       6.0 m \n",
      "INFO  10:34:30,587 ProgressMeter -     9:141213431    1.539159712E9     6.5 m            0.0 s       54.3%    12.0 m       5.5 m \n",
      "INFO  10:35:00,588 ProgressMeter -    10:130994486    1.680373143E9     7.0 m            0.0 s       58.5%    12.0 m       5.0 m \n",
      "INFO  10:35:30,590 ProgressMeter -    11:123457154     1.81590789E9     7.5 m            0.0 s       62.6%    12.0 m       4.5 m \n",
      "INFO  10:36:00,591 ProgressMeter -    12:116501480    1.950914406E9     8.0 m            0.0 s       66.8%    12.0 m       4.0 m \n",
      "Using AVX accelerated implementation of PairHMM\n",
      "INFO  10:36:12,918 VectorLoglessPairHMM - libVectorLoglessPairHMM unpacked successfully from GATK jar file \n",
      "INFO  10:36:12,918 VectorLoglessPairHMM - Using vectorized implementation of PairHMM \n",
      "WARN  10:36:12,972 HaplotypeScore - Annotation will not be calculated, must be called from UnifiedGenotyper, not org.broadinstitute.gatk.tools.walkers.haplotypecaller.HaplotypeCaller \n",
      "INFO  10:36:30,592 ProgressMeter -     13:77016528    2.084766301E9     8.5 m            0.0 s       69.8%    12.2 m       3.7 m \n",
      "INFO  10:37:00,593 ProgressMeter -     14:84095572    2.199936179E9     9.0 m            0.0 s       73.8%    12.2 m       3.2 m \n",
      "INFO  10:37:30,594 ProgressMeter -     15:99133468    2.307285719E9     9.5 m            0.0 s       77.7%    12.2 m       2.7 m \n",
      "INFO  10:38:00,595 ProgressMeter -     17:26951659    2.500171864E9    10.0 m            0.0 s       81.6%    12.2 m       2.2 m \n",
      "INFO  10:38:30,596 ProgressMeter -     18:28116700    2.581367074E9    10.5 m            0.0 s       84.3%    12.5 m     117.0 s \n",
      "INFO  10:39:00,597 ProgressMeter -     20:12768400    2.718573305E9    11.0 m            0.0 s       88.2%    12.5 m      88.0 s \n",
      "INFO  10:39:30,598 ProgressMeter -     22:24186330     2.82972872E9    11.5 m            0.0 s       92.2%    12.5 m      58.0 s \n",
      "INFO  10:40:10,599 ProgressMeter -     X:135772913    2.881033286E9    12.2 m            0.0 s       97.5%    12.5 m      19.0 s \n",
      "INFO  10:40:29,926 VectorLoglessPairHMM - Time spent in setup for JNI call : 0.01770017 \n",
      "INFO  10:40:29,927 PairHMM - Total compute time in PairHMM computeLikelihoods() : 4.278018321 \n",
      "INFO  10:40:29,927 HaplotypeCaller - Ran local assembly on 219 active regions \n",
      "INFO  10:40:29,959 ProgressMeter -            done    3.095693981E9    12.5 m            0.0 s      100.0%    12.5 m       0.0 s \n",
      "INFO  10:40:29,960 ProgressMeter - Total runtime 749.40 secs, 12.49 min, 0.21 hours \n",
      "INFO  10:40:29,960 MicroScheduler - 10074 reads were filtered out during the traversal out of approximately 68262 total reads (14.76%) \n",
      "INFO  10:40:29,960 MicroScheduler -   -> 0 reads (0.00% of total) failing BadCigarFilter \n",
      "INFO  10:40:29,960 MicroScheduler -   -> 9812 reads (14.37% of total) failing DuplicateReadFilter \n",
      "INFO  10:40:29,960 MicroScheduler -   -> 0 reads (0.00% of total) failing FailsVendorQualityCheckFilter \n",
      "INFO  10:40:29,961 MicroScheduler -   -> 262 reads (0.38% of total) failing HCMappingQualityFilter \n",
      "INFO  10:40:29,961 MicroScheduler -   -> 0 reads (0.00% of total) failing MalformedReadFilter \n",
      "INFO  10:40:29,964 MicroScheduler -   -> 0 reads (0.00% of total) failing MappingQualityUnavailableFilter \n",
      "INFO  10:40:29,964 MicroScheduler -   -> 0 reads (0.00% of total) failing NotPrimaryAlignmentFilter \n",
      "INFO  10:40:29,965 MicroScheduler -   -> 0 reads (0.00% of total) failing UnmappedReadFilter \n",
      "------------------------------------------------------------------------------------------\n",
      "Done. There were 2 WARN messages, the first 2 are repeated below.\n",
      "WARN  10:28:00,638 InbreedingCoeff - Annotation will not be calculated. InbreedingCoeff requires at least 10 unrelated samples. \n",
      "WARN  10:36:12,972 HaplotypeScore - Annotation will not be calculated, must be called from UnifiedGenotyper, not org.broadinstitute.gatk.tools.walkers.haplotypecaller.HaplotypeCaller \n",
      "------------------------------------------------------------------------------------------\n"
     ]
    }
   ],
   "source": [
    "java -jar $GATK \\\n",
    "-T HaplotypeCaller \\\n",
    "-R Homo_sapiens.GRCh37.GATK.illumina/Homo_sapiens.GRCh37.GATK.illumina.fasta \\\n",
    "-I na12878_wes_brca_dedup.sorted_RG.bam \\\n",
    "-o na12878_wes_brca_dedup.sorted_RG.vcf"
   ]
  },
  {
   "cell_type": "code",
   "execution_count": 1,
   "metadata": {
    "collapsed": false
   },
   "outputs": [
    {
     "name": "stdout",
     "output_type": "stream",
     "text": [
      "Started analysis of na12878_wes_brcagenes-1.fastq\n",
      "Approx 5% complete for na12878_wes_brcagenes-1.fastq\n",
      "Approx 10% complete for na12878_wes_brcagenes-1.fastq\n",
      "Approx 15% complete for na12878_wes_brcagenes-1.fastq\n",
      "Approx 20% complete for na12878_wes_brcagenes-1.fastq\n",
      "Approx 25% complete for na12878_wes_brcagenes-1.fastq\n",
      "Approx 30% complete for na12878_wes_brcagenes-1.fastq\n",
      "Approx 35% complete for na12878_wes_brcagenes-1.fastq\n",
      "Approx 40% complete for na12878_wes_brcagenes-1.fastq\n",
      "Approx 45% complete for na12878_wes_brcagenes-1.fastq\n",
      "Approx 50% complete for na12878_wes_brcagenes-1.fastq\n",
      "Approx 55% complete for na12878_wes_brcagenes-1.fastq\n",
      "Approx 60% complete for na12878_wes_brcagenes-1.fastq\n",
      "Approx 65% complete for na12878_wes_brcagenes-1.fastq\n",
      "Approx 70% complete for na12878_wes_brcagenes-1.fastq\n",
      "Approx 75% complete for na12878_wes_brcagenes-1.fastq\n",
      "Approx 80% complete for na12878_wes_brcagenes-1.fastq\n",
      "Approx 85% complete for na12878_wes_brcagenes-1.fastq\n",
      "Approx 90% complete for na12878_wes_brcagenes-1.fastq\n",
      "Approx 95% complete for na12878_wes_brcagenes-1.fastq\n",
      "Analysis complete for na12878_wes_brcagenes-1.fastq\n",
      "Started analysis of na12878_wes_brcagenes-2.fastq\n",
      "Approx 5% complete for na12878_wes_brcagenes-2.fastq\n",
      "Approx 10% complete for na12878_wes_brcagenes-2.fastq\n",
      "Approx 15% complete for na12878_wes_brcagenes-2.fastq\n",
      "Approx 20% complete for na12878_wes_brcagenes-2.fastq\n",
      "Approx 25% complete for na12878_wes_brcagenes-2.fastq\n",
      "Approx 30% complete for na12878_wes_brcagenes-2.fastq\n",
      "Approx 35% complete for na12878_wes_brcagenes-2.fastq\n",
      "Approx 40% complete for na12878_wes_brcagenes-2.fastq\n",
      "Approx 45% complete for na12878_wes_brcagenes-2.fastq\n",
      "Approx 50% complete for na12878_wes_brcagenes-2.fastq\n",
      "Approx 55% complete for na12878_wes_brcagenes-2.fastq\n",
      "Approx 60% complete for na12878_wes_brcagenes-2.fastq\n",
      "Approx 65% complete for na12878_wes_brcagenes-2.fastq\n",
      "Approx 70% complete for na12878_wes_brcagenes-2.fastq\n",
      "Approx 75% complete for na12878_wes_brcagenes-2.fastq\n",
      "Approx 80% complete for na12878_wes_brcagenes-2.fastq\n",
      "Approx 85% complete for na12878_wes_brcagenes-2.fastq\n",
      "Approx 90% complete for na12878_wes_brcagenes-2.fastq\n",
      "Approx 95% complete for na12878_wes_brcagenes-2.fastq\n",
      "Analysis complete for na12878_wes_brcagenes-2.fastq\n"
     ]
    }
   ],
   "source": [
    "fastqc datafiles/na12878_wes_brcagenes-1.fastq datafiles/na12878_wes_brcagenes-2.fastq "
   ]
  },
  {
   "cell_type": "code",
   "execution_count": 6,
   "metadata": {
    "collapsed": false
   },
   "outputs": [
    {
     "name": "stdout",
     "output_type": "stream",
     "text": [
      "Started analysis of na12878_wgs_brcagenes-1.fastq\n",
      "Approx 5% complete for na12878_wgs_brcagenes-1.fastq\n",
      "Approx 10% complete for na12878_wgs_brcagenes-1.fastq\n",
      "Approx 15% complete for na12878_wgs_brcagenes-1.fastq\n",
      "Approx 20% complete for na12878_wgs_brcagenes-1.fastq\n",
      "Approx 25% complete for na12878_wgs_brcagenes-1.fastq\n",
      "Approx 30% complete for na12878_wgs_brcagenes-1.fastq\n",
      "Approx 35% complete for na12878_wgs_brcagenes-1.fastq\n",
      "Approx 40% complete for na12878_wgs_brcagenes-1.fastq\n",
      "Approx 45% complete for na12878_wgs_brcagenes-1.fastq\n",
      "Approx 50% complete for na12878_wgs_brcagenes-1.fastq\n",
      "Approx 55% complete for na12878_wgs_brcagenes-1.fastq\n",
      "Approx 60% complete for na12878_wgs_brcagenes-1.fastq\n",
      "Approx 65% complete for na12878_wgs_brcagenes-1.fastq\n",
      "Approx 70% complete for na12878_wgs_brcagenes-1.fastq\n",
      "Approx 75% complete for na12878_wgs_brcagenes-1.fastq\n",
      "Approx 80% complete for na12878_wgs_brcagenes-1.fastq\n",
      "Approx 85% complete for na12878_wgs_brcagenes-1.fastq\n",
      "Approx 90% complete for na12878_wgs_brcagenes-1.fastq\n",
      "Approx 95% complete for na12878_wgs_brcagenes-1.fastq\n",
      "Analysis complete for na12878_wgs_brcagenes-1.fastq\n",
      "Started analysis of na12878_wgs_brcagenes-2.fastq\n",
      "Approx 5% complete for na12878_wgs_brcagenes-2.fastq\n",
      "Approx 10% complete for na12878_wgs_brcagenes-2.fastq\n",
      "Approx 15% complete for na12878_wgs_brcagenes-2.fastq\n",
      "Approx 20% complete for na12878_wgs_brcagenes-2.fastq\n",
      "Approx 25% complete for na12878_wgs_brcagenes-2.fastq\n",
      "Approx 30% complete for na12878_wgs_brcagenes-2.fastq\n",
      "Approx 35% complete for na12878_wgs_brcagenes-2.fastq\n",
      "Approx 40% complete for na12878_wgs_brcagenes-2.fastq\n",
      "Approx 45% complete for na12878_wgs_brcagenes-2.fastq\n",
      "Approx 50% complete for na12878_wgs_brcagenes-2.fastq\n",
      "Approx 55% complete for na12878_wgs_brcagenes-2.fastq\n",
      "Approx 60% complete for na12878_wgs_brcagenes-2.fastq\n",
      "Approx 65% complete for na12878_wgs_brcagenes-2.fastq\n",
      "Approx 70% complete for na12878_wgs_brcagenes-2.fastq\n",
      "Approx 75% complete for na12878_wgs_brcagenes-2.fastq\n",
      "Approx 80% complete for na12878_wgs_brcagenes-2.fastq\n",
      "Approx 85% complete for na12878_wgs_brcagenes-2.fastq\n",
      "Approx 90% complete for na12878_wgs_brcagenes-2.fastq\n",
      "Approx 95% complete for na12878_wgs_brcagenes-2.fastq\n",
      "Analysis complete for na12878_wgs_brcagenes-2.fastq\n"
     ]
    }
   ],
   "source": [
    "fastqc datafiles/na12878_wgs_brcagenes-1.fastq datafiles/na12878_wgs_brcagenes-2.fastq "
   ]
  },
  {
   "cell_type": "code",
   "execution_count": 10,
   "metadata": {
    "collapsed": false,
    "scrolled": true
   },
   "outputs": [
    {
     "name": "stdout",
     "output_type": "stream",
     "text": [
      "INFO  11:05:06,385 HelpFormatter - -------------------------------------------------------------------------------- \n",
      "INFO  11:05:06,387 HelpFormatter - The Genome Analysis Toolkit (GATK) v3.7-0-gcfedb67, Compiled 2016/12/12 11:21:18 \n",
      "INFO  11:05:06,387 HelpFormatter - Copyright (c) 2010-2016 The Broad Institute \n",
      "INFO  11:05:06,387 HelpFormatter - For support and documentation go to https://software.broadinstitute.org/gatk \n",
      "INFO  11:05:06,387 HelpFormatter - [Fri Mar 24 11:05:06 UTC 2017] Executing on Linux 4.4.0-64-generic amd64 \n",
      "INFO  11:05:06,387 HelpFormatter - OpenJDK 64-Bit Server VM 1.8.0_121-8u121-b13-0ubuntu1.16.04.2-b13 \n",
      "INFO  11:05:06,393 HelpFormatter - Program Args: -T HaplotypeCaller -R Homo_sapiens.GRCh37.GATK.illumina/Homo_sapiens.GRCh37.GATK.illumina.fasta -I na12878_wgs_brca_dedup.sorted_RG.bam -o na12878_wgs_brca_dedup.sorted_RG.vcf \n",
      "INFO  11:05:06,408 HelpFormatter - Executing as ubuntu@ip-172-31-10-66 on Linux 4.4.0-64-generic amd64; OpenJDK 64-Bit Server VM 1.8.0_121-8u121-b13-0ubuntu1.16.04.2-b13. \n",
      "INFO  11:05:06,409 HelpFormatter - Date/Time: 2017/03/24 11:05:06 \n",
      "INFO  11:05:06,409 HelpFormatter - -------------------------------------------------------------------------------- \n",
      "INFO  11:05:06,409 HelpFormatter - -------------------------------------------------------------------------------- \n",
      "INFO  11:05:06,432 GenomeAnalysisEngine - Strictness is SILENT \n",
      "INFO  11:05:06,489 GenomeAnalysisEngine - Downsampling Settings: Method: BY_SAMPLE, Target Coverage: 500 \n",
      "INFO  11:05:06,494 SAMDataSource$SAMReaders - Initializing SAMRecords in serial \n",
      "INFO  11:05:06,513 SAMDataSource$SAMReaders - Done initializing BAM readers: total time 0.02 \n",
      "INFO  11:05:06,521 HCMappingQualityFilter - Filtering out reads with MAPQ < 20 \n",
      "INFO  11:05:06,625 GenomeAnalysisEngine - Preparing for traversal over 1 BAM files \n",
      "INFO  11:05:06,677 GenomeAnalysisEngine - Done preparing for traversal \n",
      "INFO  11:05:06,678 ProgressMeter - [INITIALIZATION COMPLETE; STARTING PROCESSING] \n",
      "INFO  11:05:06,678 ProgressMeter -                 |      processed |    time |         per 1M |           |   total | remaining \n",
      "INFO  11:05:06,678 ProgressMeter -        Location | active regions | elapsed | active regions | completed | runtime |   runtime \n",
      "INFO  11:05:06,678 HaplotypeCaller - Disabling physical phasing, which is supported only for reference-model confidence output \n",
      "INFO  11:05:06,715 StrandBiasTest - SAM/BAM data was found. Attempting to use read data to calculate strand bias annotations values. \n",
      "WARN  11:05:06,715 InbreedingCoeff - Annotation will not be calculated. InbreedingCoeff requires at least 10 unrelated samples. \n",
      "INFO  11:05:06,716 StrandBiasTest - SAM/BAM data was found. Attempting to use read data to calculate strand bias annotations values. \n",
      "INFO  11:05:06,757 HaplotypeCaller - Using global mismapping rate of 45 => -4.5 in log10 likelihood units \n",
      "INFO  11:05:36,685 ProgressMeter -     1:125291463              0.0    30.0 s           49.6 w        4.0%    12.4 m      11.9 m \n",
      "INFO  11:06:06,686 ProgressMeter -       2:1550412     2.49250621E8    60.0 s            0.0 s        8.1%    12.3 m      11.3 m \n",
      "INFO  11:06:36,687 ProgressMeter -     2:132474116     2.49250621E8    90.0 s            0.0 s       12.3%    12.2 m      10.7 m \n",
      "Using AVX accelerated implementation of PairHMM\n",
      "INFO  11:06:45,629 VectorLoglessPairHMM - libVectorLoglessPairHMM unpacked successfully from GATK jar file \n",
      "INFO  11:06:45,629 VectorLoglessPairHMM - Using vectorized implementation of PairHMM \n",
      "WARN  11:06:45,670 HaplotypeScore - Annotation will not be calculated, must be called from UnifiedGenotyper, not org.broadinstitute.gatk.tools.walkers.haplotypecaller.HaplotypeCaller \n",
      "INFO  11:07:06,689 ProgressMeter -       3:9591400     4.92449994E8   120.0 s            0.0 s       16.2%    12.3 m      10.3 m \n",
      "INFO  11:07:36,690 ProgressMeter -     3:129681645     4.92449994E8     2.5 m            0.0 s       20.1%    12.4 m       9.9 m \n",
      "INFO  11:08:06,691 ProgressMeter -      4:49950356     6.90472424E8     3.0 m            0.0 s       23.9%    12.5 m       9.5 m \n",
      "INFO  11:08:36,692 ProgressMeter -     4:171805629     6.90472424E8     3.5 m            0.0 s       27.9%    12.6 m       9.1 m \n",
      "INFO  11:09:06,694 ProgressMeter -      5:99208047       8.816267E8     4.0 m            0.0 s       31.7%    12.6 m       8.6 m \n",
      "INFO  11:09:36,695 ProgressMeter -      6:35730156     1.06254196E9     4.5 m            0.0 s       35.5%    12.7 m       8.2 m \n",
      "INFO  11:10:06,698 ProgressMeter -     6:157011554     1.06254196E9     5.0 m            0.0 s       39.4%    12.7 m       7.7 m \n",
      "INFO  11:10:36,699 ProgressMeter -     7:105104725    1.233657027E9     5.5 m            0.0 s       43.2%    12.7 m       7.2 m \n",
      "INFO  11:11:06,700 ProgressMeter -      8:64093112     1.39279569E9     6.0 m            0.0 s       47.1%    12.7 m       6.7 m \n",
      "INFO  11:11:36,701 ProgressMeter -      9:36187418    1.539159712E9     6.5 m            0.0 s       50.9%    12.8 m       6.3 m \n",
      "INFO  11:12:06,702 ProgressMeter -     10:15511222    1.680373143E9     7.0 m            0.0 s       54.8%    12.8 m       5.8 m \n",
      "INFO  11:12:36,704 ProgressMeter -       11:593108     1.81590789E9     7.5 m            0.0 s       58.7%    12.8 m       5.3 m \n",
      "INFO  11:13:06,705 ProgressMeter -    11:121191772     1.81590789E9     8.0 m            0.0 s       62.6%    12.8 m       4.8 m \n",
      "INFO  11:13:36,706 ProgressMeter -    12:105579283    1.950914406E9     8.5 m            0.0 s       66.4%    12.8 m       4.3 m \n",
      "INFO  11:14:06,707 ProgressMeter -     13:55460449    2.084766301E9     9.0 m            0.0 s       69.1%    13.0 m       4.0 m \n",
      "INFO  11:14:36,708 ProgressMeter -     14:60797542    2.199936179E9     9.5 m            0.0 s       73.0%    13.0 m       3.5 m \n",
      "INFO  11:15:06,709 ProgressMeter -     15:73968687    2.307285719E9    10.0 m            0.0 s       76.9%    13.0 m       3.0 m \n",
      "INFO  11:15:46,710 ProgressMeter -     17:39076900    2.500171864E9    10.7 m            0.0 s       82.0%    13.0 m       2.3 m \n",
      "INFO  11:16:16,711 ProgressMeter -     18:21205968    2.581367074E9    11.2 m            0.0 s       84.1%    13.3 m       2.1 m \n",
      "INFO  11:16:46,712 ProgressMeter -      20:1289418    2.718573305E9    11.7 m            0.0 s       87.9%    13.3 m      96.0 s \n",
      "INFO  11:17:26,713 ProgressMeter -     22:47857209     2.82972872E9    12.3 m            0.0 s       93.0%    13.3 m      56.0 s \n",
      "INFO  11:17:56,714 ProgressMeter -     X:114481044    2.881033286E9    12.8 m            0.0 s       96.8%    13.3 m      25.0 s \n",
      "INFO  11:18:22,391 VectorLoglessPairHMM - Time spent in setup for JNI call : 0.023724786 \n",
      "INFO  11:18:22,391 PairHMM - Total compute time in PairHMM computeLikelihoods() : 5.440525836 \n",
      "INFO  11:18:22,391 HaplotypeCaller - Ran local assembly on 564 active regions \n",
      "INFO  11:18:22,445 ProgressMeter -            done    3.095693981E9    13.3 m            0.0 s      100.0%    13.3 m       0.0 s \n",
      "INFO  11:18:22,445 ProgressMeter - Total runtime 795.77 secs, 13.26 min, 0.22 hours \n",
      "INFO  11:18:22,445 MicroScheduler - 15684 reads were filtered out during the traversal out of approximately 108990 total reads (14.39%) \n",
      "INFO  11:18:22,448 MicroScheduler -   -> 0 reads (0.00% of total) failing BadCigarFilter \n",
      "INFO  11:18:22,448 MicroScheduler -   -> 14780 reads (13.56% of total) failing DuplicateReadFilter \n",
      "INFO  11:18:22,448 MicroScheduler -   -> 0 reads (0.00% of total) failing FailsVendorQualityCheckFilter \n",
      "INFO  11:18:22,450 MicroScheduler -   -> 904 reads (0.83% of total) failing HCMappingQualityFilter \n",
      "INFO  11:18:22,451 MicroScheduler -   -> 0 reads (0.00% of total) failing MalformedReadFilter \n",
      "INFO  11:18:22,451 MicroScheduler -   -> 0 reads (0.00% of total) failing MappingQualityUnavailableFilter \n",
      "INFO  11:18:22,457 MicroScheduler -   -> 0 reads (0.00% of total) failing NotPrimaryAlignmentFilter \n",
      "INFO  11:18:22,457 MicroScheduler -   -> 0 reads (0.00% of total) failing UnmappedReadFilter \n",
      "------------------------------------------------------------------------------------------\n",
      "Done. There were 2 WARN messages, the first 2 are repeated below.\n",
      "WARN  11:05:06,715 InbreedingCoeff - Annotation will not be calculated. InbreedingCoeff requires at least 10 unrelated samples. \n",
      "WARN  11:06:45,670 HaplotypeScore - Annotation will not be calculated, must be called from UnifiedGenotyper, not org.broadinstitute.gatk.tools.walkers.haplotypecaller.HaplotypeCaller \n",
      "------------------------------------------------------------------------------------------\n"
     ]
    }
   ],
   "source": [
    "java -jar $GATK \\\n",
    "-T HaplotypeCaller \\\n",
    "-R Homo_sapiens.GRCh37.GATK.illumina/Homo_sapiens.GRCh37.GATK.illumina.fasta \\\n",
    "-I na12878_wgs_brca_dedup.sorted_RG.bam \\\n",
    "-o na12878_wgs_brca_dedup.sorted_RG.vcf"
   ]
  },
  {
   "cell_type": "markdown",
   "metadata": {},
   "source": [
    "# use local webadres; add 'files' as root for html documents."
   ]
  },
  {
   "cell_type": "code",
   "execution_count": 7,
   "metadata": {
    "collapsed": false
   },
   "outputs": [
    {
     "name": "stdout",
     "output_type": "stream",
     "text": [
      "https://ec2-52-30-16-188.eu-west-1.compute.amazonaws.com:8888/files/datafiles/na12878_wes_brcagenes-1_fastqc.html\n",
      "https://ec2-52-30-16-188.eu-west-1.compute.amazonaws.com:8888/files/datafiles/na12878_wes_brcagenes-2_fastqc.html\n",
      "https://ec2-52-30-16-188.eu-west-1.compute.amazonaws.com:8888/files/datafiles/na12878_wgs_brcagenes-1_fastqc.html\n",
      "https://ec2-52-30-16-188.eu-west-1.compute.amazonaws.com:8888/files/datafiles/na12878_wgs_brcagenes-2_fastqc.html\n"
     ]
    }
   ],
   "source": [
    "for i in datafiles/*.html; \n",
    "    do echo https://ec2-52-30-16-188.eu-west-1.compute.amazonaws.com:8888/files/$i;\n",
    "done"
   ]
  },
  {
   "cell_type": "code",
   "execution_count": 19,
   "metadata": {
    "collapsed": false
   },
   "outputs": [
    {
     "name": "stdout",
     "output_type": "stream",
     "text": [
      "https://ec2-52-30-16-188.eu-west-1.compute.amazonaws.com:8888/files/datafiles/na12878_rnaseq_brcagenes.bam\n",
      "https://ec2-52-30-16-188.eu-west-1.compute.amazonaws.com:8888/files/datafiles/na12878_rnaseq_brcagenes.bam.bai\n",
      "https://ec2-52-30-16-188.eu-west-1.compute.amazonaws.com:8888/files/datafiles/na12878_wes_brcagenes.bam\n",
      "https://ec2-52-30-16-188.eu-west-1.compute.amazonaws.com:8888/files/datafiles/na12878_wes_brcagenes.bam.bai\n",
      "https://ec2-52-30-16-188.eu-west-1.compute.amazonaws.com:8888/files/datafiles/na12878_wgs_brcagenes.bam\n",
      "https://ec2-52-30-16-188.eu-west-1.compute.amazonaws.com:8888/files/datafiles/na12878_wgs_brcagenes.bam.bai\n"
     ]
    }
   ],
   "source": [
    "for i in datafiles/*.ba*; \n",
    "    do echo https://ec2-52-30-16-188.eu-west-1.compute.amazonaws.com:8888/files/$i;\n",
    "done"
   ]
  },
  {
   "cell_type": "markdown",
   "metadata": {},
   "source": [
    "## Cheatsheet"
   ]
  },
  {
   "cell_type": "code",
   "execution_count": 20,
   "metadata": {
    "collapsed": false,
    "scrolled": true
   },
   "outputs": [
    {
     "name": "stdout",
     "output_type": "stream",
     "text": [
      "https://ec2-52-30-16-188.eu-west-1.compute.amazonaws.com:8888/files/weidadeyue_jupyter-notebook.bw.pdf\n"
     ]
    }
   ],
   "source": [
    "for i in *.pdf; \n",
    "    do echo https://ec2-52-30-16-188.eu-west-1.compute.amazonaws.com:8888/files/$i;\n",
    "done"
   ]
  },
  {
   "cell_type": "markdown",
   "metadata": {},
   "source": [
    "# variant annotation"
   ]
  },
  {
   "cell_type": "code",
   "execution_count": 3,
   "metadata": {
    "collapsed": false
   },
   "outputs": [],
   "source": [
    "java -Xmx4g -jar $SNPEFF GRCh37.75 na12878_wes_brca_dedup.sorted_RG.vcf > na12878_wes_brca_dedup.sorted_RG_annotated.vcf"
   ]
  },
  {
   "cell_type": "code",
   "execution_count": 8,
   "metadata": {
    "collapsed": false
   },
   "outputs": [],
   "source": [
    "java -Xmx4g -jar $SNPEFF GRCh37.75 na12878_wgs_brca_dedup.sorted_RG.vcf > na12878_wgs_brca_dedup.sorted_RG_annotated.vcf"
   ]
  },
  {
   "cell_type": "code",
   "execution_count": 11,
   "metadata": {
    "collapsed": true
   },
   "outputs": [],
   "source": [
    "java -Xmx4g -jar $SNPSIFT annotate ~/external/dbSNP/common_all_20161121.vcf.gz na12878_wes_brca_dedup.sorted_RG_annotated.vcf > na12878_wes_brca_dedup.sorted_RG_annotatedID.vcf"
   ]
  },
  {
   "cell_type": "code",
   "execution_count": 9,
   "metadata": {
    "collapsed": true
   },
   "outputs": [],
   "source": [
    "java -Xmx4g -jar $SNPSIFT annotate ~/external/dbSNP/common_all_20161121.vcf.gz na12878_wgs_brca_dedup.sorted_RG_annotated.vcf > na12878_wgs_brca_dedup.sorted_RG_annotatedID.vcf"
   ]
  },
  {
   "cell_type": "code",
   "execution_count": 18,
   "metadata": {
    "collapsed": false
   },
   "outputs": [
    {
     "name": "stdout",
     "output_type": "stream",
     "text": [
      "##fileformat=VCFv4.2\n",
      "##FILTER=<ID=LowQual,Description=\"Low quality\">\n",
      "##FORMAT=<ID=AD,Number=R,Type=Integer,Description=\"Allelic depths for the ref and alt alleles in the order listed\">\n",
      "##FORMAT=<ID=DP,Number=1,Type=Integer,Description=\"Approximate read depth (reads with MQ=255 or with bad mates are filtered)\">\n",
      "##FORMAT=<ID=GQ,Number=1,Type=Integer,Description=\"Genotype Quality\">\n",
      "##FORMAT=<ID=GT,Number=1,Type=String,Description=\"Genotype\">\n",
      "##FORMAT=<ID=PL,Number=G,Type=Integer,Description=\"Normalized, Phred-scaled likelihoods for genotypes as defined in the VCF specification\">\n",
      "##GATKCommandLine.HaplotypeCaller=<ID=HaplotypeCaller,Version=3.7-0-gcfedb67,Date=\"Fri Mar 24 10:28:00 UTC 2017\",Epoch=1490351280648,CommandLineOptions=\"analysis_type=HaplotypeCaller input_file=[na12878_wes_brca_dedup.sorted_RG.bam] showFullBamList=false read_buffer_size=null read_filter=[] disable_read_filter=[] intervals=null excludeIntervals=null interval_set_rule=UNION interval_merging=ALL interval_padding=0 reference_sequence=Homo_sapiens.GRCh37.GATK.illumina/Homo_sapiens.GRCh37.GATK.illumina.fasta nonDeterministicRandomSeed=false disableDithering=false maxRuntime=-1 maxRuntimeUnits=MINUTES downsampling_type=BY_SAMPLE downsample_to_fraction=null downsample_to_coverage=500 baq=OFF baqGapOpenPenalty=40.0 refactor_NDN_cigar_string=false fix_misencoded_quality_scores=false allow_potentially_misencoded_quality_scores=false useOriginalQualities=false defaultBaseQualities=-1 performanceLog=null BQSR=null quantize_quals=0 static_quantized_quals=null round_down_quantized=false disable_indel_quals=false emit_original_quals=false preserve_qscores_less_than=6 globalQScorePrior=-1.0 secondsBetweenProgressUpdates=10 validation_strictness=SILENT remove_program_records=false keep_program_records=false sample_rename_mapping_file=null unsafe=null disable_auto_index_creation_and_locking_when_reading_rods=false no_cmdline_in_header=false sites_only=false never_trim_vcf_format_field=false bcf=false bam_compression=null simplifyBAM=false disable_bam_indexing=false generate_md5=false num_threads=1 num_cpu_threads_per_data_thread=1 num_io_threads=0 monitorThreadEfficiency=false num_bam_file_handles=null read_group_black_list=null pedigree=[] pedigreeString=[] pedigreeValidationType=STRICT allow_intervals_with_unindexed_bam=false generateShadowBCF=false variant_index_type=DYNAMIC_SEEK variant_index_parameter=-1 reference_window_stop=0 phone_home= gatk_key=null tag=NA logging_level=INFO log_to_file=null help=false version=false out=/home/ubuntu/Notebooks/na12878_wes_brca_dedup.sorted_RG.vcf likelihoodCalculationEngine=PairHMM heterogeneousKmerSizeResolution=COMBO_MIN dbsnp=(RodBinding name= source=UNBOUND) dontTrimActiveRegions=false maxDiscARExtension=25 maxGGAARExtension=300 paddingAroundIndels=150 paddingAroundSNPs=20 comp=[] annotation=[] excludeAnnotation=[] group=[StandardAnnotation, StandardHCAnnotation] debug=false useFilteredReadsForAnnotations=false emitRefConfidence=NONE bamOutput=null bamWriterType=CALLED_HAPLOTYPES emitDroppedReads=false disableOptimizations=false annotateNDA=false useNewAFCalculator=false heterozygosity=0.001 indel_heterozygosity=1.25E-4 heterozygosity_stdev=0.01 standard_min_confidence_threshold_for_calling=10.0 standard_min_confidence_threshold_for_emitting=30.0 max_alternate_alleles=6 max_genotype_count=1024 max_num_PL_values=100 input_prior=[] sample_ploidy=2 genotyping_mode=DISCOVERY alleles=(RodBinding name= source=UNBOUND) contamination_fraction_to_filter=0.0 contamination_fraction_per_sample_file=null p_nonref_model=null exactcallslog=null output_mode=EMIT_VARIANTS_ONLY allSitePLs=false gcpHMM=10 pair_hmm_implementation=VECTOR_LOGLESS_CACHING pair_hmm_sub_implementation=ENABLE_ALL always_load_vector_logless_PairHMM_lib=false phredScaledGlobalReadMismappingRate=45 noFpga=false sample_name=null kmerSize=[10, 25] dontIncreaseKmerSizesForCycles=false allowNonUniqueKmersInRef=false numPruningSamples=1 recoverDanglingHeads=false doNotRecoverDanglingBranches=false minDanglingBranchLength=4 consensus=false maxNumHaplotypesInPopulation=128 errorCorrectKmers=false minPruning=2 debugGraphTransformations=false allowCyclesInKmerGraphToGeneratePaths=false graphOutput=null kmerLengthForReadErrorCorrection=25 minObservationsForKmerToBeSolid=20 GVCFGQBands=[1, 2, 3, 4, 5, 6, 7, 8, 9, 10, 11, 12, 13, 14, 15, 16, 17, 18, 19, 20, 21, 22, 23, 24, 25, 26, 27, 28, 29, 30, 31, 32, 33, 34, 35, 36, 37, 38, 39, 40, 41, 42, 43, 44, 45, 46, 47, 48, 49, 50, 51, 52, 53, 54, 55, 56, 57, 58, 59, 60, 70, 80, 90, 99] indelSizeToEliminateInRefModel=10 min_base_quality_score=10 includeUmappedReads=false useAllelesTrigger=false doNotRunPhysicalPhasing=true keepRG=null justDetermineActiveRegions=false dontGenotype=false dontUseSoftClippedBases=false captureAssemblyFailureBAM=false errorCorrectReads=false pcr_indel_model=CONSERVATIVE maxReadsInRegionPerSample=10000 minReadsPerAlignmentStart=10 mergeVariantsViaLD=false activityProfileOut=null activeRegionOut=null activeRegionIn=null activeRegionExtension=null forceActive=false activeRegionMaxSize=null bandPassSigma=null maxReadsInMemoryPerSample=30000 maxTotalReadsInMemory=10000000 maxProbPropagationDistance=50 activeProbabilityThreshold=0.002 min_mapping_quality_score=20 filter_reads_with_N_cigar=false filter_mismatching_base_and_quals=false filter_bases_not_stored=false\">\n",
      "##INFO=<ID=AC,Number=A,Type=Integer,Description=\"Allele count in genotypes, for each ALT allele, in the same order as listed\">\n",
      "##INFO=<ID=AF,Number=A,Type=Float,Description=\"Allele Frequency, for each ALT allele, in the same order as listed\">\n",
      "##INFO=<ID=AN,Number=1,Type=Integer,Description=\"Total number of alleles in called genotypes\">\n",
      "##INFO=<ID=BaseQRankSum,Number=1,Type=Float,Description=\"Z-score from Wilcoxon rank sum test of Alt Vs. Ref base qualities\">\n",
      "##INFO=<ID=ClippingRankSum,Number=1,Type=Float,Description=\"Z-score From Wilcoxon rank sum test of Alt vs. Ref number of hard clipped bases\">\n",
      "##INFO=<ID=DP,Number=1,Type=Integer,Description=\"Approximate read depth; some reads may have been filtered\">\n",
      "##INFO=<ID=DS,Number=0,Type=Flag,Description=\"Were any of the samples downsampled?\">\n",
      "##INFO=<ID=ExcessHet,Number=1,Type=Float,Description=\"Phred-scaled p-value for exact test of excess heterozygosity\">\n",
      "##INFO=<ID=FS,Number=1,Type=Float,Description=\"Phred-scaled p-value using Fisher's exact test to detect strand bias\">\n",
      "##INFO=<ID=HaplotypeScore,Number=1,Type=Float,Description=\"Consistency of the site with at most two segregating haplotypes\">\n",
      "##INFO=<ID=InbreedingCoeff,Number=1,Type=Float,Description=\"Inbreeding coefficient as estimated from the genotype likelihoods per-sample when compared against the Hardy-Weinberg expectation\">\n",
      "##INFO=<ID=MLEAC,Number=A,Type=Integer,Description=\"Maximum likelihood expectation (MLE) for the allele counts (not necessarily the same as the AC), for each ALT allele, in the same order as listed\">\n",
      "##INFO=<ID=MLEAF,Number=A,Type=Float,Description=\"Maximum likelihood expectation (MLE) for the allele frequency (not necessarily the same as the AF), for each ALT allele, in the same order as listed\">\n",
      "##INFO=<ID=MQ,Number=1,Type=Float,Description=\"RMS Mapping Quality\">\n",
      "##INFO=<ID=MQRankSum,Number=1,Type=Float,Description=\"Z-score From Wilcoxon rank sum test of Alt vs. Ref read mapping qualities\">\n",
      "##INFO=<ID=QD,Number=1,Type=Float,Description=\"Variant Confidence/Quality by Depth\">\n",
      "##INFO=<ID=ReadPosRankSum,Number=1,Type=Float,Description=\"Z-score from Wilcoxon rank sum test of Alt vs. Ref read position bias\">\n",
      "##INFO=<ID=SOR,Number=1,Type=Float,Description=\"Symmetric Odds Ratio of 2x2 contingency table to detect strand bias\">\n",
      "##contig=<ID=1,length=249250621>\n",
      "##contig=<ID=2,length=243199373>\n",
      "##contig=<ID=3,length=198022430>\n",
      "##contig=<ID=4,length=191154276>\n",
      "##contig=<ID=5,length=180915260>\n",
      "##contig=<ID=6,length=171115067>\n",
      "##contig=<ID=7,length=159138663>\n",
      "##contig=<ID=8,length=146364022>\n",
      "##contig=<ID=9,length=141213431>\n",
      "##contig=<ID=10,length=135534747>\n",
      "##contig=<ID=11,length=135006516>\n",
      "##contig=<ID=12,length=133851895>\n",
      "##contig=<ID=13,length=115169878>\n",
      "##contig=<ID=14,length=107349540>\n",
      "##contig=<ID=15,length=102531392>\n",
      "##contig=<ID=16,length=90354753>\n",
      "##contig=<ID=17,length=81195210>\n",
      "##contig=<ID=18,length=78077248>\n",
      "##contig=<ID=19,length=59128983>\n",
      "##contig=<ID=20,length=63025520>\n",
      "##contig=<ID=21,length=48129895>\n",
      "##contig=<ID=22,length=51304566>\n",
      "##contig=<ID=X,length=155270560>\n",
      "##contig=<ID=Y,length=59373566>\n",
      "##contig=<ID=MT,length=16569>\n",
      "##reference=file:///home/ubuntu/Notebooks/Homo_sapiens.GRCh37.GATK.illumina/Homo_sapiens.GRCh37.GATK.illumina.fasta\n",
      "##SnpEffVersion=\"4.3k (build 2017-03-29 17:16), by Pablo Cingolani\"\n",
      "##SnpEffCmd=\"SnpEff  GRCh37.75 na12878_wes_brca_dedup.sorted_RG.vcf \"\n",
      "##INFO=<ID=ANN,Number=.,Type=String,Description=\"Functional annotations: 'Allele | Annotation | Annotation_Impact | Gene_Name | Gene_ID | Feature_Type | Feature_ID | Transcript_BioType | Rank | HGVS.c | HGVS.p | cDNA.pos / cDNA.length | CDS.pos / CDS.length | AA.pos / AA.length | Distance | ERRORS / WARNINGS / INFO' \">\n",
      "##INFO=<ID=LOF,Number=.,Type=String,Description=\"Predicted loss of function effects for this variant. Format: 'Gene_Name | Gene_ID | Number_of_transcripts_in_gene | Percent_of_transcripts_affected'\">\n",
      "##INFO=<ID=NMD,Number=.,Type=String,Description=\"Predicted nonsense mediated decay effects for this variant. Format: 'Gene_Name | Gene_ID | Number_of_transcripts_in_gene | Percent_of_transcripts_affected'\">\n",
      "##SnpSiftVersion=\"SnpSift 4.3k (build 2017-03-29 17:16), by Pablo Cingolani\"\n",
      "##SnpSiftCmd=\"\"\n",
      "##INFO=<ID=CDA,Number=0,Type=Flag,Description=\"Variation is interrogated in a clinical diagnostic assay\">\n",
      "##INFO=<ID=OTH,Number=0,Type=Flag,Description=\"Has other variant with exactly the same set of mapped positions on NCBI refernce assembly.\">\n",
      "##INFO=<ID=S3D,Number=0,Type=Flag,Description=\"Has 3D structure - SNP3D table\">\n",
      "##INFO=<ID=WTD,Number=0,Type=Flag,Description=\"Is Withdrawn by submitter If one member ss is withdrawn by submitter, then this bit is set.  If all member ss' are withdrawn, then the rs is deleted to SNPHistory\">\n",
      "##INFO=<ID=dbSNPBuildID,Number=1,Type=Integer,Description=\"First dbSNP Build for RS\">\n",
      "##INFO=<ID=SLO,Number=0,Type=Flag,Description=\"Has SubmitterLinkOut - From SNP->SubSNP->Batch.link_out\">\n",
      "##INFO=<ID=NSF,Number=0,Type=Flag,Description=\"Has non-synonymous frameshift A coding region variation where one allele in the set changes all downstream amino acids. FxnClass = 44\">\n",
      "##INFO=<ID=R3,Number=0,Type=Flag,Description=\"In 3' gene region FxnCode = 13\">\n",
      "##INFO=<ID=R5,Number=0,Type=Flag,Description=\"In 5' gene region FxnCode = 15\">\n",
      "##INFO=<ID=NSN,Number=0,Type=Flag,Description=\"Has non-synonymous nonsense A coding region variation where one allele in the set changes to STOP codon (TER). FxnClass = 41\">\n",
      "##INFO=<ID=NSM,Number=0,Type=Flag,Description=\"Has non-synonymous missense A coding region variation where one allele in the set changes protein peptide. FxnClass = 42\">\n",
      "##INFO=<ID=G5A,Number=0,Type=Flag,Description=\">5% minor allele frequency in each and all populations\">\n",
      "##INFO=<ID=COMMON,Number=1,Type=Integer,Description=\"RS is a common SNP.  A common SNP is one that has at least one 1000Genomes population with a minor allele of frequency >= 1% and for which 2 or more founders contribute to that minor allele frequency.\">\n",
      "##INFO=<ID=RS,Number=1,Type=Integer,Description=\"dbSNP ID (i.e. rs number)\">\n",
      "##INFO=<ID=RV,Number=0,Type=Flag,Description=\"RS orientation is reversed\">\n",
      "##INFO=<ID=TPA,Number=0,Type=Flag,Description=\"Provisional Third Party Annotation(TPA) (currently rs from PHARMGKB who will give phenotype data)\">\n",
      "##INFO=<ID=CFL,Number=0,Type=Flag,Description=\"Has Assembly conflict. This is for weight 1 and 2 variant that maps to different chromosomes on different assemblies.\">\n",
      "##INFO=<ID=GNO,Number=0,Type=Flag,Description=\"Genotypes available. The variant has individual genotype (in SubInd table).\">\n",
      "##INFO=<ID=VLD,Number=0,Type=Flag,Description=\"Is Validated.  This bit is set if the variant has 2+ minor allele count based on frequency or genotype data.\">\n",
      "##INFO=<ID=ASP,Number=0,Type=Flag,Description=\"Is Assembly specific. This is set if the variant only maps to one assembly\">\n",
      "##INFO=<ID=ASS,Number=0,Type=Flag,Description=\"In acceptor splice site FxnCode = 73\">\n",
      "##INFO=<ID=REF,Number=0,Type=Flag,Description=\"Has reference A coding region variation where one allele in the set is identical to the reference sequence. FxnCode = 8\">\n",
      "##INFO=<ID=U3,Number=0,Type=Flag,Description=\"In 3' UTR Location is in an untranslated region (UTR). FxnCode = 53\">\n",
      "##INFO=<ID=U5,Number=0,Type=Flag,Description=\"In 5' UTR Location is in an untranslated region (UTR). FxnCode = 55\">\n",
      "##INFO=<ID=WGT,Number=1,Type=Integer,Description=\"Weight, 00 - unmapped, 1 - weight 1, 2 - weight 2, 3 - weight 3 or more\">\n",
      "##INFO=<ID=MTP,Number=0,Type=Flag,Description=\"Microattribution/third-party annotation(TPA:GWAS,PAGE)\">\n",
      "##INFO=<ID=LSD,Number=0,Type=Flag,Description=\"Submitted from a locus-specific database\">\n",
      "##INFO=<ID=NOC,Number=0,Type=Flag,Description=\"Contig allele not present in variant allele list. The reference sequence allele at the mapped position is not present in the variant allele list, adjusted for orientation.\">\n",
      "##INFO=<ID=DSS,Number=0,Type=Flag,Description=\"In donor splice-site FxnCode = 75\">\n",
      "##INFO=<ID=SYN,Number=0,Type=Flag,Description=\"Has synonymous A coding region variation where one allele in the set does not change the encoded amino acid. FxnCode = 3\">\n",
      "##INFO=<ID=KGPhase3,Number=0,Type=Flag,Description=\"1000 Genome phase 3\">\n",
      "##INFO=<ID=CAF,Number=.,Type=String,Description=\"An ordered, comma delimited list of allele frequencies based on 1000Genomes, starting with the reference allele followed by alternate alleles as ordered in the ALT column. Where a 1000Genomes alternate allele is not in the dbSNPs alternate allele set, the allele is added to the ALT column.  The minor allele is the second largest value in the list, and was previuosly reported in VCF as the GMAF.  This is the GMAF reported on the RefSNP and EntrezSNP pages and VariationReporter\">\n",
      "##INFO=<ID=VC,Number=1,Type=String,Description=\"Variation Class\">\n",
      "##INFO=<ID=MUT,Number=0,Type=Flag,Description=\"Is mutation (journal citation, explicit fact): a low frequency variation that is cited in journal and other reputable sources\">\n",
      "##INFO=<ID=KGPhase1,Number=0,Type=Flag,Description=\"1000 Genome phase 1 (incl. June Interim phase 1)\">\n",
      "##INFO=<ID=NOV,Number=0,Type=Flag,Description=\"Rs cluster has non-overlapping allele sets. True when rs set has more than 2 alleles from different submissions and these sets share no alleles in common.\">\n",
      "##INFO=<ID=VP,Number=1,Type=String,Description=\"Variation Property.  Documentation is at ftp://ftp.ncbi.nlm.nih.gov/snp/specs/dbSNP_BitField_latest.pdf\">\n",
      "##INFO=<ID=SAO,Number=1,Type=Integer,Description=\"Variant Allele Origin: 0 - unspecified, 1 - Germline, 2 - Somatic, 3 - Both\">\n",
      "##INFO=<ID=GENEINFO,Number=1,Type=String,Description=\"Pairs each of gene symbol:gene id.  The gene symbol and id are delimited by a colon (:) and each pair is delimited by a vertical bar (|)\">\n",
      "##INFO=<ID=INT,Number=0,Type=Flag,Description=\"In Intron FxnCode = 6\">\n",
      "##INFO=<ID=G5,Number=0,Type=Flag,Description=\">5% minor allele frequency in 1+ populations\">\n",
      "##INFO=<ID=OM,Number=0,Type=Flag,Description=\"Has OMIM/OMIA\">\n",
      "##INFO=<ID=PMC,Number=0,Type=Flag,Description=\"Links exist to PubMed Central article\">\n",
      "##INFO=<ID=SSR,Number=1,Type=Integer,Description=\"Variant Suspect Reason Codes (may be more than one value added together) 0 - unspecified, 1 - Paralog, 2 - byEST, 4 - oldAlign, 8 - Para_EST, 16 - 1kg_failed, 1024 - other\">\n",
      "##INFO=<ID=RSPOS,Number=1,Type=Integer,Description=\"Chr position reported in dbSNP\">\n",
      "##INFO=<ID=HD,Number=0,Type=Flag,Description=\"Marker is on high density genotyping kit (50K density or greater).  The variant may have phenotype associations present in dbGaP.\">\n",
      "##INFO=<ID=PM,Number=0,Type=Flag,Description=\"Variant is Precious(Clinical,Pubmed Cited)\">\n",
      "##FILTER=<ID=SnpSift,Description=\"SnpSift 4.3k (build 2017-03-29 17:16), by Pablo Cingolani, Expression used: (ANN[*].IMPACT has 'MODERATE') & isHom(GEN[0])\">\n",
      "#CHROM\tPOS\tID\tREF\tALT\tQUAL\tFILTER\tINFO\tFORMAT\tna12878\n",
      "13\t32885654\trs445909\tT\tC\t4205.77\t.\tAC=2;AF=1.00;AN=2;DP=111;ExcessHet=3.0103;FS=0.000;MLEAC=2;MLEAF=1.00;MQ=60.00;QD=29.00;SOR=1.089;ANN=C|missense_variant|MODERATE|ZAR1L|ENSG00000189167|transcript|ENST00000345108|protein_coding|1/4|c.409A>G|p.Thr137Ala|438/1103|409/966|137/321||,C|missense_variant|MODERATE|ZAR1L|ENSG00000189167|transcript|ENST00000533490|protein_coding|3/6|c.409A>G|p.Thr137Ala|828/1564|409/966|137/321||,C|upstream_gene_variant|MODIFIER|BRCA2|ENSG00000139618|transcript|ENST00000380152|protein_coding||c.-4944T>C|||||3957|,C|upstream_gene_variant|MODIFIER|BRCA2|ENSG00000139618|transcript|ENST00000544455|protein_coding||c.-4944T>C|||||3963|,C|upstream_gene_variant|MODIFIER|BRCA2|ENSG00000139618|transcript|ENST00000530893|protein_coding||c.-13612T>C|||||3988|WARNING_TRANSCRIPT_INCOMPLETE;ASP;CAF=0.608,0.392;COMMON=1;G5;G5A;GENEINFO=ZAR1L:646799;GNO;KGPhase1;KGPhase3;NSM;REF;RS=445909;RSPOS=32885654;SAO=0;SLO;SSR=0;VC=SNV;VLD;VP=0x050100000a05170136000100;WGT=1;dbSNPBuildID=80\tGT:AD:DP:GQ:PL\t1/1:0,111:111:99:4234,333,0\n",
      "13\t32929387\trs169547\tT\tC\t5337.77\t.\tAC=2;AF=1.00;AN=2;DP=153;ExcessHet=3.0103;FS=0.000;MLEAC=2;MLEAF=1.00;MQ=60.00;QD=33.07;SOR=1.578;ANN=C|missense_variant|MODERATE|BRCA2|ENSG00000139618|transcript|ENST00000380152|protein_coding|14/27|c.7397T>C|p.Val2466Ala|7630/10930|7397/10257|2466/3418||,C|missense_variant|MODERATE|BRCA2|ENSG00000139618|transcript|ENST00000544455|protein_coding|14/28|c.7397T>C|p.Val2466Ala|7624/10984|7397/10257|2466/3418||;ASP;CAF=0.02416,0.9758;COMMON=1;G5;GENEINFO=BRCA2:675;GNO;HD;KGPhase1;KGPhase3;LSD;NSM;PM;PMC;REF;RS=169547;RSPOS=32929387;RV;SAO=1;SLO;SSR=0;VC=SNV;VLD;VP=0x050168000a0515053f100101;WGT=1;dbSNPBuildID=79\tGT:AD:DP:GQ:PL\t1/1:0,152:152:99:5366,452,0\n",
      "17\t41133071\trs1708875\tT\tC\t7019.77\t.\tAC=2;AF=1.00;AN=2;DP=195;ExcessHet=3.0103;FS=0.000;MLEAC=2;MLEAF=1.00;MQ=60.00;QD=24.50;SOR=1.357;ANN=C|missense_variant|MODERATE|RUNDC1|ENSG00000198863|transcript|ENST00000361677|protein_coding|1/5|c.478T>C|p.Trp160Arg|490/3828|478/1842|160/613||,C|missense_variant|MODERATE|RUNDC1|ENSG00000198863|transcript|ENST00000589705|protein_coding|1/4|c.472T>C|p.Trp158Arg|474/959|472/789|158/262||WARNING_TRANSCRIPT_NO_START_CODON,C|sequence_feature|LOW|RUNDC1|ENSG00000198863|coiled-coil-region:match_to_sequence_model_evidence_used_in_manual_assertion|ENST00000361677|protein_coding|1/5|c.478T>C||||||,C|upstream_gene_variant|MODIFIER|PTGES3L-AARSD1|ENSG00000108825|transcript|ENST00000409399|protein_coding||c.-872A>G|||||564|,C|upstream_gene_variant|MODIFIER|PTGES3L|ENSG00000267060|transcript|ENST00000453594|protein_coding||c.-872A>G|||||526|,C|upstream_gene_variant|MODIFIER|RP11-376M2.2|ENSG00000267230|transcript|ENST00000587526|sense_intronic||n.-3779A>G|||||3779|,C|upstream_gene_variant|MODIFIER|PTGES3L-AARSD1|ENSG00000108825|transcript|ENST00000360221|protein_coding||c.-1437A>G|||||1051|,C|upstream_gene_variant|MODIFIER|PTGES3L-AARSD1|ENSG00000108825|transcript|ENST00000409103|protein_coding||c.-1437A>G|||||1061|,C|upstream_gene_variant|MODIFIER|PTGES3L-AARSD1|ENSG00000108825|transcript|ENST00000421990|protein_coding||c.-872A>G|||||526|,C|upstream_gene_variant|MODIFIER|PTGES3L-AARSD1|ENSG00000108825|transcript|ENST00000423601|nonsense_mediated_decay||c.-917A>G|||||916|WARNING_TRANSCRIPT_NO_START_CODON,C|upstream_gene_variant|MODIFIER|PTGES3L-AARSD1|ENSG00000108825|transcript|ENST00000452752|protein_coding||c.-1392A>G|||||1391|WARNING_TRANSCRIPT_INCOMPLETE,C|upstream_gene_variant|MODIFIER|PTGES3L-AARSD1|ENSG00000108825|transcript|ENST00000454303|protein_coding||c.-1437A>G|||||968|WARNING_TRANSCRIPT_INCOMPLETE,C|upstream_gene_variant|MODIFIER|PTGES3L|ENSG00000267060|transcript|ENST00000424284|protein_coding||c.-1392A>G|||||1390|WARNING_TRANSCRIPT_NO_START_CODON,C|upstream_gene_variant|MODIFIER|PTGES3L|ENSG00000267060|transcript|ENST00000409446|protein_coding||c.-872A>G|||||621|,C|upstream_gene_variant|MODIFIER|PTGES3L|ENSG00000267060|transcript|ENST00000462157|retained_intron||n.-705A>G|||||705|,C|upstream_gene_variant|MODIFIER|PTGES3L|ENSG00000267060|transcript|ENST00000591916|protein_coding||c.-980A>G|||||978|WARNING_TRANSCRIPT_NO_START_CODON,C|upstream_gene_variant|MODIFIER|PTGES3L|ENSG00000267060|transcript|ENST00000451885|protein_coding||c.-974A>G|||||974|WARNING_TRANSCRIPT_NO_START_CODON,C|non_coding_transcript_exon_variant|MODIFIER|RUNDC1|ENSG00000198863|transcript|ENST00000590836|retained_intron|1/1|n.490T>C||||||;ASP;CAF=0.07308,0.9269,.;COMMON=1;G5;GENEINFO=PTGES3L:100885848|RUNDC1:146923|PTGES3L-AARSD1:100885850;GNO;HD;KGPhase1;KGPhase3;NSM;R5;REF;RS=1708875;RSPOS=41133071;RV;SAO=0;SLO;SSR=0;VC=SNV;VLD;VP=0x050100020a0515053f000100;WGT=1;dbSNPBuildID=89\tGT:AD:DP:GQ:PL\t1/1:0,195:195:99:7048,588,0\n",
      "17\t41165493\trs588703\tA\tG\t3719.77\t.\tAC=2;AF=1.00;AN=2;DP=106;ExcessHet=3.0103;FS=0.000;MLEAC=2;MLEAF=1.00;MQ=60.00;QD=30.82;SOR=0.811;ANN=G|missense_variant&splice_region_variant|MODERATE|IFI35|ENSG00000068079|transcript|ENST00000438323|protein_coding|5/7|c.382A>G|p.Met128Val|590/1232|382/867|128/288||,G|missense_variant&splice_region_variant|MODERATE|IFI35|ENSG00000068079|transcript|ENST00000415816|protein_coding|5/7|c.376A>G|p.Met126Val|599/1241|376/861|126/286||,G|splice_region_variant&non_coding_transcript_exon_variant|LOW|IFI35|ENSG00000068079|transcript|ENST00000546325|retained_intron|3/3|n.353A>G||||||,G|splice_region_variant&non_coding_transcript_exon_variant|LOW|IFI35|ENSG00000068079|transcript|ENST00000534876|retained_intron|2/2|n.203A>G||||||,G|downstream_gene_variant|MODIFIER|VAT1|ENSG00000108828|transcript|ENST00000355653|protein_coding||c.*2585T>C|||||1129|,G|downstream_gene_variant|MODIFIER|IFI35|ENSG00000068079|transcript|ENST00000536969|processed_transcript||n.*432A>G|||||432|,G|downstream_gene_variant|MODIFIER|IFI35|ENSG00000068079|transcript|ENST00000396722|retained_intron||n.*864A>G|||||864|,G|downstream_gene_variant|MODIFIER|IFI35|ENSG00000068079|transcript|ENST00000538473|retained_intron||n.*112A>G|||||112|,G|downstream_gene_variant|MODIFIER|VAT1|ENSG00000108828|transcript|ENST00000592388|nonsense_mediated_decay||c.*2585T>C|||||1131|WARNING_TRANSCRIPT_NO_START_CODON,G|downstream_gene_variant|MODIFIER|VAT1|ENSG00000108828|transcript|ENST00000587173|protein_coding||c.*2585T>C|||||2423|,G|downstream_gene_variant|MODIFIER|VAT1|ENSG00000108828|transcript|ENST00000420567|protein_coding||c.*2585T>C|||||2442|,G|downstream_gene_variant|MODIFIER|VAT1|ENSG00000108828|transcript|ENST00000587147|protein_coding||c.*2795T>C|||||2591|WARNING_TRANSCRIPT_NO_START_CODON,G|downstream_gene_variant|MODIFIER|VAT1|ENSG00000108828|transcript|ENST00000590924|protein_coding||c.*4356T>C|||||4356|WARNING_TRANSCRIPT_INCOMPLETE,G|downstream_gene_variant|MODIFIER|VAT1|ENSG00000108828|transcript|ENST00000589709|protein_coding||c.*4366T>C|||||4366|WARNING_TRANSCRIPT_NO_STOP_CODON,G|downstream_gene_variant|MODIFIER|VAT1|ENSG00000108828|transcript|ENST00000589828|protein_coding||c.*4646T>C|||||4646|WARNING_TRANSCRIPT_INCOMPLETE,G|non_coding_transcript_exon_variant|MODIFIER|IFI35|ENSG00000068079|transcript|ENST00000246911|retained_intron|4/4|n.641A>G||||||;ASP;CAF=0.02456,0.9754;COMMON=1;G5;GENEINFO=IFI35:3430;GNO;HD;KGPhase1;KGPhase3;NSM;REF;RS=588703;RSPOS=41165493;RV;SAO=0;SLO;SSR=0;VC=SNV;VLD;VP=0x050100000a0515053f000100;WGT=1;dbSNPBuildID=83\tGT:AD:DP:GQ:PL\t1/1:0,106:106:99:3748,315,0\n"
     ]
    }
   ],
   "source": [
    "java -Xmx4g -jar $SNPSIFT filter \"(ANN[*].IMPACT has 'MODERATE') & isHom(GEN[0])\" na12878_wes_brca_dedup.sorted_RG_annotatedID.vcf"
   ]
  },
  {
   "cell_type": "markdown",
   "metadata": {},
   "source": [
    "# split SNPs and Indels"
   ]
  },
  {
   "cell_type": "code",
   "execution_count": 20,
   "metadata": {
    "collapsed": false
   },
   "outputs": [
    {
     "name": "stdout",
     "output_type": "stream",
     "text": [
      "INFO  13:37:00,680 HelpFormatter - -------------------------------------------------------------------------------- \n",
      "INFO  13:37:00,682 HelpFormatter - The Genome Analysis Toolkit (GATK) v3.7-0-gcfedb67, Compiled 2016/12/12 11:21:18 \n",
      "INFO  13:37:00,683 HelpFormatter - Copyright (c) 2010-2016 The Broad Institute \n",
      "INFO  13:37:00,685 HelpFormatter - For support and documentation go to https://software.broadinstitute.org/gatk \n",
      "INFO  13:37:00,686 HelpFormatter - [Tue Apr 18 13:37:00 UTC 2017] Executing on Linux 4.4.0-71-generic amd64 \n",
      "INFO  13:37:00,686 HelpFormatter - OpenJDK 64-Bit Server VM 1.8.0_121-8u121-b13-0ubuntu1.16.04.2-b13 \n",
      "INFO  13:37:00,692 HelpFormatter - Program Args: -T SelectVariants -R Homo_sapiens.GRCh37.GATK.illumina/Homo_sapiens.GRCh37.GATK.illumina.fasta -selectType SNP -V na12878_wgs_brca_dedup.sorted_RG.vcf -o na12878_wgs_brca_dedup.sorted_RG_rawSNPs.vcf \n",
      "INFO  13:37:00,715 HelpFormatter - Executing as ubuntu@ip-172-31-10-66 on Linux 4.4.0-71-generic amd64; OpenJDK 64-Bit Server VM 1.8.0_121-8u121-b13-0ubuntu1.16.04.2-b13. \n",
      "INFO  13:37:00,715 HelpFormatter - Date/Time: 2017/04/18 13:37:00 \n",
      "INFO  13:37:00,717 HelpFormatter - -------------------------------------------------------------------------------- \n",
      "INFO  13:37:00,717 HelpFormatter - -------------------------------------------------------------------------------- \n",
      "INFO  13:37:00,735 GenomeAnalysisEngine - Strictness is SILENT \n",
      "INFO  13:37:00,813 GenomeAnalysisEngine - Downsampling Settings: Method: BY_SAMPLE, Target Coverage: 1000 \n",
      "INFO  13:37:01,036 GenomeAnalysisEngine - Preparing for traversal \n",
      "INFO  13:37:01,042 GenomeAnalysisEngine - Done preparing for traversal \n",
      "INFO  13:37:01,042 ProgressMeter - [INITIALIZATION COMPLETE; STARTING PROCESSING] \n",
      "INFO  13:37:01,042 ProgressMeter -                 | processed |    time |    per 1M |           |   total | remaining \n",
      "INFO  13:37:01,044 ProgressMeter -        Location |     sites | elapsed |     sites | completed | runtime |   runtime \n",
      "INFO  13:37:01,589 SelectVariants - 724 records processed. \n",
      "INFO  13:37:01,641 ProgressMeter -            done      1047.0     0.0 s       9.5 m       82.1%     0.0 s       0.0 s \n",
      "INFO  13:37:01,642 ProgressMeter - Total runtime 0.60 secs, 0.01 min, 0.00 hours \n",
      "------------------------------------------------------------------------------------------\n",
      "Done. There were no warn messages.\n",
      "------------------------------------------------------------------------------------------\n"
     ]
    }
   ],
   "source": [
    "java -jar $GATK \\\n",
    "-T SelectVariants \\\n",
    "-R Homo_sapiens.GRCh37.GATK.illumina/Homo_sapiens.GRCh37.GATK.illumina.fasta \\\n",
    "-selectType SNP \\\n",
    "-V na12878_wgs_brca_dedup.sorted_RG.vcf \\\n",
    "-o na12878_wgs_brca_dedup.sorted_RG_rawSNPs.vcf\n"
   ]
  },
  {
   "cell_type": "code",
   "execution_count": 21,
   "metadata": {
    "collapsed": false
   },
   "outputs": [
    {
     "name": "stdout",
     "output_type": "stream",
     "text": [
      "INFO  13:38:05,225 HelpFormatter - -------------------------------------------------------------------------------- \n",
      "INFO  13:38:05,227 HelpFormatter - The Genome Analysis Toolkit (GATK) v3.7-0-gcfedb67, Compiled 2016/12/12 11:21:18 \n",
      "INFO  13:38:05,227 HelpFormatter - Copyright (c) 2010-2016 The Broad Institute \n",
      "INFO  13:38:05,227 HelpFormatter - For support and documentation go to https://software.broadinstitute.org/gatk \n",
      "INFO  13:38:05,228 HelpFormatter - [Tue Apr 18 13:38:05 UTC 2017] Executing on Linux 4.4.0-71-generic amd64 \n",
      "INFO  13:38:05,228 HelpFormatter - OpenJDK 64-Bit Server VM 1.8.0_121-8u121-b13-0ubuntu1.16.04.2-b13 \n",
      "INFO  13:38:05,233 HelpFormatter - Program Args: -T SelectVariants -R Homo_sapiens.GRCh37.GATK.illumina/Homo_sapiens.GRCh37.GATK.illumina.fasta -selectType INDEL -V na12878_wgs_brca_dedup.sorted_RG.vcf -o na12878_wgs_brca_dedup.sorted_RG_rawINDELs.vcf \n",
      "INFO  13:38:05,253 HelpFormatter - Executing as ubuntu@ip-172-31-10-66 on Linux 4.4.0-71-generic amd64; OpenJDK 64-Bit Server VM 1.8.0_121-8u121-b13-0ubuntu1.16.04.2-b13. \n",
      "INFO  13:38:05,254 HelpFormatter - Date/Time: 2017/04/18 13:38:05 \n",
      "INFO  13:38:05,254 HelpFormatter - -------------------------------------------------------------------------------- \n",
      "INFO  13:38:05,254 HelpFormatter - -------------------------------------------------------------------------------- \n",
      "INFO  13:38:05,280 GenomeAnalysisEngine - Strictness is SILENT \n",
      "INFO  13:38:05,351 GenomeAnalysisEngine - Downsampling Settings: Method: BY_SAMPLE, Target Coverage: 1000 \n",
      "INFO  13:38:05,489 GenomeAnalysisEngine - Preparing for traversal \n",
      "INFO  13:38:05,495 GenomeAnalysisEngine - Done preparing for traversal \n",
      "INFO  13:38:05,495 ProgressMeter - [INITIALIZATION COMPLETE; STARTING PROCESSING] \n",
      "INFO  13:38:05,495 ProgressMeter -                 | processed |    time |    per 1M |           |   total | remaining \n",
      "INFO  13:38:05,496 ProgressMeter -        Location |     sites | elapsed |     sites | completed | runtime |   runtime \n",
      "INFO  13:38:05,983 SelectVariants - 724 records processed. \n",
      "INFO  13:38:06,016 ProgressMeter -            done      1047.0     0.0 s       8.3 m       82.1%     0.0 s       0.0 s \n",
      "INFO  13:38:06,017 ProgressMeter - Total runtime 0.52 secs, 0.01 min, 0.00 hours \n",
      "------------------------------------------------------------------------------------------\n",
      "Done. There were no warn messages.\n",
      "------------------------------------------------------------------------------------------\n"
     ]
    }
   ],
   "source": [
    "java -jar $GATK \\\n",
    "-T SelectVariants \\\n",
    "-R Homo_sapiens.GRCh37.GATK.illumina/Homo_sapiens.GRCh37.GATK.illumina.fasta \\\n",
    "-selectType INDEL \\\n",
    "-V na12878_wgs_brca_dedup.sorted_RG.vcf \\\n",
    "-o na12878_wgs_brca_dedup.sorted_RG_rawINDELs.vcf"
   ]
  },
  {
   "cell_type": "markdown",
   "metadata": {},
   "source": [
    "# variant filtering"
   ]
  },
  {
   "cell_type": "code",
   "execution_count": 31,
   "metadata": {
    "collapsed": false
   },
   "outputs": [
    {
     "name": "stdout",
     "output_type": "stream",
     "text": [
      "INFO  14:00:44,172 HelpFormatter - -------------------------------------------------------------------------------- \n",
      "INFO  14:00:44,174 HelpFormatter - The Genome Analysis Toolkit (GATK) v3.7-0-gcfedb67, Compiled 2016/12/12 11:21:18 \n",
      "INFO  14:00:44,174 HelpFormatter - Copyright (c) 2010-2016 The Broad Institute \n",
      "INFO  14:00:44,175 HelpFormatter - For support and documentation go to https://software.broadinstitute.org/gatk \n",
      "INFO  14:00:44,176 HelpFormatter - [Tue Apr 18 14:00:44 UTC 2017] Executing on Linux 4.4.0-71-generic amd64 \n",
      "INFO  14:00:44,176 HelpFormatter - OpenJDK 64-Bit Server VM 1.8.0_121-8u121-b13-0ubuntu1.16.04.2-b13 \n",
      "INFO  14:00:44,180 HelpFormatter - Program Args: -T VariantFiltration -R Homo_sapiens.GRCh37.GATK.illumina/Homo_sapiens.GRCh37.GATK.illumina.fasta --variant na12878_wgs_brca_dedup.sorted_RG_rawINDELs.vcf -o na12878_wgs_brca_dedup.sorted_RG_filteredINDELs.vcf --filterExpression QD < 2.0 || FS > 200.0 || ReadPosRankSum < -20.0 --filterName poor_INDELs \n",
      "INFO  14:00:44,184 HelpFormatter - Executing as ubuntu@ip-172-31-10-66 on Linux 4.4.0-71-generic amd64; OpenJDK 64-Bit Server VM 1.8.0_121-8u121-b13-0ubuntu1.16.04.2-b13. \n",
      "INFO  14:00:44,184 HelpFormatter - Date/Time: 2017/04/18 14:00:44 \n",
      "INFO  14:00:44,184 HelpFormatter - -------------------------------------------------------------------------------- \n",
      "INFO  14:00:44,185 HelpFormatter - -------------------------------------------------------------------------------- \n",
      "INFO  14:00:44,205 GenomeAnalysisEngine - Strictness is SILENT \n",
      "INFO  14:00:44,280 GenomeAnalysisEngine - Downsampling Settings: Method: BY_SAMPLE, Target Coverage: 1000 \n",
      "INFO  14:00:44,426 GenomeAnalysisEngine - Preparing for traversal \n",
      "INFO  14:00:44,432 GenomeAnalysisEngine - Done preparing for traversal \n",
      "INFO  14:00:44,433 ProgressMeter - [INITIALIZATION COMPLETE; STARTING PROCESSING] \n",
      "INFO  14:00:44,433 ProgressMeter -                 | processed |    time |    per 1M |           |   total | remaining \n",
      "INFO  14:00:44,433 ProgressMeter -        Location |     sites | elapsed |     sites | completed | runtime |   runtime \n",
      "WARN  14:00:44,704 Interpreter - ![26,40]: 'QD < 2.0 || FS > 200.0 || ReadPosRankSum < -20.0;' undefined variable ReadPosRankSum \n",
      "WARN  14:00:44,713 Interpreter - ![26,40]: 'QD < 2.0 || FS > 200.0 || ReadPosRankSum < -20.0;' undefined variable ReadPosRankSum \n",
      "WARN  14:00:44,713 Interpreter - ![26,40]: 'QD < 2.0 || FS > 200.0 || ReadPosRankSum < -20.0;' undefined variable ReadPosRankSum \n",
      "WARN  14:00:44,714 Interpreter - ![26,40]: 'QD < 2.0 || FS > 200.0 || ReadPosRankSum < -20.0;' undefined variable ReadPosRankSum \n",
      "WARN  14:00:44,715 Interpreter - ![26,40]: 'QD < 2.0 || FS > 200.0 || ReadPosRankSum < -20.0;' undefined variable ReadPosRankSum \n",
      "WARN  14:00:44,715 Interpreter - ![26,40]: 'QD < 2.0 || FS > 200.0 || ReadPosRankSum < -20.0;' undefined variable ReadPosRankSum \n",
      "WARN  14:00:44,717 Interpreter - ![26,40]: 'QD < 2.0 || FS > 200.0 || ReadPosRankSum < -20.0;' undefined variable ReadPosRankSum \n",
      "WARN  14:00:44,720 Interpreter - ![26,40]: 'QD < 2.0 || FS > 200.0 || ReadPosRankSum < -20.0;' undefined variable ReadPosRankSum \n",
      "WARN  14:00:44,722 Interpreter - ![26,40]: 'QD < 2.0 || FS > 200.0 || ReadPosRankSum < -20.0;' undefined variable ReadPosRankSum \n",
      "WARN  14:00:44,726 Interpreter - ![26,40]: 'QD < 2.0 || FS > 200.0 || ReadPosRankSum < -20.0;' undefined variable ReadPosRankSum \n",
      "WARN  14:00:44,726 Interpreter - ![26,40]: 'QD < 2.0 || FS > 200.0 || ReadPosRankSum < -20.0;' undefined variable ReadPosRankSum \n",
      "WARN  14:00:44,727 Interpreter - ![26,40]: 'QD < 2.0 || FS > 200.0 || ReadPosRankSum < -20.0;' undefined variable ReadPosRankSum \n",
      "WARN  14:00:44,731 Interpreter - ![26,40]: 'QD < 2.0 || FS > 200.0 || ReadPosRankSum < -20.0;' undefined variable ReadPosRankSum \n",
      "WARN  14:00:44,737 Interpreter - ![26,40]: 'QD < 2.0 || FS > 200.0 || ReadPosRankSum < -20.0;' undefined variable ReadPosRankSum \n",
      "WARN  14:00:44,743 Interpreter - ![26,40]: 'QD < 2.0 || FS > 200.0 || ReadPosRankSum < -20.0;' undefined variable ReadPosRankSum \n",
      "WARN  14:00:44,746 Interpreter - ![26,40]: 'QD < 2.0 || FS > 200.0 || ReadPosRankSum < -20.0;' undefined variable ReadPosRankSum \n",
      "WARN  14:00:44,747 Interpreter - ![26,40]: 'QD < 2.0 || FS > 200.0 || ReadPosRankSum < -20.0;' undefined variable ReadPosRankSum \n",
      "WARN  14:00:44,748 Interpreter - ![26,40]: 'QD < 2.0 || FS > 200.0 || ReadPosRankSum < -20.0;' undefined variable ReadPosRankSum \n",
      "WARN  14:00:44,789 Interpreter - ![26,40]: 'QD < 2.0 || FS > 200.0 || ReadPosRankSum < -20.0;' undefined variable ReadPosRankSum \n",
      "WARN  14:00:44,790 Interpreter - ![26,40]: 'QD < 2.0 || FS > 200.0 || ReadPosRankSum < -20.0;' undefined variable ReadPosRankSum \n",
      "WARN  14:00:44,790 Interpreter - ![26,40]: 'QD < 2.0 || FS > 200.0 || ReadPosRankSum < -20.0;' undefined variable ReadPosRankSum \n",
      "WARN  14:00:44,791 Interpreter - ![26,40]: 'QD < 2.0 || FS > 200.0 || ReadPosRankSum < -20.0;' undefined variable ReadPosRankSum \n",
      "WARN  14:00:44,791 Interpreter - ![26,40]: 'QD < 2.0 || FS > 200.0 || ReadPosRankSum < -20.0;' undefined variable ReadPosRankSum \n",
      "WARN  14:00:44,793 Interpreter - ![26,40]: 'QD < 2.0 || FS > 200.0 || ReadPosRankSum < -20.0;' undefined variable ReadPosRankSum \n",
      "WARN  14:00:44,804 Interpreter - ![26,40]: 'QD < 2.0 || FS > 200.0 || ReadPosRankSum < -20.0;' undefined variable ReadPosRankSum \n",
      "WARN  14:00:44,805 Interpreter - ![26,40]: 'QD < 2.0 || FS > 200.0 || ReadPosRankSum < -20.0;' undefined variable ReadPosRankSum \n",
      "WARN  14:00:44,805 Interpreter - ![26,40]: 'QD < 2.0 || FS > 200.0 || ReadPosRankSum < -20.0;' undefined variable ReadPosRankSum \n",
      "WARN  14:00:44,807 Interpreter - ![26,40]: 'QD < 2.0 || FS > 200.0 || ReadPosRankSum < -20.0;' undefined variable ReadPosRankSum \n",
      "WARN  14:00:44,808 Interpreter - ![26,40]: 'QD < 2.0 || FS > 200.0 || ReadPosRankSum < -20.0;' undefined variable ReadPosRankSum \n",
      "WARN  14:00:44,808 Interpreter - ![26,40]: 'QD < 2.0 || FS > 200.0 || ReadPosRankSum < -20.0;' undefined variable ReadPosRankSum \n",
      "WARN  14:00:44,811 Interpreter - ![26,40]: 'QD < 2.0 || FS > 200.0 || ReadPosRankSum < -20.0;' undefined variable ReadPosRankSum \n",
      "WARN  14:00:44,811 Interpreter - ![26,40]: 'QD < 2.0 || FS > 200.0 || ReadPosRankSum < -20.0;' undefined variable ReadPosRankSum \n",
      "WARN  14:00:44,812 Interpreter - ![26,40]: 'QD < 2.0 || FS > 200.0 || ReadPosRankSum < -20.0;' undefined variable ReadPosRankSum \n",
      "WARN  14:00:44,813 Interpreter - ![26,40]: 'QD < 2.0 || FS > 200.0 || ReadPosRankSum < -20.0;' undefined variable ReadPosRankSum \n",
      "WARN  14:00:44,813 Interpreter - ![26,40]: 'QD < 2.0 || FS > 200.0 || ReadPosRankSum < -20.0;' undefined variable ReadPosRankSum \n",
      "WARN  14:00:44,814 Interpreter - ![26,40]: 'QD < 2.0 || FS > 200.0 || ReadPosRankSum < -20.0;' undefined variable ReadPosRankSum \n",
      "WARN  14:00:44,815 Interpreter - ![26,40]: 'QD < 2.0 || FS > 200.0 || ReadPosRankSum < -20.0;' undefined variable ReadPosRankSum \n",
      "WARN  14:00:44,816 Interpreter - ![26,40]: 'QD < 2.0 || FS > 200.0 || ReadPosRankSum < -20.0;' undefined variable ReadPosRankSum \n",
      "WARN  14:00:44,817 Interpreter - ![26,40]: 'QD < 2.0 || FS > 200.0 || ReadPosRankSum < -20.0;' undefined variable ReadPosRankSum \n",
      "WARN  14:00:44,819 Interpreter - ![26,40]: 'QD < 2.0 || FS > 200.0 || ReadPosRankSum < -20.0;' undefined variable ReadPosRankSum \n",
      "WARN  14:00:44,820 Interpreter - ![26,40]: 'QD < 2.0 || FS > 200.0 || ReadPosRankSum < -20.0;' undefined variable ReadPosRankSum \n",
      "WARN  14:00:44,820 Interpreter - ![26,40]: 'QD < 2.0 || FS > 200.0 || ReadPosRankSum < -20.0;' undefined variable ReadPosRankSum \n",
      "WARN  14:00:44,821 Interpreter - ![26,40]: 'QD < 2.0 || FS > 200.0 || ReadPosRankSum < -20.0;' undefined variable ReadPosRankSum \n",
      "WARN  14:00:44,822 Interpreter - ![26,40]: 'QD < 2.0 || FS > 200.0 || ReadPosRankSum < -20.0;' undefined variable ReadPosRankSum \n",
      "WARN  14:00:44,823 Interpreter - ![26,40]: 'QD < 2.0 || FS > 200.0 || ReadPosRankSum < -20.0;' undefined variable ReadPosRankSum \n",
      "WARN  14:00:44,824 Interpreter - ![26,40]: 'QD < 2.0 || FS > 200.0 || ReadPosRankSum < -20.0;' undefined variable ReadPosRankSum \n",
      "WARN  14:00:44,825 Interpreter - ![26,40]: 'QD < 2.0 || FS > 200.0 || ReadPosRankSum < -20.0;' undefined variable ReadPosRankSum \n",
      "WARN  14:00:44,826 Interpreter - ![26,40]: 'QD < 2.0 || FS > 200.0 || ReadPosRankSum < -20.0;' undefined variable ReadPosRankSum \n",
      "WARN  14:00:44,832 Interpreter - ![26,40]: 'QD < 2.0 || FS > 200.0 || ReadPosRankSum < -20.0;' undefined variable ReadPosRankSum \n",
      "WARN  14:00:44,837 Interpreter - ![26,40]: 'QD < 2.0 || FS > 200.0 || ReadPosRankSum < -20.0;' undefined variable ReadPosRankSum \n",
      "INFO  14:00:44,906 ProgressMeter -            done       506.0     0.0 s      15.6 m       82.1%     0.0 s       0.0 s \n",
      "INFO  14:00:44,906 ProgressMeter - Total runtime 0.47 secs, 0.01 min, 0.00 hours \n",
      "------------------------------------------------------------------------------------------\n",
      "Done. There were no warn messages.\n",
      "------------------------------------------------------------------------------------------\n"
     ]
    }
   ],
   "source": [
    "java -jar $GATK \\\n",
    "-T VariantFiltration \\\n",
    "-R Homo_sapiens.GRCh37.GATK.illumina/Homo_sapiens.GRCh37.GATK.illumina.fasta \\\n",
    "--variant na12878_wgs_brca_dedup.sorted_RG_rawINDELs.vcf \\\n",
    "-o na12878_wgs_brca_dedup.sorted_RG_filteredINDELs.vcf \\\n",
    "--filterExpression \"QD < 2.0 || FS > 200.0 || ReadPosRankSum < -20.0\" \\\n",
    "--filterName \"poor_INDELs\""
   ]
  },
  {
   "cell_type": "code",
   "execution_count": 30,
   "metadata": {
    "collapsed": false
   },
   "outputs": [
    {
     "name": "stdout",
     "output_type": "stream",
     "text": [
      "INFO  14:00:39,657 HelpFormatter - -------------------------------------------------------------------------------- \n",
      "INFO  14:00:39,659 HelpFormatter - The Genome Analysis Toolkit (GATK) v3.7-0-gcfedb67, Compiled 2016/12/12 11:21:18 \n",
      "INFO  14:00:39,659 HelpFormatter - Copyright (c) 2010-2016 The Broad Institute \n",
      "INFO  14:00:39,663 HelpFormatter - For support and documentation go to https://software.broadinstitute.org/gatk \n",
      "INFO  14:00:39,663 HelpFormatter - [Tue Apr 18 14:00:39 UTC 2017] Executing on Linux 4.4.0-71-generic amd64 \n",
      "INFO  14:00:39,663 HelpFormatter - OpenJDK 64-Bit Server VM 1.8.0_121-8u121-b13-0ubuntu1.16.04.2-b13 \n",
      "INFO  14:00:39,668 HelpFormatter - Program Args: -T VariantFiltration -R Homo_sapiens.GRCh37.GATK.illumina/Homo_sapiens.GRCh37.GATK.illumina.fasta --variant na12878_wgs_brca_dedup.sorted_RG_rawSNPs.vcf -o na12878_wgs_brca_dedup.sorted_RG_filteredSNPs.vcf --filterExpression QD < 2.0 || FS > 60.0 || MQ < 40.0 || MQRankSum < -1.0 || ReadPosRankSum < -8.0 --filterName poor_SNPs \n",
      "INFO  14:00:39,683 HelpFormatter - Executing as ubuntu@ip-172-31-10-66 on Linux 4.4.0-71-generic amd64; OpenJDK 64-Bit Server VM 1.8.0_121-8u121-b13-0ubuntu1.16.04.2-b13. \n",
      "INFO  14:00:39,683 HelpFormatter - Date/Time: 2017/04/18 14:00:39 \n",
      "INFO  14:00:39,683 HelpFormatter - -------------------------------------------------------------------------------- \n",
      "INFO  14:00:39,686 HelpFormatter - -------------------------------------------------------------------------------- \n",
      "INFO  14:00:39,702 GenomeAnalysisEngine - Strictness is SILENT \n",
      "INFO  14:00:39,776 GenomeAnalysisEngine - Downsampling Settings: Method: BY_SAMPLE, Target Coverage: 1000 \n",
      "INFO  14:00:39,914 GenomeAnalysisEngine - Preparing for traversal \n",
      "INFO  14:00:39,921 GenomeAnalysisEngine - Done preparing for traversal \n",
      "INFO  14:00:39,921 ProgressMeter - [INITIALIZATION COMPLETE; STARTING PROCESSING] \n",
      "INFO  14:00:39,921 ProgressMeter -                 | processed |    time |    per 1M |           |   total | remaining \n",
      "INFO  14:00:39,921 ProgressMeter -        Location |     sites | elapsed |     sites | completed | runtime |   runtime \n",
      "WARN  14:00:40,244 Interpreter - ![38,47]: 'QD < 2.0 || FS > 60.0 || MQ < 40.0 || MQRankSum < -1.0 || ReadPosRankSum < -8.0;' undefined variable MQRankSum \n",
      "WARN  14:00:40,261 Interpreter - ![38,47]: 'QD < 2.0 || FS > 60.0 || MQ < 40.0 || MQRankSum < -1.0 || ReadPosRankSum < -8.0;' undefined variable MQRankSum \n",
      "WARN  14:00:40,275 Interpreter - ![38,47]: 'QD < 2.0 || FS > 60.0 || MQ < 40.0 || MQRankSum < -1.0 || ReadPosRankSum < -8.0;' undefined variable MQRankSum \n",
      "WARN  14:00:40,276 Interpreter - ![38,47]: 'QD < 2.0 || FS > 60.0 || MQ < 40.0 || MQRankSum < -1.0 || ReadPosRankSum < -8.0;' undefined variable MQRankSum \n",
      "WARN  14:00:40,277 Interpreter - ![38,47]: 'QD < 2.0 || FS > 60.0 || MQ < 40.0 || MQRankSum < -1.0 || ReadPosRankSum < -8.0;' undefined variable MQRankSum \n",
      "WARN  14:00:40,277 Interpreter - ![38,47]: 'QD < 2.0 || FS > 60.0 || MQ < 40.0 || MQRankSum < -1.0 || ReadPosRankSum < -8.0;' undefined variable MQRankSum \n",
      "WARN  14:00:40,278 Interpreter - ![38,47]: 'QD < 2.0 || FS > 60.0 || MQ < 40.0 || MQRankSum < -1.0 || ReadPosRankSum < -8.0;' undefined variable MQRankSum \n",
      "WARN  14:00:40,278 Interpreter - ![38,47]: 'QD < 2.0 || FS > 60.0 || MQ < 40.0 || MQRankSum < -1.0 || ReadPosRankSum < -8.0;' undefined variable MQRankSum \n",
      "WARN  14:00:40,279 Interpreter - ![38,47]: 'QD < 2.0 || FS > 60.0 || MQ < 40.0 || MQRankSum < -1.0 || ReadPosRankSum < -8.0;' undefined variable MQRankSum \n",
      "WARN  14:00:40,280 Interpreter - ![38,47]: 'QD < 2.0 || FS > 60.0 || MQ < 40.0 || MQRankSum < -1.0 || ReadPosRankSum < -8.0;' undefined variable MQRankSum \n",
      "WARN  14:00:40,280 Interpreter - ![38,47]: 'QD < 2.0 || FS > 60.0 || MQ < 40.0 || MQRankSum < -1.0 || ReadPosRankSum < -8.0;' undefined variable MQRankSum \n",
      "WARN  14:00:40,281 Interpreter - ![38,47]: 'QD < 2.0 || FS > 60.0 || MQ < 40.0 || MQRankSum < -1.0 || ReadPosRankSum < -8.0;' undefined variable MQRankSum \n",
      "WARN  14:00:40,284 Interpreter - ![38,47]: 'QD < 2.0 || FS > 60.0 || MQ < 40.0 || MQRankSum < -1.0 || ReadPosRankSum < -8.0;' undefined variable MQRankSum \n",
      "WARN  14:00:40,288 Interpreter - ![38,47]: 'QD < 2.0 || FS > 60.0 || MQ < 40.0 || MQRankSum < -1.0 || ReadPosRankSum < -8.0;' undefined variable MQRankSum \n",
      "WARN  14:00:40,289 Interpreter - ![38,47]: 'QD < 2.0 || FS > 60.0 || MQ < 40.0 || MQRankSum < -1.0 || ReadPosRankSum < -8.0;' undefined variable MQRankSum \n",
      "WARN  14:00:40,290 Interpreter - ![38,47]: 'QD < 2.0 || FS > 60.0 || MQ < 40.0 || MQRankSum < -1.0 || ReadPosRankSum < -8.0;' undefined variable MQRankSum \n",
      "WARN  14:00:40,291 Interpreter - ![38,47]: 'QD < 2.0 || FS > 60.0 || MQ < 40.0 || MQRankSum < -1.0 || ReadPosRankSum < -8.0;' undefined variable MQRankSum \n",
      "WARN  14:00:40,294 Interpreter - ![38,47]: 'QD < 2.0 || FS > 60.0 || MQ < 40.0 || MQRankSum < -1.0 || ReadPosRankSum < -8.0;' undefined variable MQRankSum \n",
      "WARN  14:00:40,294 Interpreter - ![38,47]: 'QD < 2.0 || FS > 60.0 || MQ < 40.0 || MQRankSum < -1.0 || ReadPosRankSum < -8.0;' undefined variable MQRankSum \n",
      "WARN  14:00:40,295 Interpreter - ![38,47]: 'QD < 2.0 || FS > 60.0 || MQ < 40.0 || MQRankSum < -1.0 || ReadPosRankSum < -8.0;' undefined variable MQRankSum \n",
      "WARN  14:00:40,296 Interpreter - ![38,47]: 'QD < 2.0 || FS > 60.0 || MQ < 40.0 || MQRankSum < -1.0 || ReadPosRankSum < -8.0;' undefined variable MQRankSum \n",
      "WARN  14:00:40,297 Interpreter - ![38,47]: 'QD < 2.0 || FS > 60.0 || MQ < 40.0 || MQRankSum < -1.0 || ReadPosRankSum < -8.0;' undefined variable MQRankSum \n",
      "WARN  14:00:40,298 Interpreter - ![38,47]: 'QD < 2.0 || FS > 60.0 || MQ < 40.0 || MQRankSum < -1.0 || ReadPosRankSum < -8.0;' undefined variable MQRankSum \n",
      "WARN  14:00:40,298 Interpreter - ![38,47]: 'QD < 2.0 || FS > 60.0 || MQ < 40.0 || MQRankSum < -1.0 || ReadPosRankSum < -8.0;' undefined variable MQRankSum \n",
      "WARN  14:00:40,299 Interpreter - ![38,47]: 'QD < 2.0 || FS > 60.0 || MQ < 40.0 || MQRankSum < -1.0 || ReadPosRankSum < -8.0;' undefined variable MQRankSum \n",
      "WARN  14:00:40,300 Interpreter - ![38,47]: 'QD < 2.0 || FS > 60.0 || MQ < 40.0 || MQRankSum < -1.0 || ReadPosRankSum < -8.0;' undefined variable MQRankSum \n",
      "WARN  14:00:40,301 Interpreter - ![38,47]: 'QD < 2.0 || FS > 60.0 || MQ < 40.0 || MQRankSum < -1.0 || ReadPosRankSum < -8.0;' undefined variable MQRankSum \n",
      "WARN  14:00:40,302 Interpreter - ![38,47]: 'QD < 2.0 || FS > 60.0 || MQ < 40.0 || MQRankSum < -1.0 || ReadPosRankSum < -8.0;' undefined variable MQRankSum \n",
      "WARN  14:00:40,305 Interpreter - ![38,47]: 'QD < 2.0 || FS > 60.0 || MQ < 40.0 || MQRankSum < -1.0 || ReadPosRankSum < -8.0;' undefined variable MQRankSum \n",
      "WARN  14:00:40,306 Interpreter - ![38,47]: 'QD < 2.0 || FS > 60.0 || MQ < 40.0 || MQRankSum < -1.0 || ReadPosRankSum < -8.0;' undefined variable MQRankSum \n",
      "WARN  14:00:40,307 Interpreter - ![38,47]: 'QD < 2.0 || FS > 60.0 || MQ < 40.0 || MQRankSum < -1.0 || ReadPosRankSum < -8.0;' undefined variable MQRankSum \n",
      "WARN  14:00:40,308 Interpreter - ![38,47]: 'QD < 2.0 || FS > 60.0 || MQ < 40.0 || MQRankSum < -1.0 || ReadPosRankSum < -8.0;' undefined variable MQRankSum \n",
      "WARN  14:00:40,308 Interpreter - ![38,47]: 'QD < 2.0 || FS > 60.0 || MQ < 40.0 || MQRankSum < -1.0 || ReadPosRankSum < -8.0;' undefined variable MQRankSum \n",
      "WARN  14:00:40,309 Interpreter - ![38,47]: 'QD < 2.0 || FS > 60.0 || MQ < 40.0 || MQRankSum < -1.0 || ReadPosRankSum < -8.0;' undefined variable MQRankSum \n",
      "WARN  14:00:40,311 Interpreter - ![38,47]: 'QD < 2.0 || FS > 60.0 || MQ < 40.0 || MQRankSum < -1.0 || ReadPosRankSum < -8.0;' undefined variable MQRankSum \n",
      "WARN  14:00:40,312 Interpreter - ![38,47]: 'QD < 2.0 || FS > 60.0 || MQ < 40.0 || MQRankSum < -1.0 || ReadPosRankSum < -8.0;' undefined variable MQRankSum \n",
      "WARN  14:00:40,312 Interpreter - ![38,47]: 'QD < 2.0 || FS > 60.0 || MQ < 40.0 || MQRankSum < -1.0 || ReadPosRankSum < -8.0;' undefined variable MQRankSum \n",
      "WARN  14:00:40,313 Interpreter - ![38,47]: 'QD < 2.0 || FS > 60.0 || MQ < 40.0 || MQRankSum < -1.0 || ReadPosRankSum < -8.0;' undefined variable MQRankSum \n",
      "WARN  14:00:40,314 Interpreter - ![38,47]: 'QD < 2.0 || FS > 60.0 || MQ < 40.0 || MQRankSum < -1.0 || ReadPosRankSum < -8.0;' undefined variable MQRankSum \n",
      "WARN  14:00:40,315 Interpreter - ![38,47]: 'QD < 2.0 || FS > 60.0 || MQ < 40.0 || MQRankSum < -1.0 || ReadPosRankSum < -8.0;' undefined variable MQRankSum \n",
      "WARN  14:00:40,316 Interpreter - ![38,47]: 'QD < 2.0 || FS > 60.0 || MQ < 40.0 || MQRankSum < -1.0 || ReadPosRankSum < -8.0;' undefined variable MQRankSum \n",
      "WARN  14:00:40,317 Interpreter - ![38,47]: 'QD < 2.0 || FS > 60.0 || MQ < 40.0 || MQRankSum < -1.0 || ReadPosRankSum < -8.0;' undefined variable MQRankSum \n",
      "WARN  14:00:40,318 Interpreter - ![38,47]: 'QD < 2.0 || FS > 60.0 || MQ < 40.0 || MQRankSum < -1.0 || ReadPosRankSum < -8.0;' undefined variable MQRankSum \n",
      "WARN  14:00:40,319 Interpreter - ![38,47]: 'QD < 2.0 || FS > 60.0 || MQ < 40.0 || MQRankSum < -1.0 || ReadPosRankSum < -8.0;' undefined variable MQRankSum \n",
      "WARN  14:00:40,320 Interpreter - ![38,47]: 'QD < 2.0 || FS > 60.0 || MQ < 40.0 || MQRankSum < -1.0 || ReadPosRankSum < -8.0;' undefined variable MQRankSum \n",
      "WARN  14:00:40,325 Interpreter - ![38,47]: 'QD < 2.0 || FS > 60.0 || MQ < 40.0 || MQRankSum < -1.0 || ReadPosRankSum < -8.0;' undefined variable MQRankSum \n",
      "WARN  14:00:40,326 Interpreter - ![38,47]: 'QD < 2.0 || FS > 60.0 || MQ < 40.0 || MQRankSum < -1.0 || ReadPosRankSum < -8.0;' undefined variable MQRankSum \n",
      "WARN  14:00:40,326 Interpreter - ![38,47]: 'QD < 2.0 || FS > 60.0 || MQ < 40.0 || MQRankSum < -1.0 || ReadPosRankSum < -8.0;' undefined variable MQRankSum \n",
      "WARN  14:00:40,326 Interpreter - ![38,47]: 'QD < 2.0 || FS > 60.0 || MQ < 40.0 || MQRankSum < -1.0 || ReadPosRankSum < -8.0;' undefined variable MQRankSum \n",
      "WARN  14:00:40,327 Interpreter - ![38,47]: 'QD < 2.0 || FS > 60.0 || MQ < 40.0 || MQRankSum < -1.0 || ReadPosRankSum < -8.0;' undefined variable MQRankSum \n",
      "WARN  14:00:40,327 Interpreter - ![38,47]: 'QD < 2.0 || FS > 60.0 || MQ < 40.0 || MQRankSum < -1.0 || ReadPosRankSum < -8.0;' undefined variable MQRankSum \n",
      "WARN  14:00:40,328 Interpreter - ![38,47]: 'QD < 2.0 || FS > 60.0 || MQ < 40.0 || MQRankSum < -1.0 || ReadPosRankSum < -8.0;' undefined variable MQRankSum \n",
      "WARN  14:00:40,328 Interpreter - ![38,47]: 'QD < 2.0 || FS > 60.0 || MQ < 40.0 || MQRankSum < -1.0 || ReadPosRankSum < -8.0;' undefined variable MQRankSum \n",
      "WARN  14:00:40,329 Interpreter - ![38,47]: 'QD < 2.0 || FS > 60.0 || MQ < 40.0 || MQRankSum < -1.0 || ReadPosRankSum < -8.0;' undefined variable MQRankSum \n",
      "WARN  14:00:40,329 Interpreter - ![38,47]: 'QD < 2.0 || FS > 60.0 || MQ < 40.0 || MQRankSum < -1.0 || ReadPosRankSum < -8.0;' undefined variable MQRankSum \n",
      "WARN  14:00:40,331 Interpreter - ![38,47]: 'QD < 2.0 || FS > 60.0 || MQ < 40.0 || MQRankSum < -1.0 || ReadPosRankSum < -8.0;' undefined variable MQRankSum \n",
      "WARN  14:00:40,335 Interpreter - ![38,47]: 'QD < 2.0 || FS > 60.0 || MQ < 40.0 || MQRankSum < -1.0 || ReadPosRankSum < -8.0;' undefined variable MQRankSum \n",
      "WARN  14:00:40,338 Interpreter - ![38,47]: 'QD < 2.0 || FS > 60.0 || MQ < 40.0 || MQRankSum < -1.0 || ReadPosRankSum < -8.0;' undefined variable MQRankSum \n",
      "WARN  14:00:40,339 Interpreter - ![38,47]: 'QD < 2.0 || FS > 60.0 || MQ < 40.0 || MQRankSum < -1.0 || ReadPosRankSum < -8.0;' undefined variable MQRankSum \n",
      "WARN  14:00:40,339 Interpreter - ![38,47]: 'QD < 2.0 || FS > 60.0 || MQ < 40.0 || MQRankSum < -1.0 || ReadPosRankSum < -8.0;' undefined variable MQRankSum \n",
      "WARN  14:00:40,340 Interpreter - ![38,47]: 'QD < 2.0 || FS > 60.0 || MQ < 40.0 || MQRankSum < -1.0 || ReadPosRankSum < -8.0;' undefined variable MQRankSum \n",
      "WARN  14:00:40,340 Interpreter - ![38,47]: 'QD < 2.0 || FS > 60.0 || MQ < 40.0 || MQRankSum < -1.0 || ReadPosRankSum < -8.0;' undefined variable MQRankSum \n",
      "WARN  14:00:40,341 Interpreter - ![38,47]: 'QD < 2.0 || FS > 60.0 || MQ < 40.0 || MQRankSum < -1.0 || ReadPosRankSum < -8.0;' undefined variable MQRankSum \n",
      "WARN  14:00:40,341 Interpreter - ![38,47]: 'QD < 2.0 || FS > 60.0 || MQ < 40.0 || MQRankSum < -1.0 || ReadPosRankSum < -8.0;' undefined variable MQRankSum \n",
      "WARN  14:00:40,342 Interpreter - ![38,47]: 'QD < 2.0 || FS > 60.0 || MQ < 40.0 || MQRankSum < -1.0 || ReadPosRankSum < -8.0;' undefined variable MQRankSum \n",
      "WARN  14:00:40,342 Interpreter - ![38,47]: 'QD < 2.0 || FS > 60.0 || MQ < 40.0 || MQRankSum < -1.0 || ReadPosRankSum < -8.0;' undefined variable MQRankSum \n",
      "WARN  14:00:40,342 Interpreter - ![38,47]: 'QD < 2.0 || FS > 60.0 || MQ < 40.0 || MQRankSum < -1.0 || ReadPosRankSum < -8.0;' undefined variable MQRankSum \n",
      "WARN  14:00:40,343 Interpreter - ![38,47]: 'QD < 2.0 || FS > 60.0 || MQ < 40.0 || MQRankSum < -1.0 || ReadPosRankSum < -8.0;' undefined variable MQRankSum \n",
      "WARN  14:00:40,343 Interpreter - ![38,47]: 'QD < 2.0 || FS > 60.0 || MQ < 40.0 || MQRankSum < -1.0 || ReadPosRankSum < -8.0;' undefined variable MQRankSum \n",
      "WARN  14:00:40,371 Interpreter - ![38,47]: 'QD < 2.0 || FS > 60.0 || MQ < 40.0 || MQRankSum < -1.0 || ReadPosRankSum < -8.0;' undefined variable MQRankSum \n",
      "WARN  14:00:40,371 Interpreter - ![38,47]: 'QD < 2.0 || FS > 60.0 || MQ < 40.0 || MQRankSum < -1.0 || ReadPosRankSum < -8.0;' undefined variable MQRankSum \n",
      "WARN  14:00:40,372 Interpreter - ![38,47]: 'QD < 2.0 || FS > 60.0 || MQ < 40.0 || MQRankSum < -1.0 || ReadPosRankSum < -8.0;' undefined variable MQRankSum \n",
      "WARN  14:00:40,372 Interpreter - ![38,47]: 'QD < 2.0 || FS > 60.0 || MQ < 40.0 || MQRankSum < -1.0 || ReadPosRankSum < -8.0;' undefined variable MQRankSum \n",
      "WARN  14:00:40,373 Interpreter - ![38,47]: 'QD < 2.0 || FS > 60.0 || MQ < 40.0 || MQRankSum < -1.0 || ReadPosRankSum < -8.0;' undefined variable MQRankSum \n",
      "WARN  14:00:40,374 Interpreter - ![38,47]: 'QD < 2.0 || FS > 60.0 || MQ < 40.0 || MQRankSum < -1.0 || ReadPosRankSum < -8.0;' undefined variable MQRankSum \n",
      "WARN  14:00:40,375 Interpreter - ![38,47]: 'QD < 2.0 || FS > 60.0 || MQ < 40.0 || MQRankSum < -1.0 || ReadPosRankSum < -8.0;' undefined variable MQRankSum \n",
      "WARN  14:00:40,375 Interpreter - ![38,47]: 'QD < 2.0 || FS > 60.0 || MQ < 40.0 || MQRankSum < -1.0 || ReadPosRankSum < -8.0;' undefined variable MQRankSum \n",
      "WARN  14:00:40,375 Interpreter - ![38,47]: 'QD < 2.0 || FS > 60.0 || MQ < 40.0 || MQRankSum < -1.0 || ReadPosRankSum < -8.0;' undefined variable MQRankSum \n",
      "WARN  14:00:40,377 Interpreter - ![38,47]: 'QD < 2.0 || FS > 60.0 || MQ < 40.0 || MQRankSum < -1.0 || ReadPosRankSum < -8.0;' undefined variable MQRankSum \n",
      "WARN  14:00:40,377 Interpreter - ![38,47]: 'QD < 2.0 || FS > 60.0 || MQ < 40.0 || MQRankSum < -1.0 || ReadPosRankSum < -8.0;' undefined variable MQRankSum \n",
      "WARN  14:00:40,383 Interpreter - ![38,47]: 'QD < 2.0 || FS > 60.0 || MQ < 40.0 || MQRankSum < -1.0 || ReadPosRankSum < -8.0;' undefined variable MQRankSum \n",
      "WARN  14:00:40,385 Interpreter - ![38,47]: 'QD < 2.0 || FS > 60.0 || MQ < 40.0 || MQRankSum < -1.0 || ReadPosRankSum < -8.0;' undefined variable MQRankSum \n",
      "WARN  14:00:40,386 Interpreter - ![38,47]: 'QD < 2.0 || FS > 60.0 || MQ < 40.0 || MQRankSum < -1.0 || ReadPosRankSum < -8.0;' undefined variable MQRankSum \n",
      "WARN  14:00:40,389 Interpreter - ![38,47]: 'QD < 2.0 || FS > 60.0 || MQ < 40.0 || MQRankSum < -1.0 || ReadPosRankSum < -8.0;' undefined variable MQRankSum \n",
      "WARN  14:00:40,391 Interpreter - ![38,47]: 'QD < 2.0 || FS > 60.0 || MQ < 40.0 || MQRankSum < -1.0 || ReadPosRankSum < -8.0;' undefined variable MQRankSum \n",
      "WARN  14:00:40,392 Interpreter - ![38,47]: 'QD < 2.0 || FS > 60.0 || MQ < 40.0 || MQRankSum < -1.0 || ReadPosRankSum < -8.0;' undefined variable MQRankSum \n",
      "WARN  14:00:40,393 Interpreter - ![38,47]: 'QD < 2.0 || FS > 60.0 || MQ < 40.0 || MQRankSum < -1.0 || ReadPosRankSum < -8.0;' undefined variable MQRankSum \n",
      "WARN  14:00:40,396 Interpreter - ![38,47]: 'QD < 2.0 || FS > 60.0 || MQ < 40.0 || MQRankSum < -1.0 || ReadPosRankSum < -8.0;' undefined variable MQRankSum \n",
      "WARN  14:00:40,398 Interpreter - ![38,47]: 'QD < 2.0 || FS > 60.0 || MQ < 40.0 || MQRankSum < -1.0 || ReadPosRankSum < -8.0;' undefined variable MQRankSum \n",
      "WARN  14:00:40,407 Interpreter - ![38,47]: 'QD < 2.0 || FS > 60.0 || MQ < 40.0 || MQRankSum < -1.0 || ReadPosRankSum < -8.0;' undefined variable MQRankSum \n",
      "WARN  14:00:40,412 Interpreter - ![38,47]: 'QD < 2.0 || FS > 60.0 || MQ < 40.0 || MQRankSum < -1.0 || ReadPosRankSum < -8.0;' undefined variable MQRankSum \n",
      "WARN  14:00:40,412 Interpreter - ![38,47]: 'QD < 2.0 || FS > 60.0 || MQ < 40.0 || MQRankSum < -1.0 || ReadPosRankSum < -8.0;' undefined variable MQRankSum \n",
      "WARN  14:00:40,413 Interpreter - ![38,47]: 'QD < 2.0 || FS > 60.0 || MQ < 40.0 || MQRankSum < -1.0 || ReadPosRankSum < -8.0;' undefined variable MQRankSum \n",
      "WARN  14:00:40,417 Interpreter - ![38,47]: 'QD < 2.0 || FS > 60.0 || MQ < 40.0 || MQRankSum < -1.0 || ReadPosRankSum < -8.0;' undefined variable MQRankSum \n",
      "WARN  14:00:40,417 Interpreter - ![38,47]: 'QD < 2.0 || FS > 60.0 || MQ < 40.0 || MQRankSum < -1.0 || ReadPosRankSum < -8.0;' undefined variable MQRankSum \n",
      "WARN  14:00:40,418 Interpreter - ![38,47]: 'QD < 2.0 || FS > 60.0 || MQ < 40.0 || MQRankSum < -1.0 || ReadPosRankSum < -8.0;' undefined variable MQRankSum \n",
      "WARN  14:00:40,419 Interpreter - ![38,47]: 'QD < 2.0 || FS > 60.0 || MQ < 40.0 || MQRankSum < -1.0 || ReadPosRankSum < -8.0;' undefined variable MQRankSum \n",
      "WARN  14:00:40,421 Interpreter - ![38,47]: 'QD < 2.0 || FS > 60.0 || MQ < 40.0 || MQRankSum < -1.0 || ReadPosRankSum < -8.0;' undefined variable MQRankSum \n",
      "WARN  14:00:40,421 Interpreter - ![38,47]: 'QD < 2.0 || FS > 60.0 || MQ < 40.0 || MQRankSum < -1.0 || ReadPosRankSum < -8.0;' undefined variable MQRankSum \n",
      "WARN  14:00:40,430 Interpreter - ![38,47]: 'QD < 2.0 || FS > 60.0 || MQ < 40.0 || MQRankSum < -1.0 || ReadPosRankSum < -8.0;' undefined variable MQRankSum \n",
      "WARN  14:00:40,430 Interpreter - ![38,47]: 'QD < 2.0 || FS > 60.0 || MQ < 40.0 || MQRankSum < -1.0 || ReadPosRankSum < -8.0;' undefined variable MQRankSum \n",
      "WARN  14:00:40,431 Interpreter - ![38,47]: 'QD < 2.0 || FS > 60.0 || MQ < 40.0 || MQRankSum < -1.0 || ReadPosRankSum < -8.0;' undefined variable MQRankSum \n",
      "WARN  14:00:40,432 Interpreter - ![38,47]: 'QD < 2.0 || FS > 60.0 || MQ < 40.0 || MQRankSum < -1.0 || ReadPosRankSum < -8.0;' undefined variable MQRankSum \n",
      "WARN  14:00:40,432 Interpreter - ![38,47]: 'QD < 2.0 || FS > 60.0 || MQ < 40.0 || MQRankSum < -1.0 || ReadPosRankSum < -8.0;' undefined variable MQRankSum \n",
      "WARN  14:00:40,433 Interpreter - ![38,47]: 'QD < 2.0 || FS > 60.0 || MQ < 40.0 || MQRankSum < -1.0 || ReadPosRankSum < -8.0;' undefined variable MQRankSum \n",
      "WARN  14:00:40,434 Interpreter - ![38,47]: 'QD < 2.0 || FS > 60.0 || MQ < 40.0 || MQRankSum < -1.0 || ReadPosRankSum < -8.0;' undefined variable MQRankSum \n",
      "WARN  14:00:40,435 Interpreter - ![38,47]: 'QD < 2.0 || FS > 60.0 || MQ < 40.0 || MQRankSum < -1.0 || ReadPosRankSum < -8.0;' undefined variable MQRankSum \n",
      "WARN  14:00:40,435 Interpreter - ![38,47]: 'QD < 2.0 || FS > 60.0 || MQ < 40.0 || MQRankSum < -1.0 || ReadPosRankSum < -8.0;' undefined variable MQRankSum \n",
      "WARN  14:00:40,435 Interpreter - ![38,47]: 'QD < 2.0 || FS > 60.0 || MQ < 40.0 || MQRankSum < -1.0 || ReadPosRankSum < -8.0;' undefined variable MQRankSum \n",
      "WARN  14:00:40,436 Interpreter - ![38,47]: 'QD < 2.0 || FS > 60.0 || MQ < 40.0 || MQRankSum < -1.0 || ReadPosRankSum < -8.0;' undefined variable MQRankSum \n",
      "WARN  14:00:40,436 Interpreter - ![38,47]: 'QD < 2.0 || FS > 60.0 || MQ < 40.0 || MQRankSum < -1.0 || ReadPosRankSum < -8.0;' undefined variable MQRankSum \n",
      "WARN  14:00:40,437 Interpreter - ![38,47]: 'QD < 2.0 || FS > 60.0 || MQ < 40.0 || MQRankSum < -1.0 || ReadPosRankSum < -8.0;' undefined variable MQRankSum \n",
      "WARN  14:00:40,437 Interpreter - ![38,47]: 'QD < 2.0 || FS > 60.0 || MQ < 40.0 || MQRankSum < -1.0 || ReadPosRankSum < -8.0;' undefined variable MQRankSum \n",
      "WARN  14:00:40,439 Interpreter - ![38,47]: 'QD < 2.0 || FS > 60.0 || MQ < 40.0 || MQRankSum < -1.0 || ReadPosRankSum < -8.0;' undefined variable MQRankSum \n",
      "WARN  14:00:40,440 Interpreter - ![38,47]: 'QD < 2.0 || FS > 60.0 || MQ < 40.0 || MQRankSum < -1.0 || ReadPosRankSum < -8.0;' undefined variable MQRankSum \n",
      "WARN  14:00:40,440 Interpreter - ![38,47]: 'QD < 2.0 || FS > 60.0 || MQ < 40.0 || MQRankSum < -1.0 || ReadPosRankSum < -8.0;' undefined variable MQRankSum \n",
      "WARN  14:00:40,441 Interpreter - ![38,47]: 'QD < 2.0 || FS > 60.0 || MQ < 40.0 || MQRankSum < -1.0 || ReadPosRankSum < -8.0;' undefined variable MQRankSum \n",
      "WARN  14:00:40,443 Interpreter - ![38,47]: 'QD < 2.0 || FS > 60.0 || MQ < 40.0 || MQRankSum < -1.0 || ReadPosRankSum < -8.0;' undefined variable MQRankSum \n",
      "WARN  14:00:40,478 Interpreter - ![38,47]: 'QD < 2.0 || FS > 60.0 || MQ < 40.0 || MQRankSum < -1.0 || ReadPosRankSum < -8.0;' undefined variable MQRankSum \n",
      "WARN  14:00:40,478 Interpreter - ![38,47]: 'QD < 2.0 || FS > 60.0 || MQ < 40.0 || MQRankSum < -1.0 || ReadPosRankSum < -8.0;' undefined variable MQRankSum \n",
      "WARN  14:00:40,479 Interpreter - ![38,47]: 'QD < 2.0 || FS > 60.0 || MQ < 40.0 || MQRankSum < -1.0 || ReadPosRankSum < -8.0;' undefined variable MQRankSum \n",
      "WARN  14:00:40,479 Interpreter - ![38,47]: 'QD < 2.0 || FS > 60.0 || MQ < 40.0 || MQRankSum < -1.0 || ReadPosRankSum < -8.0;' undefined variable MQRankSum \n",
      "WARN  14:00:40,480 Interpreter - ![38,47]: 'QD < 2.0 || FS > 60.0 || MQ < 40.0 || MQRankSum < -1.0 || ReadPosRankSum < -8.0;' undefined variable MQRankSum \n",
      "WARN  14:00:40,482 Interpreter - ![38,47]: 'QD < 2.0 || FS > 60.0 || MQ < 40.0 || MQRankSum < -1.0 || ReadPosRankSum < -8.0;' undefined variable MQRankSum \n",
      "WARN  14:00:40,484 Interpreter - ![38,47]: 'QD < 2.0 || FS > 60.0 || MQ < 40.0 || MQRankSum < -1.0 || ReadPosRankSum < -8.0;' undefined variable MQRankSum \n",
      "WARN  14:00:40,484 Interpreter - ![38,47]: 'QD < 2.0 || FS > 60.0 || MQ < 40.0 || MQRankSum < -1.0 || ReadPosRankSum < -8.0;' undefined variable MQRankSum \n",
      "WARN  14:00:40,485 Interpreter - ![38,47]: 'QD < 2.0 || FS > 60.0 || MQ < 40.0 || MQRankSum < -1.0 || ReadPosRankSum < -8.0;' undefined variable MQRankSum \n",
      "WARN  14:00:40,486 Interpreter - ![38,47]: 'QD < 2.0 || FS > 60.0 || MQ < 40.0 || MQRankSum < -1.0 || ReadPosRankSum < -8.0;' undefined variable MQRankSum \n",
      "WARN  14:00:40,487 Interpreter - ![38,47]: 'QD < 2.0 || FS > 60.0 || MQ < 40.0 || MQRankSum < -1.0 || ReadPosRankSum < -8.0;' undefined variable MQRankSum \n",
      "WARN  14:00:40,487 Interpreter - ![38,47]: 'QD < 2.0 || FS > 60.0 || MQ < 40.0 || MQRankSum < -1.0 || ReadPosRankSum < -8.0;' undefined variable MQRankSum \n",
      "WARN  14:00:40,488 Interpreter - ![38,47]: 'QD < 2.0 || FS > 60.0 || MQ < 40.0 || MQRankSum < -1.0 || ReadPosRankSum < -8.0;' undefined variable MQRankSum \n",
      "WARN  14:00:40,489 Interpreter - ![38,47]: 'QD < 2.0 || FS > 60.0 || MQ < 40.0 || MQRankSum < -1.0 || ReadPosRankSum < -8.0;' undefined variable MQRankSum \n",
      "WARN  14:00:40,490 Interpreter - ![38,47]: 'QD < 2.0 || FS > 60.0 || MQ < 40.0 || MQRankSum < -1.0 || ReadPosRankSum < -8.0;' undefined variable MQRankSum \n",
      "WARN  14:00:40,490 Interpreter - ![38,47]: 'QD < 2.0 || FS > 60.0 || MQ < 40.0 || MQRankSum < -1.0 || ReadPosRankSum < -8.0;' undefined variable MQRankSum \n",
      "WARN  14:00:40,492 Interpreter - ![38,47]: 'QD < 2.0 || FS > 60.0 || MQ < 40.0 || MQRankSum < -1.0 || ReadPosRankSum < -8.0;' undefined variable MQRankSum \n",
      "WARN  14:00:40,493 Interpreter - ![38,47]: 'QD < 2.0 || FS > 60.0 || MQ < 40.0 || MQRankSum < -1.0 || ReadPosRankSum < -8.0;' undefined variable MQRankSum \n",
      "WARN  14:00:40,493 Interpreter - ![38,47]: 'QD < 2.0 || FS > 60.0 || MQ < 40.0 || MQRankSum < -1.0 || ReadPosRankSum < -8.0;' undefined variable MQRankSum \n",
      "WARN  14:00:40,493 Interpreter - ![38,47]: 'QD < 2.0 || FS > 60.0 || MQ < 40.0 || MQRankSum < -1.0 || ReadPosRankSum < -8.0;' undefined variable MQRankSum \n",
      "WARN  14:00:40,495 Interpreter - ![38,47]: 'QD < 2.0 || FS > 60.0 || MQ < 40.0 || MQRankSum < -1.0 || ReadPosRankSum < -8.0;' undefined variable MQRankSum \n",
      "WARN  14:00:40,501 Interpreter - ![38,47]: 'QD < 2.0 || FS > 60.0 || MQ < 40.0 || MQRankSum < -1.0 || ReadPosRankSum < -8.0;' undefined variable MQRankSum \n",
      "WARN  14:00:40,504 Interpreter - ![38,47]: 'QD < 2.0 || FS > 60.0 || MQ < 40.0 || MQRankSum < -1.0 || ReadPosRankSum < -8.0;' undefined variable MQRankSum \n",
      "WARN  14:00:40,505 Interpreter - ![38,47]: 'QD < 2.0 || FS > 60.0 || MQ < 40.0 || MQRankSum < -1.0 || ReadPosRankSum < -8.0;' undefined variable MQRankSum \n",
      "WARN  14:00:40,505 Interpreter - ![38,47]: 'QD < 2.0 || FS > 60.0 || MQ < 40.0 || MQRankSum < -1.0 || ReadPosRankSum < -8.0;' undefined variable MQRankSum \n",
      "WARN  14:00:40,508 Interpreter - ![38,47]: 'QD < 2.0 || FS > 60.0 || MQ < 40.0 || MQRankSum < -1.0 || ReadPosRankSum < -8.0;' undefined variable MQRankSum \n",
      "WARN  14:00:40,509 Interpreter - ![38,47]: 'QD < 2.0 || FS > 60.0 || MQ < 40.0 || MQRankSum < -1.0 || ReadPosRankSum < -8.0;' undefined variable MQRankSum \n",
      "WARN  14:00:40,509 Interpreter - ![38,47]: 'QD < 2.0 || FS > 60.0 || MQ < 40.0 || MQRankSum < -1.0 || ReadPosRankSum < -8.0;' undefined variable MQRankSum \n",
      "WARN  14:00:40,509 Interpreter - ![38,47]: 'QD < 2.0 || FS > 60.0 || MQ < 40.0 || MQRankSum < -1.0 || ReadPosRankSum < -8.0;' undefined variable MQRankSum \n",
      "WARN  14:00:40,510 Interpreter - ![38,47]: 'QD < 2.0 || FS > 60.0 || MQ < 40.0 || MQRankSum < -1.0 || ReadPosRankSum < -8.0;' undefined variable MQRankSum \n",
      "WARN  14:00:40,510 Interpreter - ![38,47]: 'QD < 2.0 || FS > 60.0 || MQ < 40.0 || MQRankSum < -1.0 || ReadPosRankSum < -8.0;' undefined variable MQRankSum \n",
      "WARN  14:00:40,510 Interpreter - ![38,47]: 'QD < 2.0 || FS > 60.0 || MQ < 40.0 || MQRankSum < -1.0 || ReadPosRankSum < -8.0;' undefined variable MQRankSum \n",
      "WARN  14:00:40,511 Interpreter - ![38,47]: 'QD < 2.0 || FS > 60.0 || MQ < 40.0 || MQRankSum < -1.0 || ReadPosRankSum < -8.0;' undefined variable MQRankSum \n",
      "WARN  14:00:40,511 Interpreter - ![38,47]: 'QD < 2.0 || FS > 60.0 || MQ < 40.0 || MQRankSum < -1.0 || ReadPosRankSum < -8.0;' undefined variable MQRankSum \n",
      "WARN  14:00:40,512 Interpreter - ![38,47]: 'QD < 2.0 || FS > 60.0 || MQ < 40.0 || MQRankSum < -1.0 || ReadPosRankSum < -8.0;' undefined variable MQRankSum \n",
      "WARN  14:00:40,513 Interpreter - ![38,47]: 'QD < 2.0 || FS > 60.0 || MQ < 40.0 || MQRankSum < -1.0 || ReadPosRankSum < -8.0;' undefined variable MQRankSum \n",
      "WARN  14:00:40,513 Interpreter - ![38,47]: 'QD < 2.0 || FS > 60.0 || MQ < 40.0 || MQRankSum < -1.0 || ReadPosRankSum < -8.0;' undefined variable MQRankSum \n",
      "WARN  14:00:40,513 Interpreter - ![38,47]: 'QD < 2.0 || FS > 60.0 || MQ < 40.0 || MQRankSum < -1.0 || ReadPosRankSum < -8.0;' undefined variable MQRankSum \n",
      "WARN  14:00:40,514 Interpreter - ![38,47]: 'QD < 2.0 || FS > 60.0 || MQ < 40.0 || MQRankSum < -1.0 || ReadPosRankSum < -8.0;' undefined variable MQRankSum \n",
      "WARN  14:00:40,514 Interpreter - ![38,47]: 'QD < 2.0 || FS > 60.0 || MQ < 40.0 || MQRankSum < -1.0 || ReadPosRankSum < -8.0;' undefined variable MQRankSum \n",
      "WARN  14:00:40,515 Interpreter - ![38,47]: 'QD < 2.0 || FS > 60.0 || MQ < 40.0 || MQRankSum < -1.0 || ReadPosRankSum < -8.0;' undefined variable MQRankSum \n",
      "WARN  14:00:40,516 Interpreter - ![38,47]: 'QD < 2.0 || FS > 60.0 || MQ < 40.0 || MQRankSum < -1.0 || ReadPosRankSum < -8.0;' undefined variable MQRankSum \n",
      "WARN  14:00:40,516 Interpreter - ![38,47]: 'QD < 2.0 || FS > 60.0 || MQ < 40.0 || MQRankSum < -1.0 || ReadPosRankSum < -8.0;' undefined variable MQRankSum \n",
      "WARN  14:00:40,517 Interpreter - ![38,47]: 'QD < 2.0 || FS > 60.0 || MQ < 40.0 || MQRankSum < -1.0 || ReadPosRankSum < -8.0;' undefined variable MQRankSum \n",
      "WARN  14:00:40,517 Interpreter - ![38,47]: 'QD < 2.0 || FS > 60.0 || MQ < 40.0 || MQRankSum < -1.0 || ReadPosRankSum < -8.0;' undefined variable MQRankSum \n",
      "WARN  14:00:40,518 Interpreter - ![38,47]: 'QD < 2.0 || FS > 60.0 || MQ < 40.0 || MQRankSum < -1.0 || ReadPosRankSum < -8.0;' undefined variable MQRankSum \n",
      "WARN  14:00:40,519 Interpreter - ![38,47]: 'QD < 2.0 || FS > 60.0 || MQ < 40.0 || MQRankSum < -1.0 || ReadPosRankSum < -8.0;' undefined variable MQRankSum \n",
      "WARN  14:00:40,519 Interpreter - ![38,47]: 'QD < 2.0 || FS > 60.0 || MQ < 40.0 || MQRankSum < -1.0 || ReadPosRankSum < -8.0;' undefined variable MQRankSum \n",
      "WARN  14:00:40,519 Interpreter - ![38,47]: 'QD < 2.0 || FS > 60.0 || MQ < 40.0 || MQRankSum < -1.0 || ReadPosRankSum < -8.0;' undefined variable MQRankSum \n",
      "WARN  14:00:40,520 Interpreter - ![38,47]: 'QD < 2.0 || FS > 60.0 || MQ < 40.0 || MQRankSum < -1.0 || ReadPosRankSum < -8.0;' undefined variable MQRankSum \n",
      "WARN  14:00:40,520 Interpreter - ![38,47]: 'QD < 2.0 || FS > 60.0 || MQ < 40.0 || MQRankSum < -1.0 || ReadPosRankSum < -8.0;' undefined variable MQRankSum \n",
      "WARN  14:00:40,521 Interpreter - ![38,47]: 'QD < 2.0 || FS > 60.0 || MQ < 40.0 || MQRankSum < -1.0 || ReadPosRankSum < -8.0;' undefined variable MQRankSum \n",
      "WARN  14:00:40,521 Interpreter - ![38,47]: 'QD < 2.0 || FS > 60.0 || MQ < 40.0 || MQRankSum < -1.0 || ReadPosRankSum < -8.0;' undefined variable MQRankSum \n",
      "WARN  14:00:40,522 Interpreter - ![38,47]: 'QD < 2.0 || FS > 60.0 || MQ < 40.0 || MQRankSum < -1.0 || ReadPosRankSum < -8.0;' undefined variable MQRankSum \n",
      "WARN  14:00:40,522 Interpreter - ![38,47]: 'QD < 2.0 || FS > 60.0 || MQ < 40.0 || MQRankSum < -1.0 || ReadPosRankSum < -8.0;' undefined variable MQRankSum \n",
      "WARN  14:00:40,523 Interpreter - ![38,47]: 'QD < 2.0 || FS > 60.0 || MQ < 40.0 || MQRankSum < -1.0 || ReadPosRankSum < -8.0;' undefined variable MQRankSum \n",
      "WARN  14:00:40,525 Interpreter - ![38,47]: 'QD < 2.0 || FS > 60.0 || MQ < 40.0 || MQRankSum < -1.0 || ReadPosRankSum < -8.0;' undefined variable MQRankSum \n",
      "WARN  14:00:40,525 Interpreter - ![38,47]: 'QD < 2.0 || FS > 60.0 || MQ < 40.0 || MQRankSum < -1.0 || ReadPosRankSum < -8.0;' undefined variable MQRankSum \n",
      "WARN  14:00:40,526 Interpreter - ![38,47]: 'QD < 2.0 || FS > 60.0 || MQ < 40.0 || MQRankSum < -1.0 || ReadPosRankSum < -8.0;' undefined variable MQRankSum \n",
      "WARN  14:00:40,526 Interpreter - ![38,47]: 'QD < 2.0 || FS > 60.0 || MQ < 40.0 || MQRankSum < -1.0 || ReadPosRankSum < -8.0;' undefined variable MQRankSum \n",
      "WARN  14:00:40,527 Interpreter - ![38,47]: 'QD < 2.0 || FS > 60.0 || MQ < 40.0 || MQRankSum < -1.0 || ReadPosRankSum < -8.0;' undefined variable MQRankSum \n",
      "WARN  14:00:40,527 Interpreter - ![38,47]: 'QD < 2.0 || FS > 60.0 || MQ < 40.0 || MQRankSum < -1.0 || ReadPosRankSum < -8.0;' undefined variable MQRankSum \n",
      "WARN  14:00:40,527 Interpreter - ![38,47]: 'QD < 2.0 || FS > 60.0 || MQ < 40.0 || MQRankSum < -1.0 || ReadPosRankSum < -8.0;' undefined variable MQRankSum \n",
      "WARN  14:00:40,528 Interpreter - ![38,47]: 'QD < 2.0 || FS > 60.0 || MQ < 40.0 || MQRankSum < -1.0 || ReadPosRankSum < -8.0;' undefined variable MQRankSum \n",
      "WARN  14:00:40,531 Interpreter - ![38,47]: 'QD < 2.0 || FS > 60.0 || MQ < 40.0 || MQRankSum < -1.0 || ReadPosRankSum < -8.0;' undefined variable MQRankSum \n",
      "WARN  14:00:40,532 Interpreter - ![38,47]: 'QD < 2.0 || FS > 60.0 || MQ < 40.0 || MQRankSum < -1.0 || ReadPosRankSum < -8.0;' undefined variable MQRankSum \n",
      "WARN  14:00:40,532 Interpreter - ![38,47]: 'QD < 2.0 || FS > 60.0 || MQ < 40.0 || MQRankSum < -1.0 || ReadPosRankSum < -8.0;' undefined variable MQRankSum \n",
      "WARN  14:00:40,533 Interpreter - ![38,47]: 'QD < 2.0 || FS > 60.0 || MQ < 40.0 || MQRankSum < -1.0 || ReadPosRankSum < -8.0;' undefined variable MQRankSum \n",
      "WARN  14:00:40,534 Interpreter - ![38,47]: 'QD < 2.0 || FS > 60.0 || MQ < 40.0 || MQRankSum < -1.0 || ReadPosRankSum < -8.0;' undefined variable MQRankSum \n",
      "WARN  14:00:40,535 Interpreter - ![38,47]: 'QD < 2.0 || FS > 60.0 || MQ < 40.0 || MQRankSum < -1.0 || ReadPosRankSum < -8.0;' undefined variable MQRankSum \n",
      "WARN  14:00:40,535 Interpreter - ![38,47]: 'QD < 2.0 || FS > 60.0 || MQ < 40.0 || MQRankSum < -1.0 || ReadPosRankSum < -8.0;' undefined variable MQRankSum \n",
      "WARN  14:00:40,537 Interpreter - ![38,47]: 'QD < 2.0 || FS > 60.0 || MQ < 40.0 || MQRankSum < -1.0 || ReadPosRankSum < -8.0;' undefined variable MQRankSum \n",
      "WARN  14:00:40,537 Interpreter - ![38,47]: 'QD < 2.0 || FS > 60.0 || MQ < 40.0 || MQRankSum < -1.0 || ReadPosRankSum < -8.0;' undefined variable MQRankSum \n",
      "WARN  14:00:40,538 Interpreter - ![38,47]: 'QD < 2.0 || FS > 60.0 || MQ < 40.0 || MQRankSum < -1.0 || ReadPosRankSum < -8.0;' undefined variable MQRankSum \n",
      "WARN  14:00:40,540 Interpreter - ![38,47]: 'QD < 2.0 || FS > 60.0 || MQ < 40.0 || MQRankSum < -1.0 || ReadPosRankSum < -8.0;' undefined variable MQRankSum \n",
      "WARN  14:00:40,540 Interpreter - ![38,47]: 'QD < 2.0 || FS > 60.0 || MQ < 40.0 || MQRankSum < -1.0 || ReadPosRankSum < -8.0;' undefined variable MQRankSum \n",
      "WARN  14:00:40,544 Interpreter - ![38,47]: 'QD < 2.0 || FS > 60.0 || MQ < 40.0 || MQRankSum < -1.0 || ReadPosRankSum < -8.0;' undefined variable MQRankSum \n",
      "WARN  14:00:40,544 Interpreter - ![38,47]: 'QD < 2.0 || FS > 60.0 || MQ < 40.0 || MQRankSum < -1.0 || ReadPosRankSum < -8.0;' undefined variable MQRankSum \n",
      "WARN  14:00:40,547 Interpreter - ![38,47]: 'QD < 2.0 || FS > 60.0 || MQ < 40.0 || MQRankSum < -1.0 || ReadPosRankSum < -8.0;' undefined variable MQRankSum \n",
      "WARN  14:00:40,549 Interpreter - ![38,47]: 'QD < 2.0 || FS > 60.0 || MQ < 40.0 || MQRankSum < -1.0 || ReadPosRankSum < -8.0;' undefined variable MQRankSum \n",
      "WARN  14:00:40,549 Interpreter - ![38,47]: 'QD < 2.0 || FS > 60.0 || MQ < 40.0 || MQRankSum < -1.0 || ReadPosRankSum < -8.0;' undefined variable MQRankSum \n",
      "WARN  14:00:40,550 Interpreter - ![38,47]: 'QD < 2.0 || FS > 60.0 || MQ < 40.0 || MQRankSum < -1.0 || ReadPosRankSum < -8.0;' undefined variable MQRankSum \n",
      "WARN  14:00:40,571 Interpreter - ![58,72]: 'QD < 2.0 || FS > 60.0 || MQ < 40.0 || MQRankSum < -1.0 || ReadPosRankSum < -8.0;' undefined variable ReadPosRankSum \n",
      "WARN  14:00:40,573 Interpreter - ![38,47]: 'QD < 2.0 || FS > 60.0 || MQ < 40.0 || MQRankSum < -1.0 || ReadPosRankSum < -8.0;' undefined variable MQRankSum \n",
      "INFO  14:00:40,673 ProgressMeter -            done       540.0     0.0 s      23.2 m       82.1%     0.0 s       0.0 s \n",
      "INFO  14:00:40,674 ProgressMeter - Total runtime 0.75 secs, 0.01 min, 0.00 hours \n",
      "------------------------------------------------------------------------------------------\n",
      "Done. There were no warn messages.\n",
      "------------------------------------------------------------------------------------------\n"
     ]
    }
   ],
   "source": [
    "java -jar $GATK \\\n",
    "-T VariantFiltration \\\n",
    "-R Homo_sapiens.GRCh37.GATK.illumina/Homo_sapiens.GRCh37.GATK.illumina.fasta \\\n",
    "--variant na12878_wgs_brca_dedup.sorted_RG_rawSNPs.vcf \\\n",
    "-o na12878_wgs_brca_dedup.sorted_RG_filteredSNPs.vcf \\\n",
    "--filterExpression \"QD < 2.0 || FS > 60.0 || MQ < 40.0 || MQRankSum < -1.0 || ReadPosRankSum < -8.0\" \\\n",
    "--filterName \"poor_SNPs\""
   ]
  }
 ],
 "metadata": {
  "kernelspec": {
   "display_name": "Bash",
   "language": "bash",
   "name": "bash"
  },
  "language_info": {
   "codemirror_mode": "shell",
   "file_extension": ".sh",
   "mimetype": "text/x-sh",
   "name": "bash"
  }
 },
 "nbformat": 4,
 "nbformat_minor": 2
}
