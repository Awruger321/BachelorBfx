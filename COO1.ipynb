{
 "cells": [
  {
   "cell_type": "markdown",
   "metadata": {},
   "source": [
    "# Contents\n",
    "1. [Evaluate Fastq properties](#Evaluate Fastq properties)\n",
    "+ [NGS data processing: mapping and optimizing the WES data.](#NGS data processing: mapping and optimizing the WES data.)\n",
    "    1. [Mapping with BWA](#Mapping with BWA)\n",
    "    + [Marking duplicates](#Marking duplicates)\n",
    "    + [Adding ReadGroups](#Adding ReadGroups)\n",
    "+ [NGS data processing: mapping and optimizing the WGS data](#NGS data processing: mapping and optimizing the WGS data)\n",
    "+ [Variant Calling & filtering](#Variant Calling & filtering)"
   ]
  },
  {
   "cell_type": "markdown",
   "metadata": {},
   "source": [
    "Exercise processing, visualization and interpretation of NGS data.\n",
    "==================================================================\n",
    "\n",
    "The raw output of a NGS sequencer is a FASTA file, which is a flat text file containing sequence reads and associated read names and quality scores on every line in the file.\n",
    "\n",
    "![The Fastq Format](https://kscbioinformatics.files.wordpress.com/2017/02/rawilluminadatafastqfiles.png?w=840)\n",
    "\n",
    "A first step in the analysis of next-generation sequencing reads concerns the mapping of the sequence reads to a reference genome. We have generated three types of sequencing data:\n",
    "1.\tPartial whole exome sequencing (WES): datafiles/na12878_wes_brcagenes-1.fastq **and** datafiles/na12878_wes_brcagenes-2.fastq\n",
    "2.\tPartial RNA-sequencing (RNA)\n",
    "3.\tPartial Whole genome sequencing (WGS): datafiles/na12878_wgs_brcagenes-1.fastq **and** datafiles/na12878_wgs_brcagenes-2.fastq\n",
    "\n",
    "Each of these datasets were derived from a public human sample and the sequence reads must be mapped to the human reference genome. The output of the mapping is a so-called Binary Alignment Map (BAM) file, which is not readable, but can be visualized using the Integrative Genomics Viewer. \n",
    "\n",
    "<span style=\"color:red\">***IMPORTANT: $filename markings indicates that you should change this into YOUR filename of either an existing file or a new filename.***</span>\n",
    "\n"
   ]
  },
  {
   "cell_type": "markdown",
   "metadata": {},
   "source": [
    "1. Evaluate Fastq properties<a name=\"Evaluate Fastq properties\"></a>\n",
    "=============\n",
    "A very well-known tool for evaluating the quality of sequence data is FastQC (http://www.bioinformatics.babraham.ac.uk/projects/fastqc). Since processing NGS data can be a compute intensive step, it could be advisable to check if the data is any good before proceeding.\n"
   ]
  },
  {
   "cell_type": "markdown",
   "metadata": {},
   "source": [
    "<span style=\"color:green\">[DO]: Run fastqc on the fastq files: ‘fastqc datafiles/*.fastq’ to generate a HTML report for all the fastq files in the folder datafiles.</span>"
   ]
  },
  {
   "cell_type": "code",
   "execution_count": null,
   "metadata": {
    "collapsed": true
   },
   "outputs": [],
   "source": []
  },
  {
   "cell_type": "markdown",
   "metadata": {},
   "source": [
    "To create links to the resulting HTML pages you’ll need to take your amazon-computer name from your webbrowsers adressbar (in between with https:// and amazonaws.com) and copy it in the instructions below:"
   ]
  },
  {
   "cell_type": "code",
   "execution_count": 1,
   "metadata": {
    "collapsed": false
   },
   "outputs": [
    {
     "name": "stdout",
     "output_type": "stream",
     "text": [
      "https://COMPUTERNAMEHERE.amazonaws.com:8888/files/datafiles/na12878_wes_brcagenes-1_fastqc.html\n",
      "https://COMPUTERNAMEHERE.amazonaws.com:8888/files/datafiles/na12878_wes_brcagenes-2_fastqc.html\n",
      "https://COMPUTERNAMEHERE.amazonaws.com:8888/files/datafiles/na12878_wgs_brcagenes-1_fastqc.html\n",
      "https://COMPUTERNAMEHERE.amazonaws.com:8888/files/datafiles/na12878_wgs_brcagenes-2_fastqc.html\n"
     ]
    }
   ],
   "source": [
    "for i in datafiles/*.html; \n",
    "    do echo https://COMPUTERNAMEHERE.amazonaws.com:8888/files/$i;\n",
    "done"
   ]
  },
  {
   "cell_type": "markdown",
   "metadata": {},
   "source": [
    "<span style=\"color:green\">[DO]: take 10’ to review the result pages. What is your opinion on  the quality of the data? If needed, compare it to an (old) example of poor data (http://www.bioinformatics.babraham.ac.uk/projects/fastqc/bad_sequence_fastqc.html) or good data (http://www.bioinformatics.babraham.ac.uk/projects/fastqc/good_sequence_short_fastqc.html).</span>"
   ]
  },
  {
   "cell_type": "markdown",
   "metadata": {},
   "source": []
  },
  {
   "cell_type": "markdown",
   "metadata": {},
   "source": [
    "2 NGS data processing: mapping and optimizing the WES data.<a name=\"NGS data processing: mapping and optimizing the WES data.\"></a>\n",
    "==============================\n",
    "2A Mapping with BWA<a name=\"Mapping with BWA\"></a>\n",
    "------------------\n",
    "BWA needs a number of files to start the alignment: execute ‘bwa mem’ to see them. We will use default settings, but still at least 3 files are required.\n"
   ]
  },
  {
   "cell_type": "code",
   "execution_count": null,
   "metadata": {
    "collapsed": false
   },
   "outputs": [],
   "source": []
  },
  {
   "cell_type": "markdown",
   "metadata": {},
   "source": [
    "<span style=\"color:purple\">[Q]: What files are required to start the mapping?</span>"
   ]
  },
  {
   "cell_type": "markdown",
   "metadata": {},
   "source": []
  },
  {
   "cell_type": "markdown",
   "metadata": {},
   "source": [
    "<span style=\"color:purple\">[Q]: What is the default ouput location of the resulting alignmentfile?</span>"
   ]
  },
  {
   "cell_type": "markdown",
   "metadata": {},
   "source": []
  },
  {
   "cell_type": "markdown",
   "metadata": {},
   "source": [
    "<span style=\"color:green\">[DO]: start an alignment of the WES (!) sequence reads in paired end mode, and store the output file. Remember to name it properly so you can see from which experiment the alignment was.</span>"
   ]
  },
  {
   "cell_type": "code",
   "execution_count": null,
   "metadata": {
    "collapsed": true
   },
   "outputs": [],
   "source": []
  },
  {
   "cell_type": "markdown",
   "metadata": {},
   "source": [
    "<span style=\"color:green\">[DO]: show the first 30 lines of the SAM file you’ve obtained by executing \n",
    "```bash \n",
    "head -n 30 $file\n",
    "```\n",
    "where \\$file is your samfile. You’ll clearly see a header section and the start of the reads section. </span>"
   ]
  },
  {
   "cell_type": "code",
   "execution_count": null,
   "metadata": {
    "collapsed": true
   },
   "outputs": [],
   "source": []
  },
  {
   "cell_type": "markdown",
   "metadata": {},
   "source": [
    "<span style=\"color:purple\">[Q]: What does this entry in the header mean?</span>\n",
    "\n",
    "@SQ     SN:21   LN:48129895"
   ]
  },
  {
   "cell_type": "markdown",
   "metadata": {},
   "source": []
  },
  {
   "cell_type": "markdown",
   "metadata": {},
   "source": [
    "<span style=\"color:purple\"> \n",
    "[Q]: Describe some read details from the sam file for the first read. If you need more explanation, see the format specifications [here.](https://samtools.github.io/hts-specs/SAMv1.pdf)\n",
    "-\t<span style=\"color:purple\"> What is it’s orientation?\n",
    "-\t<span style=\"color:purple\"> Where does it map to in the genome?\n",
    "-\t<span style=\"color:purple\"> Does it have mismatches compared to the reference?\n",
    "-\t<span style=\"color:purple\"> What is the distance to its mate?\n",
    "</span>"
   ]
  },
  {
   "cell_type": "markdown",
   "metadata": {},
   "source": []
  },
  {
   "cell_type": "markdown",
   "metadata": {},
   "source": [
    "The SAM files are not a very efficient way to handle these kind of data: information can be compressed and indexed by converting the SAM (Sequence Alignment Map) file into a BAM (Binary alignment Map)."
   ]
  },
  {
   "cell_type": "markdown",
   "metadata": {},
   "source": [
    "<span style=\"color:green\">[DO]: Covert your SAM file into a BAM file with ‘sambamba view -S -f bam \\$samfile > \\$bamfile’, where \\$samfile is your samfile and \\$bamfile is the bamfile to be generated. Give it a proper name.<span>"
   ]
  },
  {
   "cell_type": "markdown",
   "metadata": {},
   "source": [
    "<span style=\"color:purple\"> [Q]: Compare the filesizes of the SAM and BAM file. What is the compression ratio?</span>"
   ]
  },
  {
   "cell_type": "markdown",
   "metadata": {},
   "source": []
  },
  {
   "cell_type": "markdown",
   "metadata": {},
   "source": [
    "To be able to make use of the indexed searching options, we need to sort the BAM file by coordinates (default). "
   ]
  },
  {
   "cell_type": "markdown",
   "metadata": {},
   "source": [
    "<span style=\"color:green\">[DO]: Sort your BAM file by \n",
    "```bash\n",
    "sambamba sort \\$bamfile\n",
    "```\n",
    "<span style=\"color:green\">This will result in a \\$bamfile.sorted automatically.</span>"
   ]
  },
  {
   "cell_type": "markdown",
   "metadata": {},
   "source": [
    "<span style=\"color:purple\">[Q]: Review the headers of the sorted and unsorted $bamfile by executing \n",
    "```bash\n",
    "sambamba view -H \\$bamfile\n",
    "``` \n",
    "<span style=\"color:purple\">for both and compare. Notice the flag stating the bam file is sorted (and how).</span>"
   ]
  },
  {
   "cell_type": "markdown",
   "metadata": {},
   "source": []
  },
  {
   "cell_type": "markdown",
   "metadata": {},
   "source": [
    "### 2B Marking duplicates <a name=\"Marking duplicates\"></a>"
   ]
  },
  {
   "cell_type": "markdown",
   "metadata": {},
   "source": [
    "We need to mark (but not remove) the duplicate reads in our (sorted) bamfile so these won’t be used by analysis tools lateron."
   ]
  },
  {
   "cell_type": "markdown",
   "metadata": {},
   "source": [
    "<span style=\"color:green\">[DO]: mark the duplicates by executing \n",
    "```bash\n",
    "sambamba markdup \\$sorted_bamfile \\$dedupped_sorted_bamfile\n",
    "```\n",
    "</span>"
   ]
  },
  {
   "cell_type": "markdown",
   "metadata": {},
   "source": [
    "<span style=\"color:purple\">[Q]: what is the percentage duplicate reads in this dataset?</span>"
   ]
  },
  {
   "cell_type": "markdown",
   "metadata": {},
   "source": []
  },
  {
   "cell_type": "markdown",
   "metadata": {},
   "source": [
    "### 2C Adding ReadGroups <a name=\"Adding ReadGroups\"></a>\n",
    "Previously you’ve examined the header of the SAM file and probably noticed that it contains very usefull information. Remember, it is very important to know from what sequence data and genome the alignment was generated. Additionally, you would want to know what tools and settings were used to be able to replicate results (See later in the course the F.A.I.R. principles). In the REadGroups section of the header you can store information on the sample and experiment (see details [SAM specifications](http://samtools.github.io/hts-specs/SAMv1.pdf)). This is considered so important that GATK for instance requires additional information in these readgroups. In advanced analyses you can actively use this information from the readgroups.\n",
    "\n",
    "In this part we are going to fill in the minimal required readgroups with data using PicardTools ($PICARD): AddOrReplaceReadGroups. In real life we advise to be much more elaborate and specific.\n",
    "- LB (library): WES\n",
    "- PL (platform): illumina\n",
    "- PU (platform unit): slide_barcode\n",
    "- SM (sample name): na12878\n"
   ]
  },
  {
   "cell_type": "markdown",
   "metadata": {},
   "source": [
    "<span style=\"color:green\">[DO]: Execute Picardtools AddOrReplaceReadGroups with the following parameters (adjust to your own BAM file) and the data above:\n",
    "```\n",
    "java -jar $PICARD AddOrReplaceReadGroups \\\n",
    "I=$inputfile \\\n",
    "O=$outputfile \\\n",
    "CREATE_INDEX=true \\\n",
    "RGLB=$LB \\\n",
    "RGPL=$PL \\\n",
    "RGSM=$SM \\\n",
    "RGPU=$PU \\\n",
    "```\n",
    "\n"
   ]
  },
  {
   "cell_type": "markdown",
   "metadata": {},
   "source": [
    "### 3. NGS data processing: mapping and optimizing the WGS data <a name=\"NGS data processing: mapping and optimizing the WGS data\"></a>\n",
    "Now we successfully have performed the steps to align and optimize the results of the exome sequencing, we want to analyse the whole genome data(WGS) data in the same way.\n",
    "\n",
    "<span style=\"color:green\">[DO]: repeat the steps to get to a sorted, deduplicated BAM file with readgroups for the WGS fastqs. Take care not to overwrite your WES results, and clearly mark WGS in the appropriate readgroup.</span>\n"
   ]
  },
  {
   "cell_type": "markdown",
   "metadata": {},
   "source": [
    "## 4. Variant Calling & filtering <a name=\"Variant Calling & filtering\"></a>"
   ]
  },
  {
   "cell_type": "code",
   "execution_count": null,
   "metadata": {
    "collapsed": true
   },
   "outputs": [],
   "source": []
  },
  {
   "cell_type": "code",
   "execution_count": null,
   "metadata": {
    "collapsed": true
   },
   "outputs": [],
   "source": []
  },
  {
   "cell_type": "code",
   "execution_count": null,
   "metadata": {
    "collapsed": true
   },
   "outputs": [],
   "source": []
  },
  {
   "cell_type": "code",
   "execution_count": null,
   "metadata": {
    "collapsed": true
   },
   "outputs": [],
   "source": []
  },
  {
   "cell_type": "code",
   "execution_count": null,
   "metadata": {
    "collapsed": true
   },
   "outputs": [],
   "source": []
  },
  {
   "cell_type": "code",
   "execution_count": null,
   "metadata": {
    "collapsed": true
   },
   "outputs": [],
   "source": []
  },
  {
   "cell_type": "code",
   "execution_count": null,
   "metadata": {
    "collapsed": true
   },
   "outputs": [],
   "source": []
  }
 ],
 "metadata": {
  "kernelspec": {
   "display_name": "Bash",
   "language": "bash",
   "name": "bash"
  },
  "language_info": {
   "codemirror_mode": "shell",
   "file_extension": ".sh",
   "mimetype": "text/x-sh",
   "name": "bash"
  }
 },
 "nbformat": 4,
 "nbformat_minor": 2
}
