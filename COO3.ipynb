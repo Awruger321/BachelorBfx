{
 "cells": [
  {
   "cell_type": "markdown",
   "metadata": {},
   "source": [
    "# Contents\n",
    "1. [Generate a vcf file with structural variations from the dna181_illumina.bam file](#Generate a vcf file with structural variations from the dna181_illumina.bam file)\n",
    "2. [Identification of de novo structural variations](#Identification of de novo structural variations)\n",
    "3. [Identification of copy number variations in dna181_illumina.bam file](#Identification of copy number variations in dna181_illumina.bam file)\n",
    "4. [Annotation of structural variations using gene overlap](#Annotation of structural variations using gene overlap)"
   ]
  },
  {
   "cell_type": "markdown",
   "metadata": {},
   "source": [
    "Identification of structural variations and copy number variations in NGS data.\n",
    "==================================================================\n",
    "\n",
    "In this exercise you will learn how to evaluate NGS data for the presence of structural variations and copy number changes. The starting point for detecting these variations will be a BAM file (Binary Alignment Map) as you have worked with during COO1 and COO2. \n",
    "\n",
    "We have generated a partial whole-genome sequencing dataset for a patient with developmental malformations. The data set consists of paired-end Illumina sequencing data (2 x 150bp reads). You are going to find out if the patient genome contains perhaps structural variations that could underlie the disease phenotype. \n",
    "\n",
    "The data set can be found here: datafiles/COO3/dna181_illumina.bam\n"
   ]
  },
  {
   "cell_type": "markdown",
   "metadata": {},
   "source": [
    "1. Generate a vcf file with structural variations from the dna181_illumina.bam file<a name=\"Generate a vcf file with structural variations from the dna181_illumina.bam file\"></a>\n",
    "=============\n",
    "Manta (https://github.com/Illumina/manta) is a bioinformatic tool that enables the processing of read alignments in BAM files and identify candidate structural variations.\n"
   ]
  },
  {
   "cell_type": "markdown",
   "metadata": {},
   "source": [
    "<span style=\"color:green\">[DO]: Run manta on the dna181_illumina.bam file, to generate a vcf output file with detected structural variations.</span>"
   ]
  },
  {
   "cell_type": "code",
   "execution_count": null,
   "metadata": {
    "collapsed": false
   },
   "outputs": [],
   "source": [
    "%%bash\n",
    "/home/ubuntu/external/tools/manta_1.0.3/bin/configManta.py \\\n",
    "--bam datafiles/COO3/dna181_illumina.bam \\\n",
    "--referenceFasta Homo_sapiens.GRCh37.GATK.illumina/Homo_sapiens.GRCh37.GATK.illumina.fasta \\\n",
    "--runDir datafiles/COO3/manta/\n"
   ]
  },
  {
   "cell_type": "markdown",
   "metadata": {},
   "source": [
    "[NOTE]: The next step will take approximately 5 minutes."
   ]
  },
  {
   "cell_type": "code",
   "execution_count": null,
   "metadata": {
    "collapsed": false
   },
   "outputs": [],
   "source": [
    "%%bash\n",
    "datafiles/COO3/manta/runWorkflow.py -m local -j 2 -g 6"
   ]
  },
  {
   "cell_type": "code",
   "execution_count": null,
   "metadata": {
    "collapsed": true
   },
   "outputs": [],
   "source": [
    "%%bash\n",
    "gunzip -c datafiles/COO3/manta/results/variants/diploidSV.vcf.gz > datafiles/COO3/dna181_manta.vcf"
   ]
  },
  {
   "cell_type": "markdown",
   "metadata": {},
   "source": [
    "Now you have a VCF file with structural variation calls. Open the VCF file and take a look at its contents. "
   ]
  },
  {
   "cell_type": "markdown",
   "metadata": {},
   "source": [
    "<span style=\"color:purple\">[Q]: Take a look at the first non-header line of the VCF file. Answer the following questions:\n",
    "-\t<span style=\"color:purple\">What does one non-header line represent exactly?\n",
    "-\t<span style=\"color:purple\">What are the start and end coordinates of the variation in the first non-header line?\n",
    "-\t<span style=\"color:purple\">What is the orientation of the variation in the first non-header line?\n",
    "-\t<span style=\"color:purple\">Is this variation homozygous or heterozygous?\n",
    "</span>"
   ]
  },
  {
   "cell_type": "markdown",
   "metadata": {},
   "source": [
    "[A]:"
   ]
  },
  {
   "cell_type": "markdown",
   "metadata": {},
   "source": [
    "<span style=\"color:purple\">Calculate the number of interchromosomal heterozygous variations in the VCF file.<BR>\n",
    "Write your own python script:"
   ]
  },
  {
   "cell_type": "code",
   "execution_count": null,
   "metadata": {
    "collapsed": true
   },
   "outputs": [],
   "source": [
    "[A]:"
   ]
  },
  {
   "cell_type": "markdown",
   "metadata": {},
   "source": [
    "<span style=\"color:purple\">or use SNPsift:"
   ]
  },
  {
   "cell_type": "code",
   "execution_count": null,
   "metadata": {
    "collapsed": false,
    "scrolled": true
   },
   "outputs": [],
   "source": [
    "%%bash\n",
    "export SNPSIFT=/home/ubuntu/external/tools/snpEff/SnpSift.jar\n"
   ]
  },
  {
   "cell_type": "markdown",
   "metadata": {},
   "source": [
    "2. Identification of de novo structural variations<a name=\"Identification of de novo structural variations\"></a>\n",
    "=============\n",
    "In a second step we will check if the structural variations identified in step 1 are de novo or whether they are inherited from the parents of this patient. Therefore we have created a multi-sample vcf file for you based on the BAM files from the father, mother and the child/patient using the Manta command: `manta/bin/configManta.py --bam child.bam --bam father.bam --bam mother.bam --referenceFasta hg19.fa --runDir outdir`\n",
    "and the execution command:\n",
    "`outdir/runWorkflow.py -m local -j 8`"
   ]
  },
  {
   "cell_type": "markdown",
   "metadata": {},
   "source": [
    "<span style=\"color:purple\">[Q]: Read the vcf file `datafiles/COO3/dna181_illumina_trioSV.vcf`. Answer the following questions:\n",
    "-\t<span style=\"color:purple\">What are the genotypes of the first variation in the child (C), father (F) and mother (M)?\n",
    "-\t<span style=\"color:purple\">Is this variant de novo or inherited?\n",
    "-\t<span style=\"color:purple\">What is the amount of non-reference (alt) reads in the child for split reads (SR) and paired reads (PR)?\n"
   ]
  },
  {
   "cell_type": "markdown",
   "metadata": {},
   "source": [
    "[A]:"
   ]
  },
  {
   "cell_type": "markdown",
   "metadata": {},
   "source": [
    "<span style=\"color:purple\">[Q]: Write a python script to parse out the de novo variations in the child. How many are there?"
   ]
  },
  {
   "cell_type": "code",
   "execution_count": null,
   "metadata": {
    "collapsed": false
   },
   "outputs": [],
   "source": [
    "[A]:"
   ]
  },
  {
   "cell_type": "markdown",
   "metadata": {},
   "source": [
    "3. Identification of copy number variations in dna181_illumina.bam file<a name=\"Identification of copy number variations in dna181_illumina.bam file\"></a>\n",
    "=============\n",
    "There are different methods to detect structural variations in NGS data. Manta uses paired-end and split-read mappings to identify structural variations. However, changes in DNA copy number (CNVs) are not detected by Manta. Therefore, we will run another tool – FREEC (https://github.com/BoevaLab/FREEC) - to detect CNVs."
   ]
  },
  {
   "cell_type": "markdown",
   "metadata": {},
   "source": [
    "<span style=\"color:purple\">[Q]: What type of variations cannot be detected by FREEC?"
   ]
  },
  {
   "cell_type": "markdown",
   "metadata": {},
   "source": [
    "[A]:"
   ]
  },
  {
   "cell_type": "markdown",
   "metadata": {},
   "source": [
    "<span style=\"color:green\">[DO]: Run FREEC on the dna181_illumina.bam file. This step will take approximately 5 minutes."
   ]
  },
  {
   "cell_type": "code",
   "execution_count": null,
   "metadata": {
    "collapsed": false
   },
   "outputs": [],
   "source": [
    "%%bash\n",
    "freec -conf datafiles/COO3/freec_config.txt"
   ]
  },
  {
   "cell_type": "markdown",
   "metadata": {},
   "source": [
    "The output of FREEC is a list of predicted changes in DNA copy number. In the file `datafiles/COO3/freec/dna181_illumina.bam_CNVs` you can find the predicted CNVs."
   ]
  },
  {
   "cell_type": "markdown",
   "metadata": {},
   "source": [
    "<span style=\"color:purple\">[Q]: What do the two coordinates for each variant indicate? \n"
   ]
  },
  {
   "cell_type": "markdown",
   "metadata": {},
   "source": [
    "[A]:"
   ]
  },
  {
   "cell_type": "markdown",
   "metadata": {},
   "source": [
    "<span style=\"color:purple\">[Q]: What is the largest CNV in the list? Please ignore the first and last CNV for each chromosome, because these represent artifacts of the calling since only a subset of the data was used.  "
   ]
  },
  {
   "cell_type": "code",
   "execution_count": null,
   "metadata": {
    "collapsed": false
   },
   "outputs": [],
   "source": [
    "[A]:"
   ]
  },
  {
   "cell_type": "markdown",
   "metadata": {},
   "source": [
    "Now you are going to check if any of the CNVs matches with a structural variation breakpoint in the vcf file that you have generated above. There are several steps needed to get to this answer."
   ]
  },
  {
   "cell_type": "markdown",
   "metadata": {},
   "source": [
    "<span style=\"color:green\">[DO]: Generate a bed file with a list of each breakpoint coordinate of the de novo SVs (note: every SV has two breakpoints!). List them in bed format: chr [TAB] coordinate [TAB] coordinate"
   ]
  },
  {
   "cell_type": "code",
   "execution_count": null,
   "metadata": {
    "collapsed": false
   },
   "outputs": [],
   "source": [
    "[A]:    "
   ]
  },
  {
   "cell_type": "markdown",
   "metadata": {
    "collapsed": false
   },
   "source": [
    "<span style=\"color:green\">[DO]: Do the same for the *_CNV file with CNV predictions."
   ]
  },
  {
   "cell_type": "code",
   "execution_count": null,
   "metadata": {
    "collapsed": true
   },
   "outputs": [],
   "source": [
    "[A]:"
   ]
  },
  {
   "cell_type": "markdown",
   "metadata": {},
   "source": [
    "<span style=\"color:green\">[DO]: Check the overlap of the breakpoint bed file with the CNV bed file using bedtools: ‘bedtools closest fileA fileB’."
   ]
  },
  {
   "cell_type": "code",
   "execution_count": null,
   "metadata": {
    "collapsed": false,
    "scrolled": true
   },
   "outputs": [],
   "source": [
    "%%bash\n",
    "bedtools sort -i datafiles/COO3/sv.bed > datafiles/COO3/sv.sorted.bed\n",
    "bedtools sort -i datafiles/COO3/cnv.bed > datafiles/COO3/cnv.sorted.bed\n",
    "\n",
    "bedtools closest -a datafiles/COO3/sv.sorted.bed -b datafiles/COO3/cnv.sorted.bed -d"
   ]
  },
  {
   "cell_type": "markdown",
   "metadata": {},
   "source": [
    "<span style=\"color:purple\">[Q]: Which breakpoints from the VCF file are closest to a CNV breakpoint? Do you think that the CNV and the breakpoints are related?"
   ]
  },
  {
   "cell_type": "markdown",
   "metadata": {},
   "source": [
    "[A]:"
   ]
  },
  {
   "cell_type": "markdown",
   "metadata": {},
   "source": [
    "4. Annotation of structural variations using gene overlap<a name=\"Annotation of structural variations using gene overlap\"></a>\n",
    "=============\n",
    "Now we have identified a set of de novo structural variations in the genome of the patient, the next step is to check which of these variation affect genes in the genome and whether this provides insights into the disease phenotype. Therefore, you will use the bedfile with breakpoints and find out which genes are affected. A file with all human genes and their chromosomal coordinates can be found here: `datafiles/COO3/GenesChromothripsisDNA181.txt`. \n",
    "\n",
    "Use a strategy similar to the steps you have taken under (3) to calculate which breakpoints overlap protein coding genes."
   ]
  },
  {
   "cell_type": "markdown",
   "metadata": {},
   "source": [
    "<span style=\"color:purple\">[Q]: How many genes are broken by de novo breakpoints in the patient? Please try to use the OMIM database (www.OMIM.org) to find out whether any of the genes has already been linked to human genetics disease."
   ]
  },
  {
   "cell_type": "code",
   "execution_count": null,
   "metadata": {
    "collapsed": true
   },
   "outputs": [],
   "source": []
  }
 ],
 "metadata": {
  "anaconda-cloud": {},
  "kernelspec": {
   "display_name": "Python [Root]",
   "language": "python",
   "name": "Python [Root]"
  },
  "language_info": {
   "codemirror_mode": {
    "name": "ipython",
    "version": 3
   },
   "file_extension": ".py",
   "mimetype": "text/x-python",
   "name": "python",
   "nbconvert_exporter": "python",
   "pygments_lexer": "ipython3",
   "version": "3.5.2"
  }
 },
 "nbformat": 4,
 "nbformat_minor": 2
}
