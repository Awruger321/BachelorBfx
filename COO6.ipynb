{
 "cells": [
  {
   "cell_type": "markdown",
   "metadata": {},
   "source": [
    "# Contents\n",
    "1. [Generate a structural variation links file as input for the circos software](#Generate a structural variation links file as input for the circos software)\n",
    "2. [Using Circos to plot the structural variations](#Using Circos to plot the structural variations)\n",
    "3. [Adding copy number data to the circos file](#Adding copy number data to the circos file)"
   ]
  },
  {
   "cell_type": "markdown",
   "metadata": {},
   "source": [
    "Visualizing next-generation sequencing data using Circos software.\n",
    "==================================================================\n",
    "\n",
    "In this exercise you will learn how to visualize structural variations and copy number changes using Circos software (http://circos.ca/). Circos is a great tool to summarize findings in a single circular figure. The software can be used to visualize any type of data, but is particularly suited for genomics data. The starting point for the visualization will be the denovo structural variation vcf file ( `datafiles/COO3/dna181_denovo.vcf` ) and the copy number data file ( `datafiles/COO3/freec/dna181_illumina.bam_CNVs` ) that you have generated during COO3. \n"
   ]
  },
  {
   "cell_type": "markdown",
   "metadata": {},
   "source": [
    "1. Generate a structural variation links file as input for the circos software<a name=\"Generate a structural variation links file as input for the circos software\"></a>\n",
    "============="
   ]
  },
  {
   "cell_type": "markdown",
   "metadata": {},
   "source": [
    "<span style=\"color:green\">[DO]: Write a Python script to parse the structural variant vcf file and generate a links file as below. Please note that every structural variant requires two lines in the links file, starting with the same id (id1 in the example).</span>\n",
    "\n",
    "`#id\tchr\tstart\t\tend\t\t  color`<BR>\n",
    "`id1\ths2\t167031452\t167031452\tcolor=orange`<BR>\n",
    "`id1\ths2\t175477894\t175477894\tcolor=orange`\n",
    "\n",
    "<span style=\"color:green\">Note that you can use a script very similar to the script you have generated in COO3</span>\n",
    "\n",
    "<span style=\"color:green\">As colors you can use: </span>\n",
    "-  <span style=\"color:green\">dblue for deletions/3to5 oriented structural variations </span>\n",
    "-  <span style=\"color:green\">dgreen for duplications/5to3 oriented structural variations </span>\n",
    "-  <span style=\"color:green\">orange for inversions/3to3 oriented structural variations </span>\n",
    "-  <span style=\"color:green\">dred for inversions/5to5 oriented structural variations </span>\n"
   ]
  },
  {
   "cell_type": "code",
   "execution_count": null,
   "metadata": {
    "collapsed": true
   },
   "outputs": [],
   "source": [
    "[A]:"
   ]
  },
  {
   "cell_type": "markdown",
   "metadata": {},
   "source": [
    "Now you have a text file that tells the Circos software which genomic positions to connect and which colors to use."
   ]
  },
  {
   "cell_type": "markdown",
   "metadata": {},
   "source": [
    "<span style=\"color:purple\">[Q]: Can you discriminate between intra- and inter-chromosomal rearrangements based on the above color scheme?"
   ]
  },
  {
   "cell_type": "markdown",
   "metadata": {},
   "source": [
    "[A]:"
   ]
  },
  {
   "cell_type": "markdown",
   "metadata": {},
   "source": [
    "2. Using Circos to plot the structural variations<a name=\"Using Circos to plot the structural variations\"></a>\n",
    "=============\n",
    "Now you have an input file ready to plot the structural variations breakpoints using Circos. What still needs to be done is the generation of an configuration file to tell the Circos software of the name and location of the input file."
   ]
  },
  {
   "cell_type": "markdown",
   "metadata": {},
   "source": [
    "<span style=\"color:green\">[DO]: Modify the datafiles/COO6/dna181_circos.conf file and add the file name to the line starting with:<BR>\n",
    "`<link>\n",
    "    file = $FILENAME\n",
    "`"
   ]
  },
  {
   "cell_type": "markdown",
   "metadata": {},
   "source": [
    "<span style=\"color:green\">[DO]: Now execute circos with the following command:"
   ]
  },
  {
   "cell_type": "code",
   "execution_count": null,
   "metadata": {
    "collapsed": false
   },
   "outputs": [],
   "source": [
    "%%bash\n",
    "circos -conf datafiles/COO6/dna181_circos.conf"
   ]
  },
  {
   "cell_type": "markdown",
   "metadata": {},
   "source": [
    "<span style=\"color:purple\">[Q]: Download the circos output .png file ( datafiles/COO6/dna181_denovo_circos.png ) and examine its contents. What does the outer ring represent? What do the colored lines represent?"
   ]
  },
  {
   "cell_type": "markdown",
   "metadata": {},
   "source": [
    "[A]:"
   ]
  },
  {
   "cell_type": "markdown",
   "metadata": {},
   "source": [
    "3. Adding copy number data to the circos file<a name=\"Adding copy number data to the circos file\"></a>\n",
    "=============\n",
    "As a final step we would like to visualize the copy number variation data along with the structural variation breakpoints. Therefore you have to use the following file from the FREEC program, that reports the copy number along the genome: `datafiles/COO6/dna181_freec_cnv.txt`."
   ]
  },
  {
   "cell_type": "markdown",
   "metadata": {},
   "source": [
    "<span style=\"color:green\">[DO]: Modify the circos.config file by adding the following lines:<BR>\n",
    "`<plots>`<BR>\n",
    "`<plot>`   \n",
    "`type = scatter`<BR>\n",
    "`file = datafiles/COO6/dna181_freec_cnv.txt`<BR>\n",
    "`r1 = 0.975r`<BR>\n",
    "`r0 = 0.875r`<BR>\n",
    "`max = 3`<BR>\n",
    "`min = -1`<BR>\n",
    "`glyph = circle`<BR>\n",
    "`glyph_size = 10`<BR>\n",
    "`color = black`<BR>\n",
    "`stroke_color = black`<BR>\n",
    "`stroke_thickness = 1`<BR>        \n",
    "`<backgrounds>`<BR>\n",
    "`<background>`<BR>\n",
    "`color = vlgrey`<BR>\n",
    "`</background>`<BR>\n",
    "`</backgrounds>`<BR>\t\t\n",
    "`</plot>`<BR>\n",
    "`</plots>`<BR>\n"
   ]
  },
  {
   "cell_type": "markdown",
   "metadata": {},
   "source": [
    "<span style=\"color:green\">[DO]: Run Circos again with the same command as above.\n"
   ]
  },
  {
   "cell_type": "code",
   "execution_count": null,
   "metadata": {
    "collapsed": true
   },
   "outputs": [],
   "source": [
    "[A]:"
   ]
  },
  {
   "cell_type": "markdown",
   "metadata": {},
   "source": [
    "<span style=\"color:purple\">[Q]: Download the circos output .png file ( datafiles/COO6/dna181_denovo_circos.png )and examine its contents. Can you observe any copy number changes in the data? Do these relate to the structural variation breakpoints?"
   ]
  },
  {
   "cell_type": "markdown",
   "metadata": {
    "collapsed": true
   },
   "source": [
    "[A]:"
   ]
  }
 ],
 "metadata": {
  "anaconda-cloud": {},
  "kernelspec": {
   "display_name": "Python [Root]",
   "language": "python",
   "name": "Python [Root]"
  },
  "language_info": {
   "codemirror_mode": {
    "name": "ipython",
    "version": 3
   },
   "file_extension": ".py",
   "mimetype": "text/x-python",
   "name": "python",
   "nbconvert_exporter": "python",
   "pygments_lexer": "ipython3",
   "version": "3.5.2"
  }
 },
 "nbformat": 4,
 "nbformat_minor": 2
}
