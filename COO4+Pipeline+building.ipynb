{
 "cells": [
  {
   "cell_type": "markdown",
   "metadata": {},
   "source": [
    "# COO4 Pipeline building\n",
    "\n",
    "Goal: Create a pipeline that combines the analysis from the previous days.\n",
    "\n",
    "Your pipeline should include the following steps:\n",
    "- QC\n",
    " - Fastqc\n",
    "- Mapping\n",
    " - BWA MEM\n",
    " - Sambamba sort\n",
    " - Sambamba dedup\n",
    " - Add read groups\n",
    "- SNP / INDEL calling\n",
    " - HaplotypeCaller\n",
    " - Filter SNPS and Indels\n",
    " - Annotate variants\n",
    "- SV / CNV calling\n",
    "\n",
    "\n",
    "Include one or more of these (common) pipeline features in your pipeline:\n",
    "- Save the results of your pipeline in a ordered manner.\n",
    " - Seperate log files from the 'biological results' (bam/vcf etc.)\n",
    "- Adjust settings and/or input files using parameters.\n",
    " - Advanced: Allow for turning on and off certain analysis steps.\n",
    "- Check whether each step finished successfully\n",
    " - A finished step != correct output.\n",
    " - Advanced: Make sure steps that are finished are skipped when rerunning the pipeline.\n",
    "- Automatically check QC parameters.\n"
   ]
  },
  {
   "cell_type": "code",
   "execution_count": null,
   "metadata": {
    "collapsed": true
   },
   "outputs": [],
   "source": [
    "# Create your pipeline"
   ]
  },
  {
   "cell_type": "markdown",
   "metadata": {},
   "source": [
    "## Tips / code snippets"
   ]
  },
  {
   "cell_type": "code",
   "execution_count": null,
   "metadata": {
    "collapsed": true
   },
   "outputs": [],
   "source": [
    "# Bash variables\n",
    "variable_name=\"Hello World!\"\n",
    "echo $variable_name\n",
    "\n",
    "# if / else\n",
    "if_else_test=\"test\"\n",
    "if [ $if_else_test = \"test\" ]; then\n",
    "    echo true\n",
    "else\n",
    "    echo false\n",
    "fi\n",
    "\n",
    "# For loop\n",
    "for var in 1 2 3\n",
    "do\n",
    "    echo $var\n",
    "done\n",
    "\n",
    "\n",
    "# Create output dir, make sure to use full path\n",
    "notebook_home=$HOME/Notebooks/\n",
    "output_name=\"pipeline_out\"\n",
    "output_dir=$notebook_home/$output_name\n",
    "if [ ! -d $output_dir ]; then\n",
    "    mkdir $output_dir\n",
    "fi"
   ]
  }
 ],
 "metadata": {
  "kernelspec": {
   "display_name": "Bash",
   "language": "bash",
   "name": "bash"
  },
  "language_info": {
   "codemirror_mode": "shell",
   "file_extension": ".sh",
   "mimetype": "text/x-sh",
   "name": "bash"
  }
 },
 "nbformat": 4,
 "nbformat_minor": 2
}
