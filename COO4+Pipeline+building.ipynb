{
 "cells": [
  {
   "cell_type": "markdown",
   "metadata": {},
   "source": [
    "# COO4 Pipeline building\n",
    "\n",
    "Goal: Create a pipeline that combines the analysis from the previous days.\n",
    "\n",
    "Your pipeline should include the following steps:\n",
    "- Mapping\n",
    "- QC\n",
    "- SNP / INDEL calling\n",
    "- SV / CNV calling\n",
    "\n",
    "\n",
    "Include at least one/two/three?? of these (common) pipeline features in your pipeline:\n",
    "- Save the results of your pipeline in a ordered manner.\n",
    " - Seperate log files from the 'biological results' (bam/vcf etc.)\n",
    "- Check whether each step finished successfully\n",
    " - A finished step != correct output.\n",
    " - Advanced: Make sure steps that are finished are skipped when rerunning the pipeline.\n",
    "- Adjust settings and/or input files using parameters.\n",
    " - Advanced: Allow for turning on and off certain analysis steps.\n",
    "- Allow for multiple input (fastq) files.\n",
    " - Run analysis in ‘multisample mode’ where possible.\n",
    "- Automatically check QC parameters.\n",
    "\n"
   ]
  },
  {
   "cell_type": "code",
   "execution_count": null,
   "metadata": {
    "collapsed": true
   },
   "outputs": [],
   "source": []
  }
 ],
 "metadata": {
  "kernelspec": {
   "display_name": "Bash",
   "language": "bash",
   "name": "bash"
  },
  "language_info": {
   "codemirror_mode": "shell",
   "file_extension": ".sh",
   "mimetype": "text/x-sh",
   "name": "bash"
  }
 },
 "nbformat": 4,
 "nbformat_minor": 2
}
