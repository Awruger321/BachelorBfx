{
 "cells": [
  {
   "cell_type": "markdown",
   "metadata": {
    "deletable": true,
    "editable": true
   },
   "source": [
    "# COO4 Pipeline building\n",
    "\n",
    "Goal: Create a pipeline that combines the analysis from the previous days.\n"
   ]
  },
  {
   "cell_type": "markdown",
   "metadata": {},
   "source": [
    "<img src=\"https://www.sevenbridges.com/wp-content/uploads/2017/07/2017-04-28-2.gif\">"
   ]
  },
  {
   "cell_type": "markdown",
   "metadata": {},
   "source": [
    "## Objective\n",
    "Your pipeline should include the following steps:\n",
    "* Mapping\n",
    " - BWA MEM\n",
    " - Samtools sort\n",
    " - Picard dedup\n",
    " - Add read groups\n",
    "* SNP / INDEL calling\n",
    " - HaplotypeCaller\n",
    "\n",
    "-----\n",
    "\n",
    "* Optional\n",
    " - Filter SNPS and Indels\n",
    " - Annotate variants\n",
    " - Find/make a CWL for the SV tools"
   ]
  },
  {
   "cell_type": "markdown",
   "metadata": {},
   "source": [
    "## Step 1\n",
    "Download and install Rabix composer\n",
    "http://rabix.io/\n"
   ]
  },
  {
   "cell_type": "markdown",
   "metadata": {},
   "source": [
    "## Step 2\n",
    "Download the CWL pipelines to your computer (use the notebook download options)\n"
   ]
  },
  {
   "cell_type": "markdown",
   "metadata": {
    "deletable": true,
    "editable": true
   },
   "source": [
    "## Step 3\n",
    "Load the CWL into Rabix\n",
    "Look at the input parameteres required for this step\n"
   ]
  },
  {
   "cell_type": "markdown",
   "metadata": {
    "deletable": true,
    "editable": true
   },
   "source": [
    "## Step 4\n",
    "- Adjust the settings file \"settings_template.json\" to point to the right locations of the files.\n",
    "- These are the same locations as used in the previous exercises\n",
    "- Run the workflow"
   ]
  },
  {
   "cell_type": "code",
   "execution_count": null,
   "metadata": {
    "collapsed": false
   },
   "outputs": [],
   "source": [
    "# Test run rabix on your instance\n",
    "!$RABIX --no-container wes_map_process-cwl.cwl job-wes.json"
   ]
  },
  {
   "cell_type": "code",
   "execution_count": null,
   "metadata": {
    "collapsed": true
   },
   "outputs": [],
   "source": [
    "# Now run rabix with your CWL and your settings\n",
    "!$RABIX --no-container your.cwl settings.json"
   ]
  },
  {
   "cell_type": "markdown",
   "metadata": {
    "collapsed": true,
    "deletable": true,
    "editable": true
   },
   "source": [
    "## Step 5\n",
    "Add the other steps (specified above) to the workflow and connect the components\n"
   ]
  },
  {
   "cell_type": "markdown",
   "metadata": {},
   "source": [
    "## Step 6 \n",
    "- Upload your complete CWL to the notebook\n",
    "- Edit your seetings_template.json to point to all the files needed\n",
    "- Run the pipeline on WES data"
   ]
  },
  {
   "cell_type": "code",
   "execution_count": null,
   "metadata": {
    "collapsed": true
   },
   "outputs": [],
   "source": [
    "# Run the complete pipline\n",
    "!rabix "
   ]
  },
  {
   "cell_type": "markdown",
   "metadata": {
    "deletable": true,
    "editable": true
   },
   "source": [
    "## Step 7\n",
    "Now adjust your settings file (json) to run the complete pipeline on the WGS data"
   ]
  },
  {
   "cell_type": "code",
   "execution_count": null,
   "metadata": {
    "collapsed": true
   },
   "outputs": [],
   "source": []
  }
 ],
 "metadata": {
  "kernelspec": {
   "display_name": "Python 3",
   "language": "python",
   "name": "python3"
  },
  "language_info": {
   "codemirror_mode": {
    "name": "ipython",
    "version": 3
   },
   "file_extension": ".py",
   "mimetype": "text/x-python",
   "name": "python",
   "nbconvert_exporter": "python",
   "pygments_lexer": "ipython3",
   "version": "3.6.2"
  }
 },
 "nbformat": 4,
 "nbformat_minor": 2
}
